{
 "cells": [
  {
   "cell_type": "markdown",
   "metadata": {},
   "source": [
    "# AIBECS beta-test\n",
    "\n",
    "Welcome to the beta test of the AIBECS!\n",
    "Well, we are not sure about the name yet, but as of now, AIBECS stands for the **Algebraic Implicit Biogeochemistry Elemental-Cycling System**.\n",
    "AIBECS may be pronounced like the cool [ibex](https://en.wikipedia.org/wiki/Ibex) (if you have a french accent).\n",
    "AIBECS is a new software written in [Julia](https://julialang.org) to easily create some marine biogeochmistry models in just a few commands.\n",
    "\n",
    "*AIBECS is developed primarily by Benoît Pasquier (pasquieb@uci.edu) with the help of François Primeau (fprimeau@uci.edu) and J. Keith Moore (jkmoore@uci.edu).*"
   ]
  },
  {
   "cell_type": "markdown",
   "metadata": {},
   "source": [
    "**Wait, I'm confused... What is AIBECS exactly?**\n",
    "\n",
    "AIBECS is not just a single model.\n",
    "It's a **system** that allows you to create a global steady-state biogeochmistry model with just a few simple commands.\n",
    "Basically, you just need to tell AIBECS\n",
    "- (i) which ocean circulation to use (from simple toy models of just a few boxes to more complicated global models of the circulation),\n",
    "- (ii) what elements you want to model/track and how each tracer gets converted into other tracers, and\n",
    "- (iii) chose some model parameters to start with.\n",
    "Once the model is set up, you can run simulations."
   ]
  },
  {
   "cell_type": "markdown",
   "metadata": {},
   "source": [
    "**\"Algebraic\", \"implicit\", what do these mean? I thought I was doing some oceanography today...**\n",
    "\n",
    "Well, AIBECS relies on many tools from linear algebra to run simulations and perform optimizations really fast.\n",
    "AIBECS-generated models are described by a state function, denoted $\\boldsymbol{F}$, which defines how the concnetrations of elements in the ocean evolve with time.\n",
    "In mathematical terms, this translates to a system of nonlinear differential equations with the generic form \n",
    "\n",
    "$$\\frac{\\partial \\boldsymbol{x}}{\\partial t} = \\boldsymbol{F}(\\boldsymbol{x}, \\boldsymbol{p}),$$\n",
    "\n",
    "where $\\boldsymbol{x}$ is the state of the model (i.e., the concentrations of the tracers), and $\\boldsymbol{p}$ are model parameters.\n",
    "Here, we are interested in the equilibrium of the system (AKA the steady-state).\n",
    "That is when the time-derivative is $0$, so that\n",
    "\n",
    "$$\\boldsymbol{F}(\\boldsymbol{x}, \\boldsymbol{p}) = 0,$$\n",
    "\n",
    "and $\\boldsymbol{x}$ does not change with time.\n",
    "Instead of simulating the evolution of $\\boldsymbol{x}$ with time and waiting for the system to reach equilibrium — like most biogeochemistry models do — AIBECS uses linear algebra techniques, like Newton's method in multiple dimensions, or Krylov spaces, to implicitly solve for the steady-state solution, hence the \"algebraic\" and \"implicit\" names.\n",
    "This makes AIBECS much faster than the competition!\n",
    "Note again that we are not set on the name of the software yet, so if you have a good idea, don't hesitate to share it with us!"
   ]
  },
  {
   "cell_type": "markdown",
   "metadata": {},
   "source": [
    "## OK, enought words, show me some AIBECS action!\n",
    "\n",
    "First things first, we must tell Julia that we want to use the package:"
   ]
  },
  {
   "cell_type": "code",
   "execution_count": 1,
   "metadata": {},
   "outputs": [
    {
     "name": "stderr",
     "output_type": "stream",
     "text": [
      "┌ Info: Recompiling stale cache file /Users/lorencalle/.julia/compiled/v1.1/TransportMatrixTools/6EUXl.ji for TransportMatrixTools [3487739c-c12e-11e8-1d55-2958ce19ee2a]\n",
      "└ @ Base loading.jl:1184\n",
      "┌ Warning: Error requiring Unitful from Flatten:\n",
      "│ ArgumentError: Package Flatten does not have Unitful in its dependencies:\n",
      "│ - If you have Flatten checked out for development and have\n",
      "│   added Unitful as a dependency but haven't updated your primary\n",
      "│   environment's manifest file, try `Pkg.resolve()`.\n",
      "│ - Otherwise you may need to report an issue with Flatten\n",
      "│ Stacktrace:\n",
      "│  [1] require(::Module, ::Symbol) at ./loading.jl:836\n",
      "│  [2] top-level scope at /Users/lorencalle/.julia/packages/Flatten/AXBiq/src/Flatten.jl:21\n",
      "│  [3] eval at ./boot.jl:328 [inlined]\n",
      "│  [4] eval at /Users/lorencalle/.julia/packages/Flatten/AXBiq/src/Flatten.jl:1 [inlined]\n",
      "│  [5] (::getfield(Flatten, Symbol(\"##3#6\")))() at /Users/lorencalle/.julia/packages/Requires/9Jse8/src/require.jl:67\n",
      "│  [6] err(::getfield(Flatten, Symbol(\"##3#6\")), ::Module, ::String) at /Users/lorencalle/.julia/packages/Requires/9Jse8/src/require.jl:38\n",
      "│  [7] #2 at /Users/lorencalle/.julia/packages/Requires/9Jse8/src/require.jl:66 [inlined]\n",
      "│  [8] withpath(::getfield(Flatten, Symbol(\"##2#5\")), ::String) at /Users/lorencalle/.julia/packages/Requires/9Jse8/src/require.jl:28\n",
      "│  [9] #1 at /Users/lorencalle/.julia/packages/Requires/9Jse8/src/require.jl:65 [inlined]\n",
      "│  [10] listenpkg(::getfield(Flatten, Symbol(\"##1#4\")), ::Base.PkgId) at /Users/lorencalle/.julia/packages/Requires/9Jse8/src/require.jl:13\n",
      "│  [11] macro expansion at /Users/lorencalle/.julia/packages/Requires/9Jse8/src/require.jl:64 [inlined]\n",
      "│  [12] __init__() at /Users/lorencalle/.julia/packages/Flatten/AXBiq/src/Flatten.jl:20\n",
      "│  [13] _include_from_serialized(::String, ::Array{Any,1}) at ./loading.jl:633\n",
      "│  [14] _require_search_from_serialized(::Base.PkgId, ::String) at ./loading.jl:713\n",
      "│  [15] _tryrequire_from_serialized(::Base.PkgId, ::UInt64, ::Nothing) at ./loading.jl:648\n",
      "│  [16] _require_from_serialized(::String) at ./loading.jl:679\n",
      "│  [17] _require(::Base.PkgId) at ./loading.jl:967\n",
      "│  [18] require(::Base.PkgId) at ./loading.jl:858\n",
      "│  [19] require(::Module, ::Symbol) at ./loading.jl:853\n",
      "│  [20] top-level scope at In[1]:1\n",
      "│  [21] eval at ./boot.jl:328 [inlined]\n",
      "│  [22] softscope_include_string(::Module, ::String, ::String) at /Users/lorencalle/.julia/packages/SoftGlobalScope/cSbw5/src/SoftGlobalScope.jl:218\n",
      "│  [23] execute_request(::ZMQ.Socket, ::IJulia.Msg) at /Users/lorencalle/.julia/packages/IJulia/gI2uA/src/execute_request.jl:67\n",
      "│  [24] #invokelatest#1 at ./essentials.jl:742 [inlined]\n",
      "│  [25] invokelatest at ./essentials.jl:741 [inlined]\n",
      "│  [26] eventloop(::ZMQ.Socket) at /Users/lorencalle/.julia/packages/IJulia/gI2uA/src/eventloop.jl:8\n",
      "│  [27] (::getfield(IJulia, Symbol(\"##15#18\")))() at ./task.jl:259\n",
      "└ @ Requires /Users/lorencalle/.julia/packages/Requires/9Jse8/src/require.jl:40\n"
     ]
    }
   ],
   "source": [
    "using TransportMatrixTools"
   ]
  },
  {
   "cell_type": "markdown",
   "metadata": {},
   "source": [
    "If it's the first time you are running this line, the package will be precompiled. \n",
    "This may take a minute or two.\n",
    "Just be patient :)\n",
    "You might also see some warnings, just disregard those...\n",
    "If you get an error though, this is the end of our adventure for now...\n",
    "Please send me a copy of the output/error message, and I will try to troubleshoot it.\n",
    "(Note the `Error requiring Unitful from Flatten` is actually a warning, not an error, so you should be fine if that's the only thing you see.)\n",
    "\n",
    "### Set up a model\n",
    "\n",
    "Let's start with a very simple model.\n",
    "We will simulate the ideal mean age of water.\n",
    "That is, the average amount of time since a water parcel had last contact with the surface.\n",
    "Here the \"surface\" will be the top layer of the model grid.\n",
    "So, we have one tracer, the age, which we will denote by `age` in Julia.\n",
    "But before diving into the equations, let us chose the circulation. "
   ]
  },
  {
   "cell_type": "markdown",
   "metadata": {},
   "source": [
    "#### The circulation\n",
    "\n",
    "We will use the circulation output from the Ocean Circulation Inverse Model (OCIM) version 1.1.\n",
    "Basically, the OCIM provides scientists, like you and me, with a big sparse matrix that represents the global ocean circulation (advection and diffusion).\n",
    "(For more details, see Tim DeVries's [website](https://tdevries.eri.ucsb.edu/models-and-data-products/) and references therein.)\n",
    "With AIBECS, the OCIM circulation can be loaded really easily, by simply typing "
   ]
  },
  {
   "cell_type": "code",
   "execution_count": 2,
   "metadata": {},
   "outputs": [
    {
     "name": "stdout",
     "output_type": "stream",
     "text": [
      "loading OCIM1 with JLD2\n",
      "This program has requested access to the data dependency MatricesForJAMES.\n",
      "which is not currently installed. It can be installed automatically, and you will not see this message again.\n",
      "\n",
      "References:\n",
      "- DeVries, T. (2014), The oceanic anthropogenic CO2 sink: Storage, air‐sea fluxes, and transports over the industrial era, Global Biogeochem. Cycles, 28, 631–647, doi:10.1002/2013GB004739.\n",
      "- DeVries, T. and F. Primeau, 2011: Dynamically and Observationally Constrained Estimates of Water-Mass Distributions and Ages in the Global Ocean. J. Phys. Oceanogr., 41, 2381–2401, https://doi.org/10.1175/JPO-D-10-05011.1\n",
      "\n",
      "\n",
      "\n",
      "Do you want to download the dataset from http://files.figshare.com/14330492/OCIM1_CTL.jld2 to \"/Users/lorencalle/.julia/datadeps/MatricesForJAMES\"?\n",
      "[y/n]\n"
     ]
    },
    {
     "name": "stdin",
     "output_type": "stream",
     "text": [
      "stdin>  y\n"
     ]
    },
    {
     "name": "stderr",
     "output_type": "stream",
     "text": [
      "  % Total    % Received % Xferd  Average Speed   Time    Time     Time  Current\n",
      "                                 Dload  Upload   Total   Spent    Left  Speed\n",
      "100   178  100   178    0     0    116      0  0:00:01  0:00:01 --:--:--   116\n",
      "  0     0    0     0    0     0      0      0 --:--:--  0:00:03 --:--:--     0\n",
      "100  388M  100  388M    0     0  1904k      0  0:03:28  0:03:28 --:--:-- 3213k\n",
      "┌ Warning: Checksum not provided, add to the Datadep Registration the following hash line\n",
      "│   hash = \"345dc8a49445d02091cfe06818bc4ee617bf33dee7f8d92f298c26ed74d84684\"\n",
      "└ @ DataDeps /Users/lorencalle/.julia/packages/DataDeps/LiEdA/src/verification.jl:44\n"
     ]
    }
   ],
   "source": [
    "const wet3d, grd, T_OCIM = TransportMatrixTools.OCIM1.load() ;"
   ]
  },
  {
   "cell_type": "markdown",
   "metadata": {},
   "source": [
    "(We use the `const` prefix to tell Julia these are constants — it makes Julia faster!)\n",
    "Julia may ask you to download the OCIM matrix for you, in which case you should say yes (i.e., type `y`).\n",
    "Once downloaded, TransportMatrixTools will remember where it downloaded the file and it will only load it from your laptop.\n",
    "Additionally to downloading the OCIM file, the last command loads 3 variables in the Julia workspace:\n",
    "- `grd` contains information about the 3D grid of the OCIM circulation, like the latitude, longitude, and depth of each grid boxes. `grd` is a dictionary (a `Dict` in Julia, equivalent to a `struct` in MATLAB).\n",
    "- `wet3d` is a 3D array of the model grid, filled with `1`'s at \"wet\" grid boxes and `0`'s and \"land\" grid boxes.\n",
    "- `T_OCIM` is the transport matrix representing advection and diffusion.\n",
    "\n",
    "Let's check that `T_OCIM` is what we think it is, by using the `typeof` command (which tells you, well, the \"type\" of things):"
   ]
  },
  {
   "cell_type": "code",
   "execution_count": 3,
   "metadata": {},
   "outputs": [
    {
     "data": {
      "text/plain": [
       "SparseMatrixCSC{Float64,Int64}"
      ]
     },
     "execution_count": 3,
     "metadata": {},
     "output_type": "execute_result"
    }
   ],
   "source": [
    "typeof(T_OCIM)"
   ]
  },
  {
   "cell_type": "markdown",
   "metadata": {},
   "source": [
    "Great, it's a sparse matrix! (CSC just means that it is stored in Compressed Sparse Column format.) \n",
    "\n",
    "We can get its size with the `size` command:"
   ]
  },
  {
   "cell_type": "code",
   "execution_count": 4,
   "metadata": {},
   "outputs": [
    {
     "data": {
      "text/plain": [
       "(200160, 200160)"
      ]
     },
     "execution_count": 4,
     "metadata": {},
     "output_type": "execute_result"
    }
   ],
   "source": [
    "size(T_OCIM)"
   ]
  },
  {
   "cell_type": "markdown",
   "metadata": {},
   "source": [
    "Yes, it's quite a big matrix!\n",
    "(But it is sparse, so it has very few non-zero entries.)\n",
    "\n",
    "Anyway, this looks good, so let's move on with setting up the model!\n",
    "\n",
    "The state of the model, $\\boldsymbol{x}$, is entirely defined by one tracer: the age (denoted by the `age` variable). \n",
    "The age is transported along with water parcels, so its transport matrix is the ocean circulation matrix that we just loaded: `T_OCIM`.\n",
    "We tell AIBECS that by first writing the transport matrix for the age as a function of the parameters (although there are no parameters in this simple model)."
   ]
  },
  {
   "cell_type": "code",
   "execution_count": 5,
   "metadata": {},
   "outputs": [
    {
     "data": {
      "text/plain": [
       "T_age (generic function with 1 method)"
      ]
     },
     "execution_count": 5,
     "metadata": {},
     "output_type": "execute_result"
    }
   ],
   "source": [
    "T_age(p) = T_OCIM"
   ]
  },
  {
   "cell_type": "markdown",
   "metadata": {},
   "source": [
    "(Functions in Julia can be created in one line, just as above.)"
   ]
  },
  {
   "cell_type": "markdown",
   "metadata": {},
   "source": [
    "#### The local sources and sinks\n",
    "\n",
    "Now what are the local sources and sinks of `age`?\n",
    "The age increases by $1$ second every second and everywhere.\n",
    "So its source is $1$ (seconds per seconds means it is unitless) everywhere.\n",
    "Thus let us create the local source function: "
   ]
  },
  {
   "cell_type": "code",
   "execution_count": 6,
   "metadata": {},
   "outputs": [
    {
     "data": {
      "text/plain": [
       "source_age (generic function with 1 method)"
      ]
     },
     "execution_count": 6,
     "metadata": {},
     "output_type": "execute_result"
    }
   ],
   "source": [
    "source_age(age, p) = 1"
   ]
  },
  {
   "cell_type": "markdown",
   "metadata": {},
   "source": [
    "\n",
    "The age is also $0$ at the surface.\n",
    "To enforce that, we restore the age very fast to $0$ at the surface. \n",
    "This will act as the sink for the age.\n",
    "But first, we need to figure out where \"the surface\" is.\n",
    "To do that, AIBECS can generate a number of useful constants for you, like the vector of depths, `z`. \n",
    "This is done via"
   ]
  },
  {
   "cell_type": "code",
   "execution_count": 7,
   "metadata": {},
   "outputs": [],
   "source": [
    "const nb, DIV, Iabove, v, z, ztop = constants(wet3d, grd) ;"
   ]
  },
  {
   "cell_type": "markdown",
   "metadata": {},
   "source": [
    "These are:\n",
    "\n",
    "- `nb` — the number of wet grid boxes. Here, this is also the length of the state vector `x`, because there is only one tracer, `age`.\n",
    "- `DIV` and `Iabove` — not useful for now, but for your information they are the discrete spatial divergence operator, and a matrix shifting indices to grid boxes above, respectively.\n",
    "- `v` — the vector of grid box volumnes.\n",
    "- `z` — the vector of grid box depths.\n",
    "- `ztop` — the vector of the depths of the top of the grid boxes.\n",
    "\n",
    "We can now create the source for the age (which is `1` everywhere), via"
   ]
  },
  {
   "cell_type": "markdown",
   "metadata": {},
   "source": [
    "So what is the top layer?\n",
    "Let's investigate what's the minimum depth:"
   ]
  },
  {
   "cell_type": "code",
   "execution_count": 8,
   "metadata": {},
   "outputs": [
    {
     "data": {
      "text/plain": [
       "18.0675569520817"
      ]
     },
     "execution_count": 8,
     "metadata": {},
     "output_type": "execute_result"
    }
   ],
   "source": [
    "minimum(z)"
   ]
  },
  {
   "cell_type": "markdown",
   "metadata": {},
   "source": [
    "So the surface layer in the OCIM grid, which is regular (or flat, if you prefer), has its center at about 18m.\n",
    "Hence, we can create a mask of the surface layer via `z < 20`, for example.\n",
    "Then the local sink can be implemented with a fast relaxation, via"
   ]
  },
  {
   "cell_type": "code",
   "execution_count": 9,
   "metadata": {},
   "outputs": [
    {
     "data": {
      "text/plain": [
       "sink_age (generic function with 1 method)"
      ]
     },
     "execution_count": 9,
     "metadata": {},
     "output_type": "execute_result"
    }
   ],
   "source": [
    "function sink_age(age, p)\n",
    "    τ = p.τ\n",
    "    return age .* (z .< 20) / τ\n",
    "end"
   ]
  },
  {
   "cell_type": "markdown",
   "metadata": {},
   "source": [
    "(Julia allows you to use unicode for your functions and variables, like for `τ`.)\n",
    "Here, we have defined a Julia function using the `function` keyword because the sink is a bit more complicated, so that we needed two lines to define it.\n",
    "The first line unpacks the model parameters, which is just `τ` in this case.\n",
    "We will chose the value for `τ` later.\n",
    "\n",
    "In the function `sink_age`, you might notice that we used a `.` in front of `.*` and `.<`.\n",
    "This is called \"broadcast\" in Julia, and it means it is an element-wise operation.\n",
    "Hence, `sink_age` will be large wherever `age` is large, but only at the surface, which is exactly what we want.\n",
    "\n",
    "Now the sources minus the sinks is simply defined by"
   ]
  },
  {
   "cell_type": "code",
   "execution_count": 10,
   "metadata": {},
   "outputs": [
    {
     "data": {
      "text/plain": [
       "sms_age (generic function with 1 method)"
      ]
     },
     "execution_count": 10,
     "metadata": {},
     "output_type": "execute_result"
    }
   ],
   "source": [
    "sms_age(age, p) = source_age(age, p) .- sink_age(age, p)"
   ]
  },
  {
   "cell_type": "markdown",
   "metadata": {},
   "source": [
    "Finally, the last step for the set up is to define $\\boldsymbol{F}$.\n",
    "Using AIBECS, this is done via"
   ]
  },
  {
   "cell_type": "code",
   "execution_count": 11,
   "metadata": {},
   "outputs": [
    {
     "data": {
      "text/plain": [
       "(getfield(TransportMatrixTools, Symbol(\"#F#21\")){getfield(TransportMatrixTools, Symbol(\"#T#17\")){Tuple{typeof(T_age)}},getfield(TransportMatrixTools, Symbol(\"#G#19\")){Tuple{typeof(sms_age)},getfield(TransportMatrixTools, Symbol(\"#tracers#15\")){Int64,Int64}}}(getfield(TransportMatrixTools, Symbol(\"#T#17\")){Tuple{typeof(T_age)}}((T_age,)), getfield(TransportMatrixTools, Symbol(\"#G#19\")){Tuple{typeof(sms_age)},getfield(TransportMatrixTools, Symbol(\"#tracers#15\")){Int64,Int64}}((sms_age,), getfield(TransportMatrixTools, Symbol(\"#tracers#15\")){Int64,Int64}(1, 200160))), getfield(TransportMatrixTools, Symbol(\"#∇ₓF#23\")){getfield(TransportMatrixTools, Symbol(\"#T#17\")){Tuple{typeof(T_age)}},getfield(TransportMatrixTools, Symbol(\"#∇ₓG#22\")){Tuple{typeof(sms_age)},Int64,Int64}}(getfield(TransportMatrixTools, Symbol(\"#T#17\")){Tuple{typeof(T_age)}}((T_age,)), getfield(TransportMatrixTools, Symbol(\"#∇ₓG#22\")){Tuple{typeof(sms_age)},Int64,Int64}((sms_age,), 1, 200160)))"
      ]
     },
     "execution_count": 11,
     "metadata": {},
     "output_type": "execute_result"
    }
   ],
   "source": [
    "nt = 1                           # number of tracers\n",
    "T_matrices = (T_age,)           # bundles all the transport matrices in a tuple\n",
    "sources_minus_sinks = (sms_age,) # bundles all the source-sink functions in a tuple\n",
    "F, ∇ₓF = state_function_and_Jacobian(T_matrices, sources_minus_sinks, nt, nb) # generates the state function (and its Jacobian!)"
   ]
  },
  {
   "cell_type": "markdown",
   "metadata": {},
   "source": [
    "Here we have just created a model of the mean age.\n",
    "The first 3 lines in the cell above are just telling AIBECS\n",
    "- how many tracers there are,\n",
    "- what transport matrices it should use for the transport of these tracers\n",
    "- and what local sources and sinks should be appplied to these tracers\n",
    "(Note that this interface was developed for multiple tracers, and might look like too much here, and I might come around to simplify this part in the case of a single tracer, but as of now, this is what we have to do!)\n",
    "\n",
    "The last line creates two functions, `F`, which is the numerical version of the state function, $\\boldsymbol{F}$, of our model of the mean age, and `∇ₓF`, which is the Jacobian matrix of the state function, i.e., $\\nabla_{\\boldsymbol{x}}\\boldsymbol{F}$.\n",
    "Yes, AIBECS just automatically created an exact derivative of your input, using autodifferentiation via dual numbers.\n",
    "(I'd be very excited to detail how this is implemented here, but it is an entirely different discussion.)\n",
    "\n",
    "The Jacobian, `∇ₓF` is essential to solving the steady-state equation $\\boldsymbol{F}(\\boldsymbol{x}, \\boldsymbol{p}) = 0$ fast.\n",
    "Specifically, solving $\\boldsymbol{F}(\\boldsymbol{x}, \\boldsymbol{p}) = 0$ is done via Newton's method.\n",
    "By starting from an initial guess, that you will have to provide, it will iterate over this recursion relation\n",
    "\n",
    "$$\\boldsymbol{x}_{k+1} = \\boldsymbol{x}_{k} - \\nabla_{\\boldsymbol{x}}\\boldsymbol{F}(\\boldsymbol{x}, \\boldsymbol{p})^{-1} \\boldsymbol{F}(\\boldsymbol{x}, \\boldsymbol{p}) $$\n",
    "\n",
    "until if finds a solution.\n",
    "Now I should note that here, our age model is linear in $x$, so that the solution will be found in a single iteration, or a sinle \"matrix inversion\".\n",
    "\n",
    "Anyway, I am nice, so I wrote up an algorithm and an API to solve for the steady-state, so you don't have to worry about al these details!\n",
    "Before we do so, we must first chose some parameters... And I made an API for that!\n",
    "\n"
   ]
  },
  {
   "cell_type": "code",
   "execution_count": 12,
   "metadata": {},
   "outputs": [],
   "source": [
    "t = empty_parameter_table()    # initialize table of parameters\n",
    "add_parameter!(t, :τ, 1u\"s\")   # add the parameter we want (τ = 1s)\n",
    "initialize_parameter_type(t)   # Generate the parameter type"
   ]
  },
  {
   "cell_type": "markdown",
   "metadata": {},
   "source": [
    "The lines above created a table that contains all the info for my parameters, and a corresponding parameter vector, `p₀`. \n",
    "Let us have a look at the table `t` and the parameter `p₀`"
   ]
  },
  {
   "cell_type": "code",
   "execution_count": 14,
   "metadata": {},
   "outputs": [
    {
     "data": {
      "text/html": [
       "<table class=\"data-frame\"><thead><tr><th></th><th>symbol</th><th>value</th><th>unit</th><th>printunit</th><th>mean_obs</th><th>variance_obs</th><th>optimizable</th><th>description</th><th>LaTeX</th></tr><tr><th></th><th>Symbol</th><th>Float64</th><th>Unitful…</th><th>Unitful…</th><th>Float64</th><th>Float64</th><th>Bool</th><th>String</th><th>String</th></tr></thead><tbody><p>1 rows × 9 columns</p><tr><th>1</th><td>τ</td><td>1.0</td><td>s</td><td>s</td><td>NaN</td><td>NaN</td><td>false</td><td></td><td></td></tr></tbody></table>"
      ],
      "text/latex": [
       "\\begin{tabular}{r|ccccccccc}\n",
       "\t& symbol & value & unit & printunit & mean\\_obs & variance\\_obs & optimizable & description & LaTeX\\\\\n",
       "\t\\hline\n",
       "\t& Symbol & Float64 & Unitful… & Unitful… & Float64 & Float64 & Bool & String & String\\\\\n",
       "\t\\hline\n",
       "\t1 & τ & 1.0 & s & s & NaN & NaN & false &  &  \\\\\n",
       "\\end{tabular}\n"
      ],
      "text/plain": [
       "1×9 DataFrames.DataFrame. Omitted printing of 3 columns\n",
       "│ Row │ symbol │ value   │ unit     │ printunit │ mean_obs │ variance_obs │\n",
       "│     │ \u001b[90mSymbol\u001b[39m │ \u001b[90mFloat64\u001b[39m │ \u001b[90mUnitful…\u001b[39m │ \u001b[90mUnitful…\u001b[39m  │ \u001b[90mFloat64\u001b[39m  │ \u001b[90mFloat64\u001b[39m      │\n",
       "├─────┼────────┼─────────┼──────────┼───────────┼──────────┼──────────────┤\n",
       "│ 1   │ τ      │ 1.0     │ s        │ s         │ NaN      │ NaN          │"
      ]
     },
     "execution_count": 14,
     "metadata": {},
     "output_type": "execute_result"
    }
   ],
   "source": [
    "t"
   ]
  },
  {
   "cell_type": "code",
   "execution_count": 15,
   "metadata": {},
   "outputs": [
    {
     "data": {
      "text/plain": [
       "     τ = 1.00e+00 [s] (fixed)\n"
      ]
     },
     "execution_count": 15,
     "metadata": {},
     "output_type": "execute_result"
    },
    {
     "name": "stdout",
     "output_type": "stream",
     "text": [
      "TransportMatrixTools.Para{Float64}\n"
     ]
    }
   ],
   "source": [
    "p₀"
   ]
  },
  {
   "cell_type": "markdown",
   "metadata": {},
   "source": [
    "Here I did not really need to create `p₀` as a parameters vector.\n",
    "But we are here to learn, and this structure and functionality comes in very handy when one deals with many parameters.\n",
    "(As you can imagine, having all the parameters in a nice table ready for being used in a publication comes quite handy!)\n",
    "\n",
    "Anyway, now let's finish our model, and set an initial guess for the age.\n",
    "Let's assume the age is `1` (seconds) everywhere ():"
   ]
  },
  {
   "cell_type": "code",
   "execution_count": 16,
   "metadata": {},
   "outputs": [
    {
     "data": {
      "text/plain": [
       "200160-element Array{Float64,1}:\n",
       " 1.0\n",
       " 1.0\n",
       " 1.0\n",
       " 1.0\n",
       " 1.0\n",
       " 1.0\n",
       " 1.0\n",
       " 1.0\n",
       " 1.0\n",
       " 1.0\n",
       " 1.0\n",
       " 1.0\n",
       " 1.0\n",
       " ⋮  \n",
       " 1.0\n",
       " 1.0\n",
       " 1.0\n",
       " 1.0\n",
       " 1.0\n",
       " 1.0\n",
       " 1.0\n",
       " 1.0\n",
       " 1.0\n",
       " 1.0\n",
       " 1.0\n",
       " 1.0"
      ]
     },
     "execution_count": 16,
     "metadata": {},
     "output_type": "execute_result"
    }
   ],
   "source": [
    "x₀ = ones(nb)"
   ]
  },
  {
   "cell_type": "markdown",
   "metadata": {},
   "source": [
    "the `ones` function creates a vector of `1`s of the size you give it (the number of wet grid boxes, `nb`, here).\n",
    "\n",
    "### Run the simulation, i.e., solve for the steady state\n",
    "\n",
    "First, we create an instance of the steady-state problem, via"
   ]
  },
  {
   "cell_type": "code",
   "execution_count": 17,
   "metadata": {},
   "outputs": [
    {
     "data": {
      "text/plain": [
       "SteadyStateProblem with uType Array{Float64,1}\n",
       "u0: [1.0, 1.0, 1.0, 1.0, 1.0, 1.0, 1.0, 1.0, 1.0, 1.0  …  1.0, 1.0, 1.0, 1.0, 1.0, 1.0, 1.0, 1.0, 1.0, 1.0]"
      ]
     },
     "execution_count": 17,
     "metadata": {},
     "output_type": "execute_result"
    }
   ],
   "source": [
    "prob = SteadyStateProblem(F, ∇ₓF, x₀, p₀)"
   ]
  },
  {
   "cell_type": "markdown",
   "metadata": {},
   "source": [
    "where we have simply provided the state function, $\\boldsymbol{F}$, the Jacobian, $\\nabla_{\\boldsymbol{x}}\\boldsymbol{F}$, the initial guess and the parameters.\n",
    "The `SteadyStateProblem` function is a standard \"DiffEqBase\" constructor that I have overloaded in my package so that you can easily generate the model here.\n",
    "\n",
    "Finally, we can find the solution in litterally one line, via the `solve` function:"
   ]
  },
  {
   "cell_type": "code",
   "execution_count": 18,
   "metadata": {},
   "outputs": [
    {
     "data": {
      "text/plain": [
       "u: 200160-element Array{Float64,1}:\n",
       "  399.46814547100905     \n",
       " 2241.017273529226       \n",
       "  569.8178412438034      \n",
       "  102.84590560936934     \n",
       "  557.0875596657697      \n",
       "  340.07798303643784     \n",
       "  448.4099283263085      \n",
       "  510.25015675812796     \n",
       "  295.67236653671443     \n",
       "  340.05521520305354     \n",
       " 1504.08644453927        \n",
       " 2903.2540430501226      \n",
       "  664.5441745745363      \n",
       "    ⋮                    \n",
       "    1.0626342672885157e10\n",
       "    1.0574893419940636e10\n",
       "    1.0670457253167511e10\n",
       "    1.0557301693930727e10\n",
       "    1.0436848988883375e10\n",
       "    1.0739651723277557e10\n",
       "    1.0633121294493942e10\n",
       "    1.0486088680482176e10\n",
       "    1.0248016153142239e10\n",
       "    1.063179893659304e10 \n",
       "    1.053385700680795e10 \n",
       "    1.0420308209358833e10"
      ]
     },
     "execution_count": 18,
     "metadata": {},
     "output_type": "execute_result"
    }
   ],
   "source": [
    "age = solve(prob, CTKAlg())"
   ]
  },
  {
   "cell_type": "markdown",
   "metadata": {},
   "source": [
    "Here, I have provided the `solve` function with two things:\n",
    "- the problem, `prob`, which we just defined, and\n",
    "- the quasi-Newton algorithm that I wrote in Julia, denoted by `CTKAlg()` after C.T. Kelley, who originally wrote it in MATLAB.\n",
    "\n",
    "The last line should take about 10 seconds to 1 minute, depending on your laptop.\n",
    "That's it! \n",
    "We solved for the steady state!\n",
    "Everyone here deserves a nice tap on the shoulder — Good job!\n",
    "Now let's see what this age looks like on a map\n",
    "\n",
    "### Make some figures\n",
    "\n",
    "We will plot a horizontal slice of the age at about 1000m depth.\n",
    "\n",
    "But first, to make figures, we must use a plotting package that you should have `add`ed if you went through the README.\n",
    "To use, it we simply do"
   ]
  },
  {
   "cell_type": "code",
   "execution_count": 20,
   "metadata": {},
   "outputs": [
    {
     "name": "stderr",
     "output_type": "stream",
     "text": [
      "┌ Info: Precompiling Plots [91a5bcdd-55d7-5caf-9e0b-520d859cae80]\n",
      "└ @ Base loading.jl:1186\n"
     ]
    }
   ],
   "source": [
    "using Plots"
   ]
  },
  {
   "cell_type": "markdown",
   "metadata": {},
   "source": [
    "Now we must take `age`, and rearrange it into its 3d grid.\n",
    "For that we create `iwet`, the indices of wet points in the 3D grid."
   ]
  },
  {
   "cell_type": "code",
   "execution_count": 19,
   "metadata": {},
   "outputs": [
    {
     "data": {
      "text/plain": [
       "200160-element Array{Int64,1}:\n",
       "     10\n",
       "     11\n",
       "     12\n",
       "     13\n",
       "     14\n",
       "     15\n",
       "     16\n",
       "     17\n",
       "     18\n",
       "     19\n",
       "     20\n",
       "     21\n",
       "     22\n",
       "      ⋮\n",
       " 390359\n",
       " 390448\n",
       " 390449\n",
       " 390450\n",
       " 390451\n",
       " 390539\n",
       " 390540\n",
       " 390541\n",
       " 390542\n",
       " 390630\n",
       " 390631\n",
       " 390632"
      ]
     },
     "execution_count": 19,
     "metadata": {},
     "output_type": "execute_result"
    }
   ],
   "source": [
    "iwet = (LinearIndices(wet3d))[findall(!iszero, wet3d)] "
   ]
  },
  {
   "cell_type": "markdown",
   "metadata": {},
   "source": [
    "We can now rearrange `age` in these few lines of code:"
   ]
  },
  {
   "cell_type": "code",
   "execution_count": 22,
   "metadata": {},
   "outputs": [
    {
     "data": {
      "text/plain": [
       "(91, 180, 24)"
      ]
     },
     "execution_count": 22,
     "metadata": {},
     "output_type": "execute_result"
    }
   ],
   "source": [
    "age_3D = NaN * wet3d\n",
    "age_3D[iwet] = age\n",
    "size(age_3D)"
   ]
  },
  {
   "cell_type": "markdown",
   "metadata": {},
   "source": [
    "Thus, `age_3D` is a 3D-array of which I just showed you the size, which corresponds to the OCIM grid.\n",
    "\n",
    "Now we must find the index of the depth that is closest to 1000m.\n",
    "To do that we must use the depth information contained in `grd`.\n",
    "Let us first create a small vector of the depths of the grid:"
   ]
  },
  {
   "cell_type": "code",
   "execution_count": 26,
   "metadata": {},
   "outputs": [
    {
     "data": {
      "text/plain": [
       "24-element Array{Float64,1}:\n",
       "   18.0675569520817 \n",
       "   54.76728201099765\n",
       "   93.72545168892381\n",
       "  137.2005106048704 \n",
       "  187.45090337784762\n",
       "  246.7350746268657 \n",
       "  317.3114689709348 \n",
       "  401.4385310290652 \n",
       "  501.3747054202671 \n",
       "  619.3784367635507 \n",
       "  757.7081696779262 \n",
       "  918.6223487824038 \n",
       " 1104.3794186959938 \n",
       " 1317.2378240377063 \n",
       " 1559.4560094265516 \n",
       " 1833.2924194815398 \n",
       " 2141.005498821681  \n",
       " 2484.853692065986  \n",
       " 2867.0954438334643 \n",
       " 3289.9891987431265 \n",
       " 3755.793401413983  \n",
       " 4266.766496465043  \n",
       " 4825.166928515318  \n",
       " 5433.2531421838175 "
      ]
     },
     "execution_count": 26,
     "metadata": {},
     "output_type": "execute_result"
    }
   ],
   "source": [
    "depth = vec(grd[\"zt\"])"
   ]
  },
  {
   "cell_type": "markdown",
   "metadata": {},
   "source": [
    "So we could count the index of the entry we want, or we could use the `findfirst` function, like below.\n",
    "(Feel free to change the value of `iz` if you want to see a slice at another depth.)"
   ]
  },
  {
   "cell_type": "code",
   "execution_count": 29,
   "metadata": {},
   "outputs": [
    {
     "data": {
      "text/plain": [
       "(13, 1104.3794186959938)"
      ]
     },
     "execution_count": 29,
     "metadata": {},
     "output_type": "execute_result"
    }
   ],
   "source": [
    "iz = findfirst(depth .> 1000)\n",
    "iz, depth[iz]"
   ]
  },
  {
   "cell_type": "markdown",
   "metadata": {},
   "source": [
    "So the 13-th layer lies at 1104m, which should do the trick for us.\n",
    "\n",
    "Finally, we need the latitude and longitudes of the grid, contained in `grd`.\n",
    "As for `depth`, we can use the OCIM's `grd` output:"
   ]
  },
  {
   "cell_type": "code",
   "execution_count": 30,
   "metadata": {},
   "outputs": [
    {
     "data": {
      "text/plain": [
       "([-89.011, -87.033, -85.0549, -83.0769, -81.0989, -79.1209, -77.1429, -75.1648, -73.1868, -71.2088  …  71.2088, 73.1868, 75.1648, 77.1429, 79.1209, 81.0989, 83.0769, 85.0549, 87.033, 89.011], [1.0, 3.0, 5.0, 7.0, 9.0, 11.0, 13.0, 15.0, 17.0, 19.0  …  341.0, 343.0, 345.0, 347.0, 349.0, 351.0, 353.0, 355.0, 357.0, 359.0])"
      ]
     },
     "execution_count": 30,
     "metadata": {},
     "output_type": "execute_result"
    }
   ],
   "source": [
    "lat, lon = vec(grd[\"yt\"]), vec(grd[\"xt\"])"
   ]
  },
  {
   "cell_type": "markdown",
   "metadata": {},
   "source": [
    "So these are the latitudes and longitudes of the map we are about to plot.\n",
    "\n",
    "Finally! Let's have a look at this ideal mean age!\n",
    "For that, we just use the `heatmap` function.\n",
    "(Note I also convert the age from seconds, `u\"s\"`, to years, `u\"yr\"`, in the process.)"
   ]
  },
  {
   "cell_type": "code",
   "execution_count": 37,
   "metadata": {},
   "outputs": [
    {
     "data": {
      "image/svg+xml": [
       "<?xml version=\"1.0\" encoding=\"utf-8\"?>\n",
       "<svg xmlns=\"http://www.w3.org/2000/svg\" xmlns:xlink=\"http://www.w3.org/1999/xlink\" width=\"600\" height=\"400\" viewBox=\"0 0 2400 1600\">\n",
       "<defs>\n",
       "  <clipPath id=\"clip7800\">\n",
       "    <rect x=\"0\" y=\"0\" width=\"2400\" height=\"1600\"/>\n",
       "  </clipPath>\n",
       "</defs>\n",
       "<polygon clip-path=\"url(#clip7800)\" points=\"\n",
       "0,1600 2400,1600 2400,0 0,0 \n",
       "  \" fill=\"#ffffff\" fill-rule=\"evenodd\" fill-opacity=\"1\"/>\n",
       "<defs>\n",
       "  <clipPath id=\"clip7801\">\n",
       "    <rect x=\"480\" y=\"0\" width=\"1681\" height=\"1600\"/>\n",
       "  </clipPath>\n",
       "</defs>\n",
       "<polygon clip-path=\"url(#clip7800)\" points=\"\n",
       "176.123,1503.47 2081.26,1503.47 2081.26,47.2441 176.123,47.2441 \n",
       "  \" fill=\"#ffffff\" fill-rule=\"evenodd\" fill-opacity=\"1\"/>\n",
       "<defs>\n",
       "  <clipPath id=\"clip7802\">\n",
       "    <rect x=\"176\" y=\"47\" width=\"1906\" height=\"1457\"/>\n",
       "  </clipPath>\n",
       "</defs>\n",
       "<polyline clip-path=\"url(#clip7802)\" style=\"stroke:#000000; stroke-width:2; stroke-opacity:0.1; fill:none\" points=\"\n",
       "  176.123,1503.47 176.123,47.2441 \n",
       "  \"/>\n",
       "<polyline clip-path=\"url(#clip7802)\" style=\"stroke:#000000; stroke-width:2; stroke-opacity:0.1; fill:none\" points=\"\n",
       "  705.328,1503.47 705.328,47.2441 \n",
       "  \"/>\n",
       "<polyline clip-path=\"url(#clip7802)\" style=\"stroke:#000000; stroke-width:2; stroke-opacity:0.1; fill:none\" points=\"\n",
       "  1234.53,1503.47 1234.53,47.2441 \n",
       "  \"/>\n",
       "<polyline clip-path=\"url(#clip7802)\" style=\"stroke:#000000; stroke-width:2; stroke-opacity:0.1; fill:none\" points=\"\n",
       "  1763.74,1503.47 1763.74,47.2441 \n",
       "  \"/>\n",
       "<polyline clip-path=\"url(#clip7802)\" style=\"stroke:#000000; stroke-width:2; stroke-opacity:0.1; fill:none\" points=\"\n",
       "  176.123,1503.47 2081.26,1503.47 \n",
       "  \"/>\n",
       "<polyline clip-path=\"url(#clip7802)\" style=\"stroke:#000000; stroke-width:2; stroke-opacity:0.1; fill:none\" points=\"\n",
       "  176.123,1260.77 2081.26,1260.77 \n",
       "  \"/>\n",
       "<polyline clip-path=\"url(#clip7802)\" style=\"stroke:#000000; stroke-width:2; stroke-opacity:0.1; fill:none\" points=\"\n",
       "  176.123,1018.06 2081.26,1018.06 \n",
       "  \"/>\n",
       "<polyline clip-path=\"url(#clip7802)\" style=\"stroke:#000000; stroke-width:2; stroke-opacity:0.1; fill:none\" points=\"\n",
       "  176.123,775.359 2081.26,775.359 \n",
       "  \"/>\n",
       "<polyline clip-path=\"url(#clip7802)\" style=\"stroke:#000000; stroke-width:2; stroke-opacity:0.1; fill:none\" points=\"\n",
       "  176.123,532.654 2081.26,532.654 \n",
       "  \"/>\n",
       "<polyline clip-path=\"url(#clip7802)\" style=\"stroke:#000000; stroke-width:2; stroke-opacity:0.1; fill:none\" points=\"\n",
       "  176.123,289.949 2081.26,289.949 \n",
       "  \"/>\n",
       "<polyline clip-path=\"url(#clip7802)\" style=\"stroke:#000000; stroke-width:2; stroke-opacity:0.1; fill:none\" points=\"\n",
       "  176.123,47.2441 2081.26,47.2441 \n",
       "  \"/>\n",
       "<polyline clip-path=\"url(#clip7800)\" style=\"stroke:#000000; stroke-width:4; stroke-opacity:1; fill:none\" points=\"\n",
       "  176.123,1503.47 2081.26,1503.47 \n",
       "  \"/>\n",
       "<polyline clip-path=\"url(#clip7800)\" style=\"stroke:#000000; stroke-width:4; stroke-opacity:1; fill:none\" points=\"\n",
       "  176.123,1503.47 176.123,47.2441 \n",
       "  \"/>\n",
       "<polyline clip-path=\"url(#clip7800)\" style=\"stroke:#000000; stroke-width:4; stroke-opacity:1; fill:none\" points=\"\n",
       "  176.123,1503.47 176.123,1481.63 \n",
       "  \"/>\n",
       "<polyline clip-path=\"url(#clip7800)\" style=\"stroke:#000000; stroke-width:4; stroke-opacity:1; fill:none\" points=\"\n",
       "  705.328,1503.47 705.328,1481.63 \n",
       "  \"/>\n",
       "<polyline clip-path=\"url(#clip7800)\" style=\"stroke:#000000; stroke-width:4; stroke-opacity:1; fill:none\" points=\"\n",
       "  1234.53,1503.47 1234.53,1481.63 \n",
       "  \"/>\n",
       "<polyline clip-path=\"url(#clip7800)\" style=\"stroke:#000000; stroke-width:4; stroke-opacity:1; fill:none\" points=\"\n",
       "  1763.74,1503.47 1763.74,1481.63 \n",
       "  \"/>\n",
       "<polyline clip-path=\"url(#clip7800)\" style=\"stroke:#000000; stroke-width:4; stroke-opacity:1; fill:none\" points=\"\n",
       "  176.123,1503.47 204.7,1503.47 \n",
       "  \"/>\n",
       "<polyline clip-path=\"url(#clip7800)\" style=\"stroke:#000000; stroke-width:4; stroke-opacity:1; fill:none\" points=\"\n",
       "  176.123,1260.77 204.7,1260.77 \n",
       "  \"/>\n",
       "<polyline clip-path=\"url(#clip7800)\" style=\"stroke:#000000; stroke-width:4; stroke-opacity:1; fill:none\" points=\"\n",
       "  176.123,1018.06 204.7,1018.06 \n",
       "  \"/>\n",
       "<polyline clip-path=\"url(#clip7800)\" style=\"stroke:#000000; stroke-width:4; stroke-opacity:1; fill:none\" points=\"\n",
       "  176.123,775.359 204.7,775.359 \n",
       "  \"/>\n",
       "<polyline clip-path=\"url(#clip7800)\" style=\"stroke:#000000; stroke-width:4; stroke-opacity:1; fill:none\" points=\"\n",
       "  176.123,532.654 204.7,532.654 \n",
       "  \"/>\n",
       "<polyline clip-path=\"url(#clip7800)\" style=\"stroke:#000000; stroke-width:4; stroke-opacity:1; fill:none\" points=\"\n",
       "  176.123,289.949 204.7,289.949 \n",
       "  \"/>\n",
       "<polyline clip-path=\"url(#clip7800)\" style=\"stroke:#000000; stroke-width:4; stroke-opacity:1; fill:none\" points=\"\n",
       "  176.123,47.2441 204.7,47.2441 \n",
       "  \"/>\n",
       "<g clip-path=\"url(#clip7800)\">\n",
       "<text style=\"fill:#000000; fill-opacity:1; font-family:Arial,Helvetica Neue,Helvetica,sans-serif; font-size:48px; text-anchor:middle;\" transform=\"rotate(0, 176.123, 1557.47)\" x=\"176.123\" y=\"1557.47\">0</text>\n",
       "</g>\n",
       "<g clip-path=\"url(#clip7800)\">\n",
       "<text style=\"fill:#000000; fill-opacity:1; font-family:Arial,Helvetica Neue,Helvetica,sans-serif; font-size:48px; text-anchor:middle;\" transform=\"rotate(0, 705.328, 1557.47)\" x=\"705.328\" y=\"1557.47\">100</text>\n",
       "</g>\n",
       "<g clip-path=\"url(#clip7800)\">\n",
       "<text style=\"fill:#000000; fill-opacity:1; font-family:Arial,Helvetica Neue,Helvetica,sans-serif; font-size:48px; text-anchor:middle;\" transform=\"rotate(0, 1234.53, 1557.47)\" x=\"1234.53\" y=\"1557.47\">200</text>\n",
       "</g>\n",
       "<g clip-path=\"url(#clip7800)\">\n",
       "<text style=\"fill:#000000; fill-opacity:1; font-family:Arial,Helvetica Neue,Helvetica,sans-serif; font-size:48px; text-anchor:middle;\" transform=\"rotate(0, 1763.74, 1557.47)\" x=\"1763.74\" y=\"1557.47\">300</text>\n",
       "</g>\n",
       "<g clip-path=\"url(#clip7800)\">\n",
       "<text style=\"fill:#000000; fill-opacity:1; font-family:Arial,Helvetica Neue,Helvetica,sans-serif; font-size:48px; text-anchor:end;\" transform=\"rotate(0, 152.123, 1520.97)\" x=\"152.123\" y=\"1520.97\">-90</text>\n",
       "</g>\n",
       "<g clip-path=\"url(#clip7800)\">\n",
       "<text style=\"fill:#000000; fill-opacity:1; font-family:Arial,Helvetica Neue,Helvetica,sans-serif; font-size:48px; text-anchor:end;\" transform=\"rotate(0, 152.123, 1278.27)\" x=\"152.123\" y=\"1278.27\">-60</text>\n",
       "</g>\n",
       "<g clip-path=\"url(#clip7800)\">\n",
       "<text style=\"fill:#000000; fill-opacity:1; font-family:Arial,Helvetica Neue,Helvetica,sans-serif; font-size:48px; text-anchor:end;\" transform=\"rotate(0, 152.123, 1035.56)\" x=\"152.123\" y=\"1035.56\">-30</text>\n",
       "</g>\n",
       "<g clip-path=\"url(#clip7800)\">\n",
       "<text style=\"fill:#000000; fill-opacity:1; font-family:Arial,Helvetica Neue,Helvetica,sans-serif; font-size:48px; text-anchor:end;\" transform=\"rotate(0, 152.123, 792.859)\" x=\"152.123\" y=\"792.859\">0</text>\n",
       "</g>\n",
       "<g clip-path=\"url(#clip7800)\">\n",
       "<text style=\"fill:#000000; fill-opacity:1; font-family:Arial,Helvetica Neue,Helvetica,sans-serif; font-size:48px; text-anchor:end;\" transform=\"rotate(0, 152.123, 550.154)\" x=\"152.123\" y=\"550.154\">30</text>\n",
       "</g>\n",
       "<g clip-path=\"url(#clip7800)\">\n",
       "<text style=\"fill:#000000; fill-opacity:1; font-family:Arial,Helvetica Neue,Helvetica,sans-serif; font-size:48px; text-anchor:end;\" transform=\"rotate(0, 152.123, 307.449)\" x=\"152.123\" y=\"307.449\">60</text>\n",
       "</g>\n",
       "<g clip-path=\"url(#clip7800)\">\n",
       "<text style=\"fill:#000000; fill-opacity:1; font-family:Arial,Helvetica Neue,Helvetica,sans-serif; font-size:48px; text-anchor:end;\" transform=\"rotate(0, 152.123, 64.7441)\" x=\"152.123\" y=\"64.7441\">90</text>\n",
       "</g>\n",
       "<g clip-path=\"url(#clip7802)\">\n",
       "<image width=\"1905\" height=\"1456\" xlink:href=\"data:image/png;base64,\n",
       "iVBORw0KGgoAAAANSUhEUgAAB3EAAAWwCAYAAABDybvlAAAgAElEQVR4nOzbPaxt23kW4DHWWnvv\n",
       "c86917FjG1tJ7NjGP3EiiAgBKgoKlA4KaBFSGoRCRUNHQ0VDBQUgIVFQJW2EFNKlRyg2hFgBbGMT\n",
       "x0ls33uPz8/ee61BcY2EFeG8n1nT69vnPE/96RtzzL815nzXHAMAAAAAAAAAAAAAAAAAAAAAAAAA\n",
       "AAAAAAAAAAAAAAAAAAAAAAAAAAAAAAAAAAAAAAAAAAAAAAAAAAAAAAAAAAAAAAAAAAAAAAAAAAAA\n",
       "AAAAAAAAAAAAAAAAAAAAAAAAAAAAAAAAAAAAAAAAAAAAAAAAAAAAAACgt/nWo59ZhfLzb8Am1YUp\n",
       "vZLOf5xedys8p7bZ85Wu6bm/Rc+HdOVdekuz8WtbeeE5rXD8+ZDuT9m2zk2u/LznTPdpeoyKLnvm\n",
       "XfpaPr/096ba9fVWuJ42qIzvJaX74/nvT7V72S7rWZhTPv42c4prLzynbdZ6r7uHcY/cZEW+ydQv\n",
       "/exw2d/RhzOn89tmDfOAxNN/9fbTqzejrWyxpy79e1+ZU7p+veToG9ngPcg27yG2ssU7sIfh8sfp\n",
       "0uOf/6hust7Y4H1ZbTvTa+T8PUt9C/vp8tfz5bfgnLI3MAAAAAAAAAD8SAhxAQAAAAAAABoR4gIA\n",
       "AAAAAAA0IsQFAAAAAAAAaESICwAAAAAAANCIEBcAAAAAAACgESEuAAAAAAAAQCNCXAAAAAAAAIBG\n",
       "hLgAAAAAAAAAjQhxAQAAAAAAABoR4gIAAAAAAAA0IsQFAAAAAAAAaESICwAAAAAAANCIEBcAAAAA\n",
       "AACgESEuAAAAAAAAQCOH3TzExXPMQutKLa+W9cqN/HD+7bDFdVfZq5e87rc5+nnXyvhZbW1GG8y/\n",
       "dOi3mFM4dKG2djaHnWe+BXllftdJe67Cjqrt08vd8y+tNvesdpO76EaH6KEc+9L6Nb3sSyuDrGlt\n",
       "nR2OPCv3kvOv82sdw219QHPawoNZ7awttnSbVdkW42/R8/J33PNvwSa/Ixucexdfk1/46F/+3Ht9\n",
       "PZTfnEtv50PxcH6bKn3P/zT+sO454fqx9CIi61n5Dd3iOaPmcs9DFVu8W6rNaItjn9vmfV06p/P3\n",
       "LKldpGFVYZ2/Tmll3LNWm42/wa1sXH4VcdncIz2fH042BQAAAAAAAPAaEOICAAAAAAAANCLEBQAA\n",
       "AAAAAGhEiAsAAAAAAADQiBAXAAAAAAAAoBEhLgAAAAAAAEAjQlwAAAAAAACARoS4AAAAAAAAAI0I\n",
       "cQEAAAAAAAAaEeICAAAAAAAANCLEBQAAAAAAAGhEiAsAAAAAAADQiBAXAAAAAAAAoBEhLgAAAAAA\n",
       "AEAjQlwAAAAAAACARg77eVUonxetXGPFlefvOcZYhdpXTGk/FY5pZQvOPfLDOZpb7M/Ljj83mVPl\n",
       "XpLb4p8u6fVU20vnP6PXrNxLT2FhZTuz2rXRlZ8fp/wsmWMfV8Y9Zzb+LOz7yj0/v543+m2+oNq9\n",
       "7Pz7Ke652c9IeN0XrPg8vexaL77nVccPxefeZmvX9KTa4l5WuedWnkjS62mDC2qj+3NhAzboeX61\n",
       "rXwo++nS6/xLu9xz41Y9t6i8ZMvtNuDC5/4DufTS55ztppN1vvipxyvlgVyeY4wxvvP8tx/S5kY+\n",
       "+OQXNrikX7nddNEZfevZf3z1diiRDzz++cL1WXkWDp+xL3zmbfOusjCpC87fl7gAAAAAAAAAjQhx\n",
       "AQAAAAAAABoR4gIAAAAAAAA0IsQFAAAAAAAAaESICwAAAAAAANCIEBcAAAAAAACgESEuAAAAAAAA\n",
       "QCNCXAAAAAAAAIBGhLgAAAAAAAAAjQhxAQAAAAAAABoR4gIAAAAAAAA0IsQFAAAAAAAAaESICwAA\n",
       "AAAAANCIEBcAAAAAAACgESEuAAAAAAAAQCPzxx7/3EqL48JC9VqnQsesdq18S+eMS8cYpeKz9qyN\n",
       "nFbnXTcZf4N9v8UR2rrzJca+5GzGGOM7z79w6U24qPc//nO122kgb1gZutI1rC3cn+OeBVv0rHj6\n",
       "4ncvdu6/9ehnLjv5jc7SbZz/fC4uOLKW8X/xLn3LrRz7dK13/vXje32PYc8t7qWV45Sus7e556dm\n",
       "Za0592HP/D+oac/3are4nrY4TluojL/F/WSL+W/R89L30i1UrtEtnjEv93xd85Cu0Yfissd+kzch\n",
       "m9wi0vcgl74/Xfp35KE4/9zffs3frQDw+vjwG3+lsOA4/7P4aWTvi07rPu6Zvq/yJS4AAAAAAABA\n",
       "I0JcAAAAAAAAgEaEuAAAAAAAAACNCHEBAAAAAAAAGhHiAgAAAAAAADQixAUAAAAAAABoRIgLAAAA\n",
       "AAAA0IgQFwAAAAAAAKARIS4AAAAAAABAI0JcAAAAAAAAgEaEuAAAAAAAAACNCHEBAAAAAAAAGhHi\n",
       "AgAAAAAAADQixAUAAAAAAABoRIgLAAAAAAAA0Mh8cv3JlVfPvHRktWud4p5rHMO63Ivbr+aTAgC+\n",
       "z+PrT4Q/u/mv80prV6Vnvt5It3UVxp8z+99cWjfGGLt5ldWNfdyzMn7+X8DKyiyrPa37uGOlNl+X\n",
       "VuaUuvSSdIs5VWww/y12aWE3xfeyTfZ9pWfhGW9m95P0WbAyfqXjpc/mbVx6VtkR2IXnyPeqs5EL\n",
       "7yFInX+f1jqm1dsc+/ScmqXvHsL14wb35232/cPx9vMvvnqTAoDXwAef/MV4YVRZQ62V5YinwrvC\n",
       "07o7a90Y+TsoX+ICAAAAAAAANCLEBQAAAAAAAGhEiAsAAAAAAADQiBAXAAAAAAAAoBEhLgAAAAAA\n",
       "AEAjQlwAAAAAAACARoS4AAAAAAAAAI0IcQEAAAAAAAAaEeICAAAAAAAANCLEBQAAAAAAAGhEiAsA\n",
       "AAAAAADQiBAXAAAAAAAAoBEhLgAAAAAAAEAjQlwAAAAAAACARoS4AAAAAAAAAI3M66ufWGnxbuzz\n",
       "xjOvzXtmmfMsZNNpzzHGePriSzMuBgAAeA09uv5Y/Iy5icuOPsY8/2PjHGnPbR5Z4/FLw2fF+dzH\n",
       "qPxPPT9MlfG3mNMGPS/+ZuNy+6nW92Hcyt5+/oWLH1EAgKr3Pf7ZeLG11inue1r3Z617b/xjVjey\n",
       "uvd6ZtP3JS4AAAAAAABAI0JcAAAAAAAAgEaEuAAAAAAAAACNCHEBAAAAAAAAGhHiAgAAAAAAADQi\n",
       "xAUAAAAAAABoRIgLAAAAAAAA0IgQFwAAAAAAAKARIS4AAAAAAABAI0JcAAAAAAAAgEaEuAAAAAAA\n",
       "AACNCHEBAAAAAAAAGhHiAgAAAAAAADQixAUAAAAAAABoRIgLAAAAAAAA0Mi8OvyZFRePfdx4N8Pa\n",
       "mefIM8ycd/OQ90y3s+Dpi9+dZ28KAAAAP8Dj60/Ez/cVc2zwiDvP37Oynen7hcp2pj3nBu9Basdo\n",
       "i1cWlVPvssc+VbuYzn/pfef5b3u3BAC08MbNp+PFzhqnrG5ldZWeY4xxOt1lhZWV1sqmX9nOFfb0\n",
       "JS4AAAAAAABAI0JcAAAAAAAAgEaEuAAAAAAAAACNCHEBAAAAAAAAGhHiAgAAAAAAADQixAUAAAAA\n",
       "AABoRIgLAAAAAAAA0IgQFwAAAAAAAKARIS4AAAAAAABAI0JcAAAAAAAAgEaEuAAAAAAAAACNCHEB\n",
       "AAAAAAAAGhHiAgAAAAAAADQixAUAAAAAAABoRIgLAAAAAAAA0MhhN68K5fPstefvWDNLOfbaYAsA\n",
       "AADg/9/z2y9v8dgce+Pmz27w0LzNW4N4Q1c+pTWOUd1cWd17xec/pLO0T7N3JrOwnen4pfc18/zf\n",
       "KNT2fFb97Wf/6aLXKADA/+3R9cejxe5p3Z197LVOZ+85xhi7eTh7zzWzZ4JZyRDDVaEvcQEAAAAA\n",
       "AAAaEeICAAAAAAAANCLEBQAAAAAAAGhEiAsAAAAAAADQiBAXAAAAAAAAoBEhLgAAAAAAAEAjQlwA\n",
       "AAAAAACARoS4AAAAAAAAAI0IcQEAAAAAAAAaEeICAAAAAAAANCLEBQAAAAAAAGhEiAsAAAAAAADQ\n",
       "iBAXAAAAAAAAoBEhLgAAAAAAAEAjQlwAAAAAAACARg5zzLh4jXX22rXy8WfYM60bY4w1TnHtbl7F\n",
       "tQAAAPA6+e7L/5Y/4G/gjZvP5C8DLqi0kWuDKRWOUvp+ZYvNXPMY177z7AsXPfcAAB6iSj549rHn\n",
       "vlB72e9R10pzxDxvXOEC2pe4AAAAAAAAAI0IcQEAAAAAAAAaEeICAAAAAAAANCLEBQAAAAAAAGhE\n",
       "iAsAAAAAAADQiBAXAAAAAAAAoBEhLgAAAAAAAEAjQlwAAAAAAACARoS4AAAAAAAAAI0IcQEAAAAA\n",
       "AAAaEeICAAAAAAAANCLEBQAAAAAAAGhEiAsAAAAAAADQiBAXAAAAAAAAoBEhLgAAAAAAAEAj89HV\n",
       "T620OC4cY8wfYmP+9PErW5CZlS2dWeb94varW0wfAAAAAAAAfmSe3HwqDud2Y58VhnnbewrZ4Mpq\n",
       "T+NYaHnK6kZW972mUZkvcQEAAAAAAAAaEeICAAAAAAAANCLEBQAAAAAAAGhEiAsAAAAAAADQiBAX\n",
       "AAAAAAAAoBEhLgAAAAAAAEAjQlwAAAAAAACARoS4AAAAAAAAAI0IcQEAAAAAAAAaEeICAAAAAAAA\n",
       "NCLEBQAAAAAAAGhEiAsAAAAAAADQiBAXAAAAAAAAoBEhLgAAAAAAAEAjQlwAAAAAAACARuaT60+u\n",
       "uHjmme+ch6hurfu452kd08q4Zzz5McaL26/OQjkAAAAAAAC8Fp7cfCqL3Vaezu12Vz/s5vyA4Ss5\n",
       "YlhbmFPKl7gAAAAAAAAAjQhxAQAAAAAAABoR4gIAAAAAAAA0IsQFAAAAAAAAaESICwAAAAAAANCI\n",
       "EBcAAAAAAACgESEuAAAAAAAAQCNCXAAAAAAAAIBGhLgAAAAAAAAAjQhxAQAAAAAAABoR4gIAAAAA\n",
       "AAA0IsQFAAAAAAAAaESICwAAAAAAANCIEBcAAAAAAACgESEuAAAAAAAAQCPzjZtPr7R4Nw9x4zXS\n",
       "tvHw4+mLL824GAAAAAAAgB+pOW+i4GeWvjMs1MZJUh45nU5P5VNndNh/KA4H97vruG+aY+7mTdyz\n",
       "kmOemy9xAQAAAAAAABoR4gIAAAAAAAA0IsQFAAAAAAAAaESICwAAAAAAANCIEBcAAAAAAACgESEu\n",
       "AAAAAAAAQCNCXAAAAAAAAIBGhLgAAAAAAAAAjQhxAQAAAAAAABoR4gIAAAAAAAA0IsQFAAAAAAAA\n",
       "aESICwAAAAAAANCIEBcAAAAAAACgESEuAAAAAAAAQCNCXAAAAAAAAIBGDnPMuHiNU1z79MWX8sYA\n",
       "AAAAAABnMufNutTYa7185fKROR/F+zPOnWblO8O8Nt/5eeV+975w/pVDf7FT9OLWuI9rj6c8mzzN\n",
       "fVj5Mu65C3vOeYh77udVNnbcEQAAAAAAAIDNCXEBAAAAAAAAGhHiAgAAAAAAADQixAUAAAAAAABo\n",
       "RIgLAAAAAAAA0IgQFwAAAAAAAKARIS4AAAAAAABAI0JcAAAAAAAAgEaEuAAAAAAAAACNCHEBAAAA\n",
       "AAAAGhHiAgAAAAAAADQixAUAAAAAAABoRIgLAAAAAAAA0IgQFwAAAAAAAKARIS4AAAAAAABAI/PS\n",
       "GwAAAEB/d7/5qZVVhmVjjPSRdN3cxB2v/+rveM4FAHhA5nxUWUAWbNE2XRKff+w17i66zq0cp7nF\n",
       "94OzMv2sdpYisrR2i8NU6bnR5XRRp7jyeHr3lXoe9CUuAAAAAAAAQCNCXAAAAAAAAIBGhLgAAAAA\n",
       "AAAAjQhxAQAAAAAAABoR4gIAAAAAAAA0IsQFAAAAAAAAaESICwAAAAAAANCIEBcAAAAAAACgESEu\n",
       "AAAAAAAAQCNCXAAAAAAAAIBGhLgAAAAAAAAAjQhxAQAAAAAAABoR4gIAAAAAAAA0IsQFAAAAAAAA\n",
       "aESICwAAAAAAANDIvPQGAAAAvK7e/frfXXHxbp/V3b/MN2Cd8uFfPs0KT8d8/Jk9kq7Do7znyHfp\n",
       "mNn/mt/85K95duZP9ey//lJ08h3f/4m453r8oR92c/7fbt+OS9/34X/u3Adgc3PeVBZwhc6Ftufu\n",
       "uSpjZ7VbzKZihmvn71WfuW6MWfkmMdzWWTqfwvEL+6ky+21s0Tfc9+Gz4BhjrMJz6/3xj16p9asv\n",
       "cQEAAAAAAAAaEeICAAAAAAAANCLEBQAAAAAAAGhEiAsAAAAAAADQiBAXAAAAAAAAoBEhLgAAAAAA\n",
       "AEAjQlwAAAAAAACARoS4AAAAAAAAAI0IcQEAAAAAAAAaEeICAAAAAAAANCLEBQAAAAAAAGhEiAsA\n",
       "AAAAAADQiBAXAAAAAAAAoBEhLgAAAAAAAEAjQlwAAAAAAACARualNwAAAOBV8/R//O0VFc78kWxd\n",
       "v5HV7R/HPSvj757/cVZ4f5sPv45Z4cp25xhjzGNh/LuXWd3t87jn2O2jstOjN+OWTz7/G57dL+S7\n",
       "v/c38pMvfMVyeuPDccd1FZ4np+xcHmOM3fNv5bXPvh3VrfC8H2OMNz73753PAHyfOa8Lv7elztu0\n",
       "vZiNdtMmsu8HZ+UYzXy9MePvFwvfOcabms8pn3/lXD5/7Sw8N5577Kq7+z94pS58X+ICAAAAAAAA\n",
       "NCLEBQAAAAAAAGhEiAsAAAAAAADQiBAXAAAAAAAAoBEhLgAAAAAAAEAjQlwAAAAAAACARoS4AAAA\n",
       "AAAAAI0IcQEAAAAAAAAaEeICAAAAAAAANCLEBQAAAAAAAGhEiAsAAAAAAADQiBAXAAAAAAAAoBEh\n",
       "LgAAAAAAAEAjQlwAAAAAAACARoS4AAAAAAAAAI3MS28AAADAq+b5F//aSuru3/pI3vTmfT/s5vyA\n",
       "DXgWl86XT7O6+5d5zxXtpjFGWjfGiHuOMWb2v+Z1uIlbnp58IOv5uHDs48Hv4tL3ffCfnf19wDvv\n",
       "/ON85++uorL9/lFhC/L/qZ9O2Xm6nn8zH37dZ3X7x4Wep6hs3r0bt5wv387HD6/n/FoeY+2zY//m\n",
       "J3/NOysA/oQ5bwqLvdfZ+X9GZ6lnWBuux9/rWPkmcYtlRDqnSse0uDL3wj6d6fj5pLaorLi9/8Yr\n",
       "tYb0JS4AAAAAAABAI0JcAAAAAAAAgEaEuAAAAAAAAACNCHEBAAAAAAAAGhHiAgAAAAAAADQixAUA\n",
       "AAAAAABoRIgLAAAAAAAA0IgQFwAAAAAAAKARIS4AAAAAAABAI0JcAAAAAAAAgEaEuAAAAAAAAACN\n",
       "CHEBAAAAAAAAGhHiAgAAAAAAADQixAUAAAAAAABoRIgLAAAAAAAA0Mi89AYAAAA8BN/9vb+50tq1\n",
       "v8rqbt7MN2CX9RzHF3HL+fJpXnuX9d3dPo97rv0hHPtl3HMcwv00xlj767Cu0PP6SVa3y+Y+xhhj\n",
       "tw8LC4/4h0dx6drdZIVX+fk8w9o5C/tpnfLSEdaWeoa3iHWMe4778Hq6ezduOe/y634c7/LadPxT\n",
       "Nv8Vn/djjJl/o/DWx/6dd2EAfJ85H8Xr/EuapTjn0j934fgz387Lzz/tWRg7nH9t7vm6aIZrqG32\n",
       "/Tbn6O3971/65D8rX+ICAAAAAAAANCLEBQAAAAAAAGhEiAsAAAAAAADQiBAXAAAAAAAAoBEhLgAA\n",
       "AAAAAEAjQlwAAAAAAACARoS4AAAAAAAAAI0IcQEAAAAAAAAaEeICAAAAAAAANCLEBQAAAAAAAGhE\n",
       "iAsAAAAAAADQiBAXAAAAAAAAoBEhLgAAAAAAAEAjQlwAAAAAAACARoS4AAAAAAAAAI3MS28AAABw\n",
       "We98+x+tuPj4Iqubh3wD9jdZ3TrGLd/3gX8aP+u884f/IJr/vHsajz+Ot1ndrrCfUqf7uHTehcdz\n",
       "jDGPd1Hd2l/FPeOx71/mtYX5r/31D7M5P7hneEzX9ZO4ZzqndOwxRu3c24XHdLePW670HnF4HPcc\n",
       "I7+VxaW7wn/fZzj/wmaOU3bdjVPhGrl/no+f3svWKe85w31auD5X+jsyxpjhb8lbH/mX3pkB8CfM\n",
       "+ajyS571jGOawk9T+ns7xpgjXcNVpp7WbvVzu0Hfef7jlB/7ypq0Mn7WN9/OgtJ25rUv7/7XK7WG\n",
       "8yUuAAAAAAAAQCNCXAAAAAAAAIBGhLgAAAAAAAAAjQhxAQAAAAAAABoR4gIAAAAAAAA0IsQFAAAA\n",
       "AAAAaESICwAAAAAAANCIEBcAAAAAAACgESEuAAAAAAAAQCNCXAAAAAAAAIBGhLgAAAAAAAAAjQhx\n",
       "AQAAAAAAABoR4gIAAAAAAAA0IsQFAAAAAAAAaESICwAAAAAAANDIvPQGAAAA5/fON//+iovXKS7d\n",
       "v/P7Ud3p0Zv58O//bFR3uHp/3PN4fJaP//JbWeF93nOuY1x7Uae7Qu39BhsQnqbzKm95/zwunaf0\n",
       "OOWXU6xw3W3y6D4LPePavOea4X/Kd/u455iF2rRv4dxbu0PYs7DvV3juFe4583Sbj38Mawv3h3nK\n",
       "zv21K3x3kO77McYIx5+F++Obn/hV79cA+D5z3hQWkOdfa86Rr2Hm7jrsWVjrjXStm/esjJ/v00rP\n",
       "LX7us56zsn4sfLuZ79PKs8O5xy6OH3p59/UHsX7zJS4AAAAAAABAI0JcAAAAAAAAgEaEuAAAAAAA\n",
       "AACNCHEBAAAAAAAAGhHiAgAAAAAAADQixAUAAAAAAABoRIgLAAAAAAAA0IgQFwAAAAAAAKARIS4A\n",
       "AAAAAABAI0JcAAAAAAAAgEaEuAAAAAAAAACNCHEBAAAAAAAAGhHiAgAAAAAAADQixAUAAAAAAABo\n",
       "RIgLAAAAAAAA0Mi89AYAAAC5P/jln1tJ3c1b34173nzo7bh29/g2qtt/+Bj3PH3601Hdy0/8Ytxz\n",
       "Pf5gXBu7fxGXznWfFUZH8//Uhj0r1imvPd1t0DOrnSs/n8apUFs6AOdtOUdhP62waWHus3Kc0vEr\n",
       "ZvY6ojTybh+Xrv31WevGGGPsr7K6Wfg/fbifSkrHPqw95venecx+R2bhfF4b7Kd5DO95BW989te9\n",
       "hwN4Tezmk8IyJitdhfXjnIdCbbaGmaOw1gq3dRa+M5yFNdSK16/5T/PcYl2Wj16orGxnWFtoWRs/\n",
       "73r+8SuTymorc39++5Wo2Je4AAAAAAAAAI0IcQEAAAAAAAAaEeICAAAAAAAANCLEBQAAAAAAAGhE\n",
       "iAsAAAAAAADQiBAXAAAAAAAAoBEhLgAAAAAAAEAjQlwAAAAAAACARoS4AAAAAAAAAI0IcQEAAAAA\n",
       "AAAaEeICAAAAAAAANCLEBQAAAAAAAGhEiAsAAAAAAADQiBAXAAAAAAAAoBEhLgAAAAAAAEAjh0tv\n",
       "AAAAkPvWH3woqnv25Y/FPT/zC1+Ma5/89Ius8APvj3uO+/uo7Or3/0vc8vT4rbh23bwZ1+ZWVjbz\n",
       "/9WutHa3j3uOFW7nGGMe77LC0zEff5yysnwzi8Uzq1rhdo4xRlpb2E9zhbXHynZWxi8dgLOKz/sx\n",
       "xjhcxaWnq3T+2Tkyxhhrd8H/yZ82OEcr8t00xj57FbV2G72yOmW/OcUbDwA/Iof9j8c36JXey0tr\n",
       "nWwNEY/9verErhDn7HaP89qZ9T2t8HlgjPxxaObPLrPwTeKsrE0u6sIbGg4/L72dBemVV5nRJWfv\n",
       "S1wAAAAAAACARoS4AAAAAAAAAI0IcQEAAAAAAAAaEeICAAAAAAAANCLEBQAAAAAAAGhEiAsAAAAA\n",
       "AADQiBAXAAAAAAAAoBEhLgAAAAAAAEAjQlwAAAAAAACARoS4AAAAAAAAAI0IcQEAAAAAAAAaEeIC\n",
       "AAAAAAAANCLEBQAAAAAAAGhEiAsAAAAAAADQiBAXAAAAAAAAoJHDpTcAAAAekn/yiV9Zae3daUZ1\n",
       "P/nkZTz+53/9X2dNC9751X8Yz+n5zQfCynwz1/3TrOM7X4l77l68HdfO22dh5SnuOXbZo9Y63OQ9\n",
       "Q/P+mNceb/PG91ntPN7lPWOV0z4+ncdY2TGdp8KxP4X7v9Bzhts5VmXuhdp49xeO0wz/U74r/Pc8\n",
       "3fdjjF1Yuwrn87oPr+fw/jDGGCuc/ywd+8L5XOmbttxfZXWH67xpej6NwvVUuu8AvD6uDh+JfxxW\n",
       "utaahWeHwm/TTNfvhd+RMbLfsbHyNcQMxz/snhR67uPaFa6fK+uN9JCmc6/bYA2zQc9cfo3UVjBb\n",
       "rHe22E/n7/ni7mvx5B9f//TFDr4vcQEAAAAAAAAaEeICAAAAAAAANCLEBQAAAAAAAGhEiAsAAAAA\n",
       "AADQiBAXAAAAAAAAoBEhLgAAAAAAAEAjQlwAAAAAAACARoS4AAAAAAAAAI0IcQEAAAAAAAAaEeIC\n",
       "AAAAAAAANCLEBQAAAAAAAGhEiAsAAAAAAADQiBAXAAAAAAAAoBEhLgAAAAAAAEAjQlwAAAAAAACA\n",
       "Rg5bNb65+sl17p4v774+z90TAICH5V989u/F68xToe9pZUvNNY5xz0e7bAv+8k99Je759G99JJr/\n",
       "o8+9E/d88fRrce3p8CSqO1x/IO65dtfZ2PN/xj13L57GtfP2RVa48kecdf3o7D3nKTv35t3LuOfu\n",
       "9nk+/t1tVni6j3uOmf2veO32ec+CucK7RLjv36sNj2nh2MdKT8yF4hnW7vL/ia999jpirsKxT4/n\n",
       "GPExncf8fF734TVSEV4j8TEa211PsfR6qsxpn/2OlOw2e2UG8CPz5qPP5s9OK/vNW6uwLqotTrKO\n",
       "6W9jRWENMedVVHdc+Zp8hft+Fz43vdezMKewbjcra4hLRznZqb/CujHGmJvMKR0/H7u2neef0wrf\n",
       "xFTO0dKjywZzen77lYud0L7EBQAAAAAAAGhEiAsAAAAAAADQiBAXAAAAAAAAoBEhLgAAAAAAAEAj\n",
       "QlwAAAAAAACARoS4AAAAAAAAAI0IcQEAAAAAAAAaEeICAAAAAAAANCLEBQAAAAAAAGhEiAsAAAAA\n",
       "AADQiBAXAAAAAAAAoBEhLgAAAAAAAEAjQlwAAAAAAACARoS4AAAAAAAAAI0IcQEAAAAAAAAaOWzX\n",
       "em3Xurnrw0fPPvnb+2/Mc/cEAHiI5syXWnpKZaQAACAASURBVHPlS6hdoW/qGLb8C7/5G/GGvvtv\n",
       "/07U9XnacIwxfuxzcel+/yiqu7/9dtxzPv1aVnf3LO45dvtCbfbf1nl3G7ec3307K3z2Tt7z7mVW\n",
       "9yI/+vM2n9M4HfPa0AqP0zxc5U3nBo9OlZan9F5SuOesDZ6vK/tphv//Dq+lMcYY6TG9qhz7wvjp\n",
       "/PeF1yZpbWU70/Ok0rNwPa20dhbuuVtcoxtcI6uwnXOLaxR47bz/8Z+PbiZro/fu+5nd8yvjz3gR\n",
       "ddlX31vM6TBuzj7+Wvl6/H5VngizOc3SGubScUY2/ovbL8cb+vj6p7NrdJ3SlmOTHK1wnOYm33mG\n",
       "51PlHLn4nC7n1ZoNAAAAAAAAwAMnxAUAAAAAAABoRIgLAAAAAAAA0IgQFwAAAAAAAKARIS4AAAAA\n",
       "AABAI0JcAAAAAAAAgEaEuAAAAAAAAACNCHEBAAAAAAAAGhHiAgAAAAAAADQixAUAAAAAAABoRIgL\n",
       "AAAAAAAA0IgQFwAAAAAAAKARIS4AAAAAAABAI0JcAAAAAAAAgEaEuAAAAAAAAACNHLZqvNbaqnV7\n",
       "a+Rzn2NGddeHj8ZNb++/kTUFAHiATitf6uxmvi7bYvn6K1/6V2dflz3+iV/KCgsTevbd/x7Xnr71\n",
       "haju5uv/Oe65++NvZIVbPWOEfec65T1PYe1xg573x7zn/X1h/HD/z/y0j0t3hf8fV2qvwkfiq6u4\n",
       "5QonVbs5hPs+PUeqwn2azn2MMeYxPPdO+fm8DvkrjjnDOcUdx5jpfiqdz9mcVjif93ru89oZjl/q\n",
       "GW5r4Z47T3f5+OF1Mgvn3jxm4z/7nb8en1JPPv8fvNuBV8AHn/xifN0f121Ut93NIbs/18bPqtfI\n",
       "7/mrsibfYGdV3v1f0pyF3+ZYvt5Ic4/KQcp7jvhB481Hn4kPaHrulc7n+HwqrUrjyl18nlQupmxb\n",
       "V+F9zRz5+bwP16/P446X5UtcAAAAAAAAgEaEuAAAAAAAAACNCHEBAAAAAAAAGhHiAgAAAAAAADQi\n",
       "xAUAAAAAAABoRIgLAAAAAAAA0IgQFwAAAAAAAKARIS4AAAAAAABAI0JcAAAAAAAAgEaEuAAAAAAA\n",
       "AACNCHEBAAAAAAAAGhHiAgAAAAAAADQixAUAAAAAAABoRIgLAAAAAAAA0IgQFwAAAAAAAKCR+eT6\n",
       "kystXuMUN14rrY2HH2NmmfOL26/OvGnusP9wtLGzNHo2p3nhvH0WJpVva2FHhePPQs/nt1/Z5DwB\n",
       "AKi6/a2fzdfk+0NUd/fRT8fj79/9w7h2rGxT182TuOXhj74W1e2+/OW457jK9tN7jdNlYWH5eAqf\n",
       "h475M9Y4HrO68BiNMca6y4ePHwf3hZ7hLp2VnpVjfwhrD4UN2Ie1u8IzXvo8Vjj2WzyLr8rDcHgv\n",
       "G1dXccv0/vje+Olxyo/9Cs+ntc/nlO6n0twrc0r7Vi7S8DxZpXcGeWl6ncz4vdYY43Sf9bzP6sYY\n",
       "Y4TjP/753/JuAxr70JO/FP/g3q0XUd0a4ZpwVN8ph+v8Qse4Z+WeW7rpb6G2B8478jZrvfyden4+\n",
       "pR0rM5rhmrSk8uwUb+0GPQvXSOU8Sfdp5V4SH6fKs0vh2B/mdVR3v27jnqeVreFq97Ks1pe4AAAA\n",
       "AAAAAI0IcQEAAAAAAAAaEeICAAAAAAAANCLEBQAAAAAAAGhEiAsAAAAAAADQiBAXAAAAAAAAoBEh\n",
       "LgAAAAAAAEAjQlwAAAAAAACARoS4AAAAAAAAAI0IcQEAAAAAAAAaEeICAAAAAAAANCLEBQAAAAAA\n",
       "AGhEiAsAAAAAAADQiBAXAAAAAAAAoBEhLgAAAAAAAEAj88n1J1davMbp7BuwRjx87MXtV+fZm44x\n",
       "Dvsfjza2Mqc59lHdbh7inrl8N81ZqA3nNAo987Hzns9vv7LJeQIAPEx3/+ZRtIg7fvMq7jn34fp5\n",
       "V1gTh6W7twpr98JfO+eTbF16+vjH457r+iaq273z7bjnfPfduHbc3Wd1p8I+vT9mdaty7NODX1jm\n",
       "nvLxVzilDR7xaufooVC8C2sP4TNOpbbSc59ddyudT1Xa93+zb6+xtnVnXcDHmGvtfc6731KNFhIt\n",
       "Um8hBcGGEqQFpIBojEXUQPzQANoiRaQKkURjYkiMMRqIGglCaAETqAQ1iKmCXCIXqVCjUghGi0El\n",
       "ikTw1oDd7zlnrzWnH47xY9//g2t0jn36+31+8ozLHGPMMdez96EwpiWL3Uo5K88+bD+MK7W/5N/3\n",
       "8fgL/Rwypp7P/Rb/FlA4yypf94VfweLm0/fDmh6krfVz+G4qvEcefvy7/A4CF/Jhz7/m4r8T3623\n",
       "UVzlqlX5rTRVqxGkvR1zPOXjv/yLZETdY5R0nnrP7xBpzm3L11Mv3DdSa/yRM8rl11OtPpXNaeUs\n",
       "SZ/TktaRWnU/ZbHn7S7OuG7ZvaxyPm7h2vOfuAAAAAAAAAATUcQFAAAAAAAAmIgiLgAAAAAAAMBE\n",
       "FHEBAAAAAAAAJqKICwAAAAAAADARRVwAAAAAAACAiSjiAgAAAAAAAExEERcAAAAAAABgIoq4AAAA\n",
       "AAAAABNRxAUAAAAAAACYiCIuAAAAAAAAwEQUcQEAAAAAAAAmoogLAAAAAAAAMBFFXAAAAAAAAICJ\n",
       "KOICAAAAAAAATKTv3YFn0bI8vxWio6h1/eVdn9XDq9+Qj6lnXR0xoBee/CdrGgD4f05vv4nvMHf/\n",
       "8UEW996XxO0vD+6iuMNzj+Oc/XCO4rbTIc/54BTHLjfZmFrefOvHMLBwy25rIXbADXIL2++VP6tN\n",
       "Y0f9qW46/yNu5IUxleY07euhsKCvry4b11rbrq+zwEo/l8tP1HZMN3Oh/coDDb9FK+1vy4A57XnO\n",
       "Lc1ZeZ6l9sM5LT2nEYdU4QURhxZyrtmh39OXQ2utnbP3fV/zd3jb8jE9+MQf9/sKH3Q+7PnXVm6b\n",
       "ka1le7m11k5r9k2wFS66S3zRbm0JL/Bb4Xys9DWXH089jE3jWqu8HSrLad8jt4fv5so8pbGV9VR7\n",
       "TlneSvupytPcwnfzmL3UWk8/tAqD6uFZkp45T+XP6Rfe96PP1B3Gf+ICAAAAAAAATEQRFwAAAAAA\n",
       "AGAiirgAAAAAAAAAE1HEBQAAAAAAAJiIIi4AAAAAAADARBRxAQAAAAAAACaiiAsAAAAAAAAwEUVc\n",
       "AAAAAAAAgIko4gIAAAAAAABMRBEXAAAAAAAAYCKKuAAAAAAAAAATUcQFAAAAAAAAmIgiLgAAAAAA\n",
       "AMBEFHEBAAAAAAAAJqKICwAAAAAAADCR494deBat6/v63n24tEd3//mZGxMAMJe773vFlsT1x4/z\n",
       "pO/9pTi0X99FcceXvi/PeTxncUs09KfC2OXqSZ7zsOaxaegpvz6uj7K4flWYp8rtdceb7laY+rib\n",
       "hWkqSTtQmc9DmPJY+PvjZcDDP4YdrcT2AQuvknNU7KVzlvpZ+Tv1AWNK997uX9eFQyIOrRw8hYMv\n",
       "bj5vv69h+1v2Dm+ttRbnzMfe0zGlbbfW2loYE3wQ2gpn2bqdwpyX33e95/eSJb1sFfLu/Rrrhf9L\n",
       "6wMusPnVpJBz5/+1GzJPv7KuvF+1z5xRH0WXtfXsPX4Oz5zWautpCfd96SwJn/5auBNuI+6P94T/\n",
       "xAUAAAAAAACYiCIuAAAAAAAAwEQUcQEAAAAAAAAmoogLAAAAAAAAMBFFXAAAAAAAAICJKOICAAAA\n",
       "AAAATEQRFwAAAAAAAGAiirgAAAAAAAAAE1HEBQAAAAAAAJiIIi4AAAAAAADARBRxAQAAAAAAACai\n",
       "iAsAAAAAAAAwEUVcAAAAAAAAgIko4gIAAAAAAABMRBEXAAAAAAAAYCJ97w4AAPDsOn3rzRYHX19l\n",
       "cc89zDtw+0Icut0+yeIe5c23cPT9UMiZ3uDzma99FaR/BlppPzWin5W8I8ZUsfPXW0/n9FCY/CWM\n",
       "vToWclYmKow9FsZ0yDb0diiMKY1N57MYu/VwnsKxt9byBZW2PSh2ixd+of3Kcwrbj59RIefT2DDv\n",
       "iJxb4dDd1jx2zWL7ei7kzGJ72PZT4fgrOQfM6fXrftpvi/fAa2/edPFbTC9cTJYBl5h33n7jxZO+\n",
       "7PnfEc/Ttp2yuEL7PbzAVua+Fz40ljC20n6usp7yd07a13Tun7Z/+Xka0c9twMfL3s9+7w+yvPU8\n",
       "Mp3TyvOsxKbrubLvUv/+f/8jd4iA/8QFAAAAAAAAmIgiLgAAAAAAAMBEFHEBAAAAAAAAJqKICwAA\n",
       "AAAAADARRVwAAAAAAACAiSjiAgAAAAAAAExEERcAAAAAAABgIoq4AAAAAAAAABNRxAUAAAAAAACY\n",
       "iCIuAAAAAAAAwEQUcQEAAAAAAAAmoogLAAAAAAAAMBFFXAAAAAAAAICJKOICAAAAAAAATEQRFwAA\n",
       "AAAAAGAix707AADAHE7f+bItjd2ur7LA85p3oPew8bibrd08lzf/fBbbz+e8/VMYm469ojJPI1Se\n",
       "/Yi+LgP+XrXSzxFjipdJYT1V+pmu00Nh7tPnVHmelf0U5t0q7aexlX7ufEakrW+V83EJ2++Dnn0Y\n",
       "23vhLEtnaq08zzC2tEQq85Su5wHtl87cfO3F7/Gt8OzXsK+ld0MW29fCvkv72Vp8lt394w/Pk67Z\n",
       "nF69/ucHHHrPntfcvGnny15uS9dz7TDZWfx2jDMu/RC2nL8b05yttXZo4TdeYUxpZOXZLy0fU5q3\n",
       "kvMQllQqY0qfaW2P3Kf9lLkvI6oczumY+jbm/zHTNbW2/F60lu7PvBj/iQsAAAAAAAAwEUVcAAAA\n",
       "AAAAgIko4gIAAAAAAABMRBEXAAAAAAAAYCKKuAAAAAAAAAATUcQFAAAAAAAAmIgiLgAAAAAAAMBE\n",
       "FHEBAAAAAAAAJqKICwAAAAAAADARRVwAAAAAAACAiSjiAgAAAAAAAExEERcAAAAAAABgIoq4AAAA\n",
       "AAAAABNRxAUAAAAAAACYiCIuAAAAAAAAwET63h0A+ED7i7/xS7c09vE5+1uXuzhja88fs+Cv/Nmv\n",
       "dUYDH1B33/uK/DQ7ny7fgR4ee2lc1RoOv9L8qL5eXKWf4Tydz3nr6xo2HcaNUnjft60SvKNKP5fw\n",
       "b4CXwnrqWc6tspdGxV5ape0R66mSc8T5vBzCnHnK0h5N+5qu+0LO0noeoTRPw3rx4gprtFfGtIbv\n",
       "p9K+C2NLWzkMTt+hxdiejj+dz0r758KYCs/p+Ln/615czF5z86Z7conIbeF6XgqHTi/E/ujtN138\n",
       "2f+am1df/Dkt/ZjFtfAd2lpbeh573Z6L4rZWOEvCvlae51L6v7Qsb6X9Q8ueUy/0s29Z+5WxV8a0\n",
       "p1H9vC/jH6G2RzKVff9T7/s7H7yTP4D/xAUAAAAAAACYiCIuAAAAAAAAwEQUcQEAAAAAAAAmoogL\n",
       "AAAAAAAAMBFFXAAAAAAAAICJKOICAAAAAAAATEQRFwAAAAAAAGAiirgAAAAAAAAAE1HEBQAAAAAA\n",
       "AJiIIi4AAAAAAADARBRxAQAAAAAAACaiiAsAAAAAAAAwEUVcAAAAAAAAgIko4gIAAAAAAABMRBEX\n",
       "AAAAAAAAYCLHvTsA8IG2bT2OPS5bFHcotH/oWc6v+s1/Igtsrf2Z//B1+aCAaZ3+/q+N931bsr/F\n",
       "2557Lu9Az4+S7eb5LOWjR4X208bzaUrnqbXW2iGMXSpHbhi7roWc4fgL01Rz+cRb+pwqz37EOqnk\n",
       "jFXGdPnW+5avvS3epJUOXD5l6TmFe6+Xnv2APZq2P2SNtvw5Fc7crV/+b8or6zkd1FY588P3aB8w\n",
       "9pLSMhmwpkat07wDFw1rrRXOsnw9xefOeo5ztvXy52PpDjPi2VfGdE/EV+JCzq0QnT+mPOe5h+/b\n",
       "OGNrh8IvMa+5eVPU2XfdfnPchf95++NR7MtuPiGeqD7gYrQU5imN7e2qkDN751XG3gtjSvP2wm+F\n",
       "6Zgq4n6W5qkSe/nIIRkLzymf04rL5yycznFkL6zR/J3j/0H3YuYBAAAAAAAAJqKICwAAAAAAADAR\n",
       "RVwAAAAAAACAiSjiAgAAAAAAAExEERcAAAAAAABgIoq4AAAAAAAAABNRxAUAAAAAAACYiCIuAAAA\n",
       "AAAAwEQUcQEAAAAAAAAmoogLAAAAAAAAMBFFXAAAAAAAAICJKOICAAAAAAAATEQRFwAAAAAAAGAi\n",
       "irgAAAAAAAAAE1HEBQAAAAAAAJhI37sDAJfwlR/xli2NjQNba0t4Slb+IubQsx5cL3lPj2Hsn/6Z\n",
       "r3fuh97z+z81mtReWlGZHq6R1lr7yHe80zO9B+6+9yOyh9rz02S7usoCrx/GOdeHN3Fs27IhLY9f\n",
       "yHNWYlNL5YQOt9O25inDeernc55zDduv9DPN2Vo+pjCutda2+CQrHHl9QGwlZ2H8F1dquxAbhvbS\n",
       "eirEptbKmMLYypzumjNPWfo1IH0/HSr7LsxZ2HfHP/CLcfDpH3zogE2aphxxfRt05ux4lJWmac9+\n",
       "tlbo64D3SOUsOVfuBuHdpHLmpipjKrxzjp93+0x9O7325k1Dfgd51+03X3yeXn3z+RdfKEvhl5hl\n",
       "y2IrA//nL/yte7GeXv6ST4/nvodzetWu4/aPYWzadmv583yaN3tMaVwtZ8WIfhaEH2T3akwD2l92\n",
       "LKfVrvn73jX/5e233Ivz8b7wn7gAAAAAAAAAE1HEBQAAAAAAAJiIIi4AAAAAAADARBRxAQAAAAAA\n",
       "ACaiiAsAAAAAAAAwEUVcAAAAAAAAgIko4gIAAAAAAABMRBEXAAAAAAAAYCKKuAAAAAAAAAATUcQF\n",
       "AAAAAAAAmIgiLgAAAAAAAMBEFHEBAAAAAAAAJqKICwAAAAAAADARRVwAAAAAAACAiSjiAgAAAAAA\n",
       "AEzkuHcHAN6fP/fhf3JL4l449zjngyVK2VprbelZbBr3NDaLO+cp24Ow/W945RfFWb/4PW/LJ/We\n",
       "eM9nfWo8/m0Nh1+YpV5YJ8zv7vtekT/QNQ3NU/bzOYq7+uSfilfpkx9+Zb5HHjyXxVX2yPEqC1zX\n",
       "PGnFluXtlfbT2PB5Po09RWF9LeTcCudTGhuv+9Z6mrOXDt08Nn057y7tZ+V5FpqPn/2APVLqZ6X9\n",
       "Ae/mdJ4q+26E0h5J+3rIcx4u/248fefLCu/mcJ1U1siQ91O6ngY0PUq69iprdG8jujrgfVtao+f0\n",
       "fC4d0FlYYUxb4bpz940Ps8SFabp686PdFuqP3X7zvdkkW/js07jWWlsLD+rQs/fTYSu8x0KvfP5z\n",
       "4kHlDzSPPLfCJgktW/5/YfGzL/xeUln4PYxeCv/rluasiHMWjtxd+9nGrOcR7ddyhutk9+c0IPg+\n",
       "3TWfMf4TFwAAAAAAAGAiirgAAAAAAAAAE1HEBQAAAAAAAJiIIi4AAAAAAADARBRxAQAAAAAAACai\n",
       "iAsAAAAAAAAwEUVcAAAAAAAAgIko4gIAAAAAAABMRBEXAAAAAAAAYCKKuAAAAAAAAAATUcQFAAAA\n",
       "AAAAmIgiLgAAAAAAAMBEFHEBAAAAAAAAJqKICwAAAAAAADARRVwAAAAAAACAiRz37gDw7PiyX/en\n",
       "tiSu8tcjpy1K2R4sWVxrrT04rHHsdZj30PP209je45TtweEcxT0M4+6Tn/7s3xlP/pY/+tbTZ1p4\n",
       "ThdvmyHuvuvXZw/gXNhP4VlWUlnQof7kUR68huPv+anfz6cssDL3ac7WWlvDOS08z57O07nwPNN+\n",
       "pnGttbYW1mh67lVy7i19ppWX854q3aw8pnSeKs8+zVk5R0ecufdFZY1WYkc8p/R4HrXv4vU84iyt\n",
       "rOc0bud1P2LtLYPW8545S2dZGFdao5dfz6UraTymQs4R7Rfcfd3DKGul6RFL7+pLHu16iXn37dsv\n",
       "3v6rbt4QT+spfOlshW/xV998fhR83vJvl3PPYnvhsne9Xsexad6tsKJPPZv7J+1JnHPIDzGl1rP2\n",
       "+3b5ftYyjmg/zxnP06DnmbdfyBkv/cI8haGjnn0ceU8+hZ9F/hMXAAAAAAAAYCKKuAAAAAAAAAAT\n",
       "UcQFAAAAAAAAmIgiLgAAAAAAAMBEFHEBAAAAAAAAJqKICwAAAAAAADARRVwAAAAAAACAiSjiAgAA\n",
       "AAAAAExEERcAAAAAAABgIoq4AAAAAAAAABNRxAUAAAAAAACYiCIuAAAAAAAAwEQUcQEAAAAAAAAm\n",
       "oogLAAAAAAAAMBFFXAAAAAAAAICJHPfuAPDsuD1lcb/qOs/5IVdrFPdg2eKc10uWs7XWjmHeY8/b\n",
       "X8LYNK611h6EY3p4DB/SBP7t618XTcB6znP2wpz2nkbmOeOMW9x4+3ef/SlRBz7yHe/Mk36wu7rK\n",
       "4rbCs49DKzkvv/aufvfPxuvk7rtfnnVgy8/cfg5jz4WNX4pN+zrg2a/5PLU1TDpgjZSU9kg6pjHN\n",
       "50nz0Pg9UjmdLz9NNWniSgd2Xqal+b90zgFtV+46lT2S34sK9l7PoQFbtCZ+jwzIWVFYe/G/ExQm\n",
       "v7RG4z268/V5xLuxsk7SK1Ql54irVmU9V/p6aZXldLh880/+5sPCCyILu37Lo2fuG/McL/yKfd9k\n",
       "fcCFYyuM6RAe+s+tz8U5a2NK+5rn3Dey4vJZK3Ofxo7I2VrlajLgOVXuMPE8jTHijOCy/CcuAAAA\n",
       "AAAAwEQUcQEAAAAAAAAmoogLAAAAAAAAMBFFXAAAAAAAAICJKOICAAAAAAAATEQRFwAAAAAAAGAi\n",
       "irgAAAAAAAAAE1HEBQAAAAAAAJiIIi4AAAAAAADARBRxAQAAAAAAACaiiAsAAAAAAAAwEUVcAAAA\n",
       "AAAAgIko4gIAAAAAAABMRBEXAAAAAAAAYCKKuAAAAAAAAAATOe7dAeDZ8Zteco7irpY1znm1bFHc\n",
       "dSHnsWc5W2vtGOat5Dz0LOfS45Tt6pDN/YPDKc75A6/9nHhQn/Fj31HobWbbLp6y2oMoqg/pZiVp\n",
       "vvbY0RL+3dyWn2V7u/p9/yVaqKdvf2m+SLcw9FyYp3N2Pj5tPw+NU6Y5K22P2PZ750wf6agjb8Bz\n",
       "il9jI/6sdtQ8hc9pRPOl9+2I2BHv+wE5994iu58lFeH8D7mSjhhT5XW39zsnnNPKvt8qZ2mctzD4\n",
       "NOfee2RAbOn6el/Gv/O+39L9POqzMYx98jUP86zhOrn+8keDfgjIujrklVP4vaiHD3UpHXqXt1Qu\n",
       "sOHw07E/TVl5Ulnece2nLr/0K2MaE3n5ue+Fi1l6jxgzTxXpPI2x96+vvDj/iQsAAAAAAAAwEUVc\n",
       "AAAAAAAAgIko4gIAAAAAAABMRBEXAAAAAAAAYCKKuAAAAAAAAAATUcQFAAAAAAAAmIgiLgAAAAAA\n",
       "AMBEFHEBAAAAAAAAJqKICwAAAAAAADARRVwAAAAAAACAiSjiAgAAAAAAAExEERcAAAAAAABgIoq4\n",
       "AAAAAAAAABNRxAUAAAAAAACYiCIuAAAAAAAAwESOe3cAmNu3fswbtzT29vQkijv2OGVbwthDIedh\n",
       "WePYtK/H5ZznDNu/KvTz6pC1f324u3hOcr1ncesaBrbWts3fY13adryK4vqW79GtZ8+pv3Ab57x6\n",
       "/c/nC2VH23uzd0NrrbV7MaI2pp/5a2x/aV/zLdLi7VSZp0L7scqzT2P3Xk8j5rQypvA1VtoihVdj\n",
       "eDy3bcScjtj3lZx7r7297Tn+veepcj5u2USV9shlm26ttdYL34ND/p3hWdxPe7ef2vvcS+09n3vf\n",
       "YQbM/U/efluc9VU3b4ieQK2b2UP9yfd9+335ytnVx918XrxL+j05dCv9TGPHjL2y9i8/plHyOb18\n",
       "zoq9n+iIjJ9y88eiDfXO2290Pgb88gsAAAAAAAAwEUVcAAAAAAAAgIko4gIAAAAAAABMRBEXAAAA\n",
       "AAAAYCKKuAAAAAAAAAATUcQFAAAAAAAAmIgiLgAAAAAAAMBEFHEBAAAAAAAAJqKICwAAAAAAADAR\n",
       "RVwAAAAAAACAiSjiAgAAAAAAAExEERcAAAAAAABgIoq4AAAAAAAAABNRxAUAAAAAAACYiCIuAAAA\n",
       "AAAAwET63h0A5vb2j3njlsauW3akHJY1bv+qZ7FLj7tZav8Yxh7CfrbW2vGQxV4t5zjn1fEUxV2H\n",
       "cU9j7+LYZcnmvxfm6WO/5weiBfVvXv9p+cPPI1sP19RSWE+pLdxLldiP+q4f9s4P3f2T3xI9/O3q\n",
       "Kk8arr3r173nmXtOT77mYb7zwj8v7MdCBwr7PjbizyArT37EmCo5w9gtf421lh6lA/pZMuA5bWtl\n",
       "QYVJR+RsbczXY/i+7ZW2w3vJMDvu0codog2J3Xk93ReVud9b/Egr6+nyKcesvULO+Ngt5EzXyajl\n",
       "NOQ9evkzfxty5I+Y1J0vJpXP1gHruafv5kOcsm1P8vvOg6+4vUcHL5f08TdfkN6i4px73jSX0vmU\n",
       "xw6JHHDfKY0+fJnUZvTyOdPo+3SIjVhPP3L7tvs0BRflP3EBAAAAAAAAJqKICwAAAAAAADARRVwA\n",
       "AAAAAACAiSjiAgAAAAAAAExEERcAAAAAAABgIoq4AAAAAAAAABNRxAUAAAAAAACYiCIuAAAAAAAA\n",
       "wEQUcQEAAAAAAAAmoogLAAAAAAAAMBFFXAAAAAAAAICJKOICAAAAAAAATEQRFwAAAAAAAGAiirgA\n",
       "AAAAAAAAE1HEBQAAAAAAAJhI//SbL95GJP7B22/oI/IC///+3qu+IN73T87533oclizt1XKOcx6X\n",
       "NYpben6UHXqWs5I3HfvT2Gz86difxmY5P+lH/mF8Nr/7M39PPKglHH8vzH3a0V549q0Qm7a/FJ5T\n",
       "Gruu+b7btqynH/3dP+S9zIt69Jdfmu/7lz6J4vqx0IFD2nghZ75FW0tfT5XdlMZWbuTpmCr9rLQf\n",
       "xm6nAe0P+XIZ0/52zhb0VrhrxdbCw6+8R+P3fZ5yyEO9N2+8yoLKBrVVnv1WWHuj9l5i1PPcc0wj\n",
       "lO7E47qRtR+eJaWcleABDz/9Hgz38tPYX1lX3r8B7ZfuRSNe+CPmdMQm2fl9V1l7edI8NL1DFH5b\n",
       "We/Sj4cWj395/i5Oef2WR3ufpuzkxhXNoAAAIABJREFU42+y31W3wh7p4YZO48qxA86I2jfB5S1D\n",
       "5nTPyH3V+pnO/Rj/9PZt92VaI/4TFwAAAAAAAGAiirgAAAAAAAAAE1HEBQAAAAAAAJiIIi4AAAAA\n",
       "AADARBRxAQAAAAAAACaiiAsAAAAAAAAwEUVcAAAAAAAAgIko4gIAAAAAAABMRBEXAAAAAAAAYCKK\n",
       "uAAAAAAAAAATUcQFAAAAAAAAmIgiLgAAAAAAAMBEFHEBAAAAAAAAJqKICwAAAAAAADARRVwAAAAA\n",
       "AACAiRy3tg1J/Gk3bx6TOPBDt2/te7UN98F5y7fIccm38vXhFMVdLWucc+lZ7KHQzzRna62lM7X0\n",
       "SvuXPx63sKfvet1nxY2fzue4/WXL0i798sdzL8xnqfUwb1/zv4c6pGu/tEa88j5YPf7ql4QbLz/z\n",
       "Wr/LQ6/ytLF06Ve2SCV2xJ83pu3nR24Lj9xWOnILY9/SvhaWXlsHnGUj3rdbYaLSMVXGHg+pkrMS\n",
       "m3Vgq8x9ulD3fjWOaL8yT+k6KTzPrbT2drxvlJq+Twvlsnrl0C/t0TTw8nM/6veqIc/+FL4fhrzv\n",
       "KsED5rT2kZWFlc6cAeu58o0Z54xT5gpDT++PrRW+sQu/w8QOhd9WChfo9XH48eLzmsC/uv2Wi6+U\n",
       "T7x5436XiILSfSPNWYi9F5NUNGJMlTnNYy8f2Qcduq+7+aJoWmu316yvI0bkP3EBAAAAAAAAJqKI\n",
       "CwAAAAAAADARRVwAAAAAAACAiSjiAgAAAAAAAExEERcAAAAAAABgIoq4AAAAAAAAABNRxAUAAAAA\n",
       "AACYiCIuAAAAAAAAwEQUcQEAAAAAAAAmoogLAAAAAAAAMBFFXAAAAAAAAICJKOICAAAAAAAATEQR\n",
       "FwAAAAAAAGAiirgAAAAAAAAAE1HEBQAAAAAAAJjIcdu7B63Sgz6sF/AseMer3xBtqLv1HOe8WtY4\n",
       "9vpwiuKWJd/3h561v/Q8ZyU2jaycTj1sv9LPPGf+PEfYtnym0jFVcrbKnA6IXLfsb6f6lvdzDcf/\n",
       "r3/vZ8RJP+Z7fsAL9z4Iz+deOHMLS2/MAZm+ng6FnJU/WRxxMQ6P3dLcpzkLKVv2Cn+a9y58qOd8\n",
       "8uOzfOczf1sL7Yd9HZFzmB7P1NBuvJi4m/dI6YyIk1bWXho4YPJL76bSrXxAB/ZbfKUlUupmmHnE\n",
       "1N+jsyTfo5WJGjD+0qAu3/wIfcShP+A3gyH7rnSO57FbOP5+zH9bauE3yXYq3B/v8o+C9dFVlvNJ\n",
       "5UPjUSEW3r9D+OF6Tj8GW2u9cPCk+75i7y+HNO9W6EE6pvv1OZL1dv8xFX4rHZAzd/lflP0nLgAA\n",
       "AAAAAMBEFHEBAAAAAAAAJqKICwAAAAAAADARRVwAAAAAAACAiSjiAgAAAAAAAExEERcAAAAAAABg\n",
       "Ioq4AAAAAAAAABNRxAUAAAAAAACYiCIuAAAAAAAAwEQUcQEAAAAAAAAmoogLAAAAAAAAMBFFXAAA\n",
       "AAAAAICJKOICAAAAAAAATEQRFwAAAAAAAGAiirgAAAAAAAAAE+mvu3nztncnUj2M+6Hbt6ahsJt3\n",
       "vPoN0d57fD7GOY/LOYq7PmRxrbV2VYkN2z8sa5xz6ekRlR9lvXBC9ELevP0sZz721g7hcxoz9621\n",
       "SuyFVZ5nbZ1ksUPa3/KkWxibjqe1fD211tpHfdcPe+c+Qx7/1Zt4ofTn8vPk0kr77lCIvfwrJ9/2\n",
       "lZzp1Fdy5tu+befs70C3u/wOs51HHCWVnJc/n9saxlZypinTtgs5/2/mSnDWfNx+5V7yK+nJ5IZc\n",
       "tSr3jQHNp2u/dC8a0H7FiPW8s/gOWZnOezJPA94iEyiMasS9KH6R5Rlrc/+MvSBGnXnh7wbL9SlO\n",
       "2Q+X/3bY1vx/k9bb6yju+b/0i8/YIuFZ86qb7Pfk1lo7FD6Ge3g+pnGlnIXzqfYbXJizNKb9claO\n",
       "/Mo0LWF0Glfpwbb7XS8fU238mXT8/hMXAAAAAAAAYCKKuAAAAAAAAAATUcQFAAAAAAAAmIgiLgAA\n",
       "AAAAAMBEFHEBAAAAAAAAJqKICwAAAAAAADARRVwAAAAAAACAiSjiAgAAAAAAAExEERcAAAAAAABg\n",
       "Ioq4AAAAAAAAABNRxAUAAAAAAACYiCIuAAAAAAAAwEQUcQEAAAAAAAAmoogLAAAAAAAAMBFFXAAA\n",
       "AAAAAICJHJfW9+5D7P70FF7cFsY9OJzinMflnOU8Xj5na61dHbPYSs5lSWcqt10+Zes9T5rGHpY1\n",
       "zrmEsZWclTHdG4UXSQ936f7zlA2qsu5H7DueQY8H3MyO2drb8qOsXX/Zo3txhXzyNQ/zjZeOvzDy\n",
       "6y/P5+nJX8/6usW3ndb6kD8tHXCWFVJuW3g+ny8/+BE5SwrvxnCahjzOkgEnSXrXKLVfWaN5aKwX\n",
       "5im+m6z5et7WyoMKYwfs+3zhF2OHCCegcH/saeyAb6xK3tLUp81Xvkd69sKP111rQ9Zeqf247Upw\n",
       "ZVJH3A0GnCXhuVc78wq28NxdH8cpl4dPssBB39f9Kv8dCmb2k7ffNmTjf8LNH0lfzhdvu3Z7y6PT\n",
       "yErOtJY2ouZW+b6utZ/Fjlh4lbkfoTJPaV9Lv4PE6wkAAAAAAACAaSjiAgAAAAAAAExEERcAAAAA\n",
       "AABgIoq4AAAAAAAAABNRxAUAAAAAAACYiCIuAAAAAAAAwEQUcQEAAAAAAAAmoogLAAAAAAAAMBFF\n",
       "XAAAAAAAAICJKOICAAAAAAAATEQRFwAAAAAAAGAiirgAAAAAAAAAE1HEBQAAAAAAAJiIIi4AAAAA\n",
       "AADARBRxAQAAAAAAACbSP/Pmj297dqDSeI/j0sjWvv/26/NgeBHf8wl/OF7SW7hOj8s5bv+wrGHO\n",
       "LK611q4Op0Js1tfe852fxi6FMW1bvu3T9itjWgaMKY09hM+o2v69MeDEL63n9K1X6GfafmXdV2KP\n",
       "x+yMeMXf/Rfet8+Yx1/1kmjx9av83GlLuJ5P+d8hPviKW2vvwk7fehM9qPV/FN7N5/CZVs6ytfDo\n",
       "07yFnGn725OrOOd6OoSB+R7Zdv0aHKSwTvKcl0854l5S2iMDxtQrYyrcoWJDxl85S9K4ylmS7efS\n",
       "8xyxRyp34vB9X7lnl/bTgG+8IcLvsVo/B+yRIWfuoOvbjufO7nu0kjOdp0LKJfxuLH07VI6I8Ny5\n",
       "+Qv/3bcDfIB98s0Xxrt5Kf1PYpo23/ZLGHufDpLCr+QDIve275jSnP4TFwAAAAAAAGAiirgAAAAA\n",
       "AAAAE1HEBQAAAAAAAJiIIi4AAAAAAADARBRxAQAAAAAAACaiiAsAAAAAAAAwEUVcAAAAAAAAgIko\n",
       "4gIAAAAAAABMRBEXAAAAAAAAYCKKuAAAAAAAAAATUcQFAAAAAAAAmIgiLgAAAAAAAMBEFHEBAAAA\n",
       "AAAAJqKICwAAAAAAADARRVwAAAAAAACAiRyX3vfuw8X19uyNifvhsGxxbO9rFHe1nOOcy5LlXHre\n",
       "z6Uwprj9MK611nrY11LOOHJQ+2nOQ54zbf94PF08Z0lh7RWSFmILezQOrOz7LLaXzpIwtjL3Wz6n\n",
       "25rF/tc/+rFxB47XT6K4l731p73wA4+/+vn84R8qay98PxXWc7xFC2uUyzt+/u29eADv+/MfFi++\n",
       "fsjvW6ltzf5eNo1rrbXtdLhoXGutbZVXc7j3ttIeDWNHXCEGqY0/zBm+b9tWWE8D5jS+l7TCfWfQ\n",
       "HWZPlTWSP/sxY+/hN0Hl/rqtl198tZ+2svYrz2nIPT+c+23EXau1MWf+zns0ndOKeI+OGHrlzB3Q\n",
       "fGVBpetke3LMcxbuO/14+bsecBn/7Pab4iPq02/eXHiTXf7/Fxd1p8j+s5T1YEg/C0nTUP+JCwAA\n",
       "AAAAADARRVwAAAAAAACAiSjiAgAAAAAAAExEERcAAAAAAABgIoq4AAAAAAAAABNRxAUAAAAAAACY\n",
       "iCIuAAAAAAAAwEQUcQEAAAAAAAAmoogLAAAAAAAAMBFFXAAAAAAAAICJKOICAAAAAAAATEQRFwAA\n",
       "AAAAAGAiirgAAAAAAAAAE1HEBQAAAAAAAJiIIi4AAAAAAADARI6H3nftQKX1JY0uJP3sD3nLlsa+\n",
       "45e/dt/J4h6Il1Nbwtg8Y2s9jF6WNc659Dw2Vdr3PRxTGPe0A4XnFMb2Ss5w/kvPKYzthZy12MvP\n",
       "UyV2hHT86dgrOZdKznCP9sPln2drLT6ktsLOP1w/ieIe/ZUPKUxUHNke/tlfvhfv+8d/7SYbf+EY\n",
       "H7HvtrUwnWHsdvZ3iPfBL37hR8cLark6RXGH67u4/Se/FIe2Q9j+thXWc3o+FnKup2OW83SIc1Z2\n",
       "fbyfK/OUfuJV7qSVU3zAc2prdkaVnn2YszT3hadfGn8ov7+OuefH77zS0NP286Sl92jaeuWuGbbf\n",
       "D5e/P5YU1ujln1JrLV3PlaQDvkVL0ryVuQ9jS2Oq7Pu4r5ef0xEfGJXzofTbUjynlXdjtkdqY8pj\n",
       "fT3As+EHb98ab/zfffMl0WE2ojxWSxn+DjLkApUbMaaaWpXk0kaMKM3pHQYAAAAAAAAwEUVcAAAA\n",
       "AAAAgIko4gIAAAAAAABMRBEXAAAAAAAAYCKKuAAAAAAAAAATUcQFAAAAAAAAmIgiLgAAAAAAAMBE\n",
       "FHEBAAAAAAAAJqKICwAAAAAAADARRVwAAAAAAACAiSjiAgAAAAAAAExEERcAAAAAAABgIoq4AAAA\n",
       "AAAAABNRxAUAAAAAAACYiCIuAAAAAAAAwESOx96HJE6zLoX204rzFmesxcKLWXq+og7LGkbmObct\n",
       "20+Vflac12yXntZDnHPp2Tzl89naUolN56owp8uSxR63U5xzO1z+LN8q83TIYpflHOfshwHrtPCc\n",
       "ehhbWk9X2TNdjvk8LYcsNm27tdZ6pf10TIX2l+cfR3H9uXzuKy/8u697GEVvIy4clZxrOP78yC3F\n",
       "Xr/l0ZhLJBfzc294dbyieuEse/nbfyJ69us5/3vRvoSx4V2ntda2NY89na/DnJf/G9hKznRMlZxr\n",
       "YZ7SvKV5GvC+jT9GW4vP3fSeXYldz/mhm+6nEWu0ojJP8R2m8Ox7eM+uSO+ET4Oz2NISDee00s/S\n",
       "PKVjGvSNmaqc+anKPKXjr+yRNGflHT5knYx49qW5z8cfz/+A78bKt0N6llfuWpU7VHxIVY6S8JmO\n",
       "2MuttbaG++S/fdEr41F96Nve43sIPsBe/5IvjffoGl/0Cx0YsOvzI3ffOl4tZ/jduvfkl1oP7+QD\n",
       "2vafuAAAAAAAAAATUcQFAAAAAAAAmIgiLgAAAAAAAMBEFHEBAAAAAAAAJqKICwAAAAAAADARRVwA\n",
       "AAAAAACAiSjiAgAAAAAAAExEERcAAAAAAABgIoq4AAAAAAAAABNRxAUAAAAAAACYiCIuAAAAAAAA\n",
       "wEQUcQEAAAAAAAAmoogLAAAAAAAAMBFFXAAAAAAAAICJKOICAAAAAAAATOR46H1I4jRrjyNbS7va\n",
       "tzhlO22FYHgR5zX/u4glXKin9XDxnL2wSdbtKo5N9Za3vyxZ7GFZ85w9j03zLpX2w9htzc/Hw3q+\n",
       "eM7lUBjTmsUeDnn7W5iz8BppvfCc8pyXf49U9mj80hvzum9tyxJvhfNxfZSdO0u47qu2+IwqrOdz\n",
       "OE/nwt/XhXO63hXeIw9OefvtUSGWfVTet/n5+Atv/G1R4sqZu4Zr//ToOs5ZOvjibZ/P6Raej+s5\n",
       "36N54/nY18LdID3L0+fZWj5PlXdj6T0arpO0n09js7i18m4M10ll7ivtp9upcs/vyzGLKz3PXNrX\n",
       "0tobcC/MGx+zR/KfjC6/7yopK3s0fU6HY34vSue0su/SnJX3beXZL4fsrl1Z9/GYKvt+2ff/U0ac\n",
       "Uen7tvLtUNkjI3Km67Ty3VhqP3xOld9MgMv4rJd86ZAL1JLe8yv3ogE/rt2bU6fy++uIpANUWh/y\n",
       "7MOU/hMXAAAAAAAAYCKKuAAAAAAAAAATUcQFAAAAAAAAmIgiLgAAAAAAAMBEFHEBAAAAAAAAJqKI\n",
       "CwAAAAAAADARRVwAAAAAAACAiSjiAgAAAAAAAExEERcAAAAAAABgIoq4AAAAAAAAABNRxAUAAAAA\n",
       "AACYiCIuAAAAAAAAwEQUcQEAAAAAAAAmoogLAAAAAAAAMBFFXAAAAAAAAICJHI+9D0mcZh3SeqE0\n",
       "/R3v/doxE8AHpRdO13Hsut1FcVthl/S+RXG/653fESf9/k/83Cxpa20J20/jWmtt2bLYdc3naVkq\n",
       "f79yysIKY9rOhyxuy8eUtl7J2c/5mNK1txzWOOeyZLE9Hn2t/cPhHMVta7hGWj7/2ylbI6211o9Z\n",
       "P5dT3s/KPK1LNv+VtZeu6OUqH9PhQXbmttbi/dwL8xSfEYV5Wh9fRXGn24dxzl/9N37WvegZ0sP9\n",
       "WRbm7eE52lprfc3ezaX3WOHdHF+3KmdZGJu+71prbT1n87SG89laa2vhnZO2X7rDlN4PcdZCbPhu\n",
       "Ltw1U5Wxr1s69/mzL819+hqrfOGHS3/Uekr7Wrlrls6dC+ccdT6m75LKPMXrZNBrLB3T8Vi4k/f0\n",
       "LC/skfROmmcsPfsl/c4ovMfi9VTIWZGf5ZVzJ8xYOR/S78Y8Y03a/oBzZ8y9YEz7P/eGj4uSfvi3\n",
       "vds3FlzK5V+jrQ+oUI0ouY07SPY7oka1nM5/6Q41IHIJQ/0nLgAAAAAAAMBEFHEBAAAAAAAAJqKI\n",
       "CwAAAAAAADARRVwAAAAAAACAiSjiAgAAAAAAAExEERcAAAAAAABgIoq4AAAAAAAAABNRxAUAAAAA\n",
       "AACYiCIuAAAAAAAAwEQUcQEAAAAAAAAmoogLAAAAAAAAMBFFXAAAAAAAAICJKOICAAAAAAAATEQR\n",
       "FwAAAAAAAGAiirgAAAAAAAAAEzke+pjEI9L2NOugMcGL+aUn13HssR+juOeOpzjnH3z337746j8s\n",
       "axybNt77FudMI89b4W9StnxM6xaO6nzI2w8tlTGFs79t5zxj4Tn1cJqWtbCewvb7kvfzsObj38Jn\n",
       "n8a11tq2hjmP+bNf0n6uec61su/TdVKYp5a2X5n7cz7+fkjXXmGewtjKekodHtxdPCf3w8vf/hPx\n",
       "gvr5L/jt8WG6nrJ3XmXfxbeI0rupcN9Iz+fKWRrGLof83ZTmLJ258W2rleY/bz7r6+kuuzuPci7c\n",
       "9eK1N+C7tRee51K4Q23xXfPy96J43bfac4rv+YUHtSzZfq6MKTXsZ5AR+z7sbeUcX/rl76+nU37u\n",
       "VNpPVcY/IudyyMZ0KLzH8m+8y89nay1+55TOsjB27+dZOSS2NO2Ab5famAr3wvCdl76bWsvP8p/5\n",
       "Q58Ud/S3fueP+lWbDzqV07GyQdLfKit2rXlVchZS7nnoDHv2cVyeNZ3TEf30n7gAAAAAAAAAE1HE\n",
       "BQAAAAAAAJiIIi4AAAAAAADARBRxAQAAAAAAACaiiAsAAAAAAAAwEUVcAAAAAID/w77dhNy2rflB\n",
       "f+bHWu8++9yqWMYqS4kYQ0EEJSEY0EJEC9MJBpQCG+JHkRhTlbq5Jw1BESLRoCAiJVyuJWo0RAxo\n",
       "RxBtSBCFIARbASXphIQUJhHrI/fm3nP23u+71pzTxkZIy/yfsKbvOOf8fu2HMef4HmM+awEADEQS\n",
       "FwAAAAAAAGAgkrgAAAAAAAAAA5HEBQAAAAAAABiIJC4AAAAAAADAQCRxAQAAAAAAAAYiiQsAAAAA\n",
       "AAAwEElcAAAAAAAAgIFI4gIAAAAAAAAMRBIXAAAAAAAAYCDrdFLB05SV3Hl+Ghs+GmL/9W/5mSOJ\n",
       "e97ywffFdoni/rn/44+/6og+jvzxexo7Rc3ZsnTKbIR+eHnKnr9scZlT+ALLssdlHmGd5jnvz7nR\n",
       "pvOcxe6NBXoKnz8feTt1+j4d+5058uhnV1XNYew85+00N8belJbbqNMZZc5r/ru1acuePzXaKX52\n",
       "p+2nLPaH/v2/4mTE39Tf/V/+7/E4+cv//G+LVtN4LlfVy/s3Udyy3uMyO2vEti1R3L411pJwb+yc\n",
       "IeYwdrtn9ak65+6073mht9s1i3vJzs4fn9/pp2ycdsqMn905a4WxrTNp4/np2aTTTtuejdN7Yzyn\n",
       "ZX6Mzd61M55/8k/9D1Hw//aP/1N544ePn8NzQdfR+mqTSUvs1Cldcz8+P4vtzJE0tlVmHPj4taQq\n",
       "vz+07hmNfso1yjzjVJw+vvHsM8ZTyxnFpp+LTph3ndjOGep+X7Myw3NmVdWf/Z0/Fb3ovVHmb/2T\n",
       "/5P7IK/id33jm9F43hqLztJYTOcw9oz70BmT7ryJ/Pg83qvut43nv3ZuMj4T50UCAAAAAAAAcDZJ\n",
       "XAAAAAAAAICBSOICAAAAAAAADEQSFwAAAAAAAGAgkrgAAAAAAAAAA5HEBQAAAAAAABiIJC4AAAAA\n",
       "AADAQCRxAQAAAAAAAAYiiQsAAAAAAAAwEElcAAAAAAAAgIFI4gIAAAAAAAAMRBIXAAAAAAAAYCCS\n",
       "uAAAAAAAAAADkcQFAAAAAAAAGIgkLgAAAAAAAMBA1mma4uA8Mtcpcw6Dz3hPvnr+yG/85pHG/vL7\n",
       "+8Ofn47nM/xX/+Dvjuv+3Q953fcjq9Q67XGZ6Yuuc15m7/lhneYtf374ruuel3mflihunuOurylu\n",
       "/bzcudH2c9hOS6Pv0zKrquYpq9Nyb/TTsmbPXvL3XJbs+WlcVdW8NmLDsd84bsT1P8I1p6rq2PPf\n",
       "rU3h86d7Yzw12jT1w7/wlx15eBW/4U/8mYePvT//T/+j0aI7hWtzVdXemPcvz9co7r5l63hVvud1\n",
       "1rLL5ZYFNnpoWRpnvT07b6TtWVX1/vkpitvCZ1dV7XveAOk5Ij0TVuV92jlrpe/Z2e878ykdVPct\n",
       "n3dpn97ujb4/8uend5etsZb8yX/4n40a9Yvn/AyR6vRnes6tyu9jZxxKOu85nXDO7zw/XfM7/ZTG\n",
       "tt6z0U5nPD+uf6fMOLK77o1fZud+fzReM97HTuj7qfPNotP2Yej9np/1brdLVuaW72PpHO2cH+G1\n",
       "nHGGWBrRS/ghqvON/ssy8x6/Mw1Q9zP66YQyTzkTn1AmAAAAAAAAAH+LJHEBAAAAAAAABiKJCwAA\n",
       "AAAAADAQSVwAAAAAAACAgUjiAgAAAAAAAAxEEhcAAAAAAABgIJK4AAAAAAAAAAORxAUAAAAAAAAY\n",
       "iCQuAAAAAAAAwEAkcQEAAAAAAAAGIokLAAAAAAAAMBBJXAAAAAAAAICBSOICAAAAAAAADEQSFwAA\n",
       "AAAAAGAgkrgAAAAAAAAAA1lbWdzp8aGNIuPYuVHo7/71nx1p7B/7tW93XpfBbXvenZ/f1yjuk2WL\n",
       "y7zMexz7aO/D+lTlda/K2/TtmrfTPGVTdDvy/uxM5GXK+mmd46WklrBOlzlvpyUcT+mzq6qmRmza\n",
       "T+l7VlVNlZV5xntWVa3hu66NflrDNeKy3uMylyV8z6VTZmPshe+6duZ9+Pz1kp9i5rCdqqqmsO87\n",
       "Y+/H/vM/5wwB/x++ePc2ilue87Vk3/M14v3zmzg2la7le+NM+hTW6Xq5xWU+f/g0jr1vSxT34eWa\n",
       "l7lnZd7CZ1fl71lVdYQnw7111sz2h865pPHwWK9Ojy8zje2UWY3YtPVvjbVkO7LYdIx8jA3jWmfi\n",
       "OPSU8Zy+a+ve1rhnzPEdLy8zjZ1PuA+17litfnp8mWnbnzGeOlp1Cr8FdOZ9nTBHTthx4jFSlfd9\n",
       "b4zmsfGe0zhDbI39IXWk+0jYnvCa9nQfa6xmnXVnCWM756LUGR+AOut4KzYMbtUpPUN0ynz842vq\n",
       "DKgTxPnOU98CAAAAAAAAgBZJXAAAAAAAAICBSOICAAAAAAAADEQSFwAAAAAAAGAgkrgAAAAAAAAA\n",
       "A5HEBQAAAAAAABiIJC4AAAAAAADAQCRxAQAAAAAAAAYiiQsAAAAAAAAwEElcAAAAAAAAgIFI4gIA\n",
       "AAAAAAAMRBIXAAAAAAAAYCCSuAAAAAAAAAADkcQFAAAAAAAAGIgkLgAAAAAAAMBA1mnKgxuhcWzn\n",
       "+fBIc2PsHSeUuUxpqY/3vOe/3+jEvr9nse+2NS5zC5spfXZVb925ztkLzI3+XMPYNXx2VdV13qO4\n",
       "SxjXKbMqH89ro8wjrH6nP5cpf376rp02XZctirsu97jM9Plro8z0PauqLmsWu3TqtGaxl+stLnMN\n",
       "y6yqWsLYJaw78Df3g/dvo7j7tsRl7ke+Qbzcs7PJ1Njvj9btKbPO2brzt7394uHP7nh/u8axX7w8\n",
       "ZXGNMj+cNE5S6Rmqc35M3/PeqM8ZdT/jej/Ft7Fz5l3nPnQPYzs3wTmMPuvbTnrO75yJ07F/xh2r\n",
       "Kr8TLI06xWfyRpnpntNpp05sOvc6e+MZfX/K8zt34TC2856pzvrYm/knjL2wnZalMUda+0MYd8Le\n",
       "2FlLKmzTM8YTX2//5NufiwZVJ5k0h+vOckKZVfm83xvT6UuTyzpjiWjU/Yx/jk6Nxj/nTvJ6/BMX\n",
       "AAAAAAAAYCCSuAAAAAAAAAADkcQFAAAAAAAAGIgkLgAAAAAAAMBAJHEBAAAAAAAABiKJCwAAAAAA\n",
       "ADAQSVwAAAAAAACAgUjiAgAAAAAAAAxEEhcAAAAAAABgIJK4AAAAAAAAAAORxAUAAAAAAAAYiCQu\n",
       "AAAAAAAAwEAkcQEAAAAAAAAGIokLAAAAAAAAMBBJXAAAAAAAAICBrJ3gaWrEPjiuo1XmGS/Aw/2B\n",
       "H//sSOI63fndlzz2Zc/iPl3z30Vc50sU93v+jqzuVVVvwxn9157DClXV7chb9fu3LHZudNQtfNX3\n",
       "97zMzlqWvmvnFzHXMPi65GW+XbKG+iSMq6p6u+ax1zmLXcO4qqo9HHudeT9P8XSKY+fKy1znLPbS\n",
       "aKfLskVxU+s9G30fPv+65JP07dNzFPfmmi/k10seO4f99Jv/+z/lFAEP8o/9r/9dNJ/+m9/yL8WL\n",
       "WWe/3/b0DJOvpUsa23jPy5ytud//7idxmbc9P8U8b9nh5N09v2Y+b9nz34dxVVX3xvk1vrc2+uka\n",
       "7iNHPpziM/ktHMtVvTNUeoa+iGQDAAAgAElEQVSJx33j+Z33zE8wVUfYph8abZquJZ33THXuI0vY\n",
       "n1VVl7BPL50yw9h1yluqc8dM1/LOeE5jO+fs9J7RmncntFNnjqZ3kqXRTun6VFW1hGNqboy9tE/T\n",
       "O0ZV3k7TCWtuVWOOdPopvDeuWxZXVTU3np+2VeubQfodJKx7Vf6e6R7G19s/8fb3xQN6D9edW+cA\n",
       "G5qm/BTTOe9sj3/Vmk74VpnuzZ3qdLop7fu5se4sYWjrXNKpVFhwp59OGE4x/8QFAAAAAAAAGIgk\n",
       "LgAAAAAAAMBAJHEBAAAAAAAABiKJCwAAAAAAADAQSVwAAAAAAACAgUjiAgAAAAAAAAxEEhcAAAAA\n",
       "AABgIJK4AAAAAAAAAAORxAUAAAAAAAAYiCQuAAAAAAAAwEAkcQEAAAAAAAAGIokLAAAAAAAAMBBJ\n",
       "XAAAAAAAAICBSOICAAAAAAAADEQSFwAAAAAAAGAg637kwVOn5DC4VeaDn11VtTRif++Pfha11h/9\n",
       "lW+fUq2vsy/uWdz7ez6gv9j2OHY7snLfzMvDy/zu9iEu86nWKO6Xr1lcVe+XHvewTk+NibeFi9Tt\n",
       "pLUsje2sJdcw+LrlZT4vWU+9rPmL3o889jo//jdBW/j8eco7/zrnsUuj3Edbp3x9WsM6hdOzqnrj\n",
       "+bJkA/Vpzgf0p89vorjrEm4OVbU0+v7N5SWK+19+8qfjQn/qT/+3zgbwAN9/eYpjO/tDGtnZG9JJ\n",
       "39lvjzD2iy0/k972fA9/v2XP//yWl3kL67Q19rHOnnfGWS88ltUcj7x8nLzkR4iWtEenRjulofMJ\n",
       "ZVZVpd9CGlfMOLZxFY1HSaedro3ga9j5l9Y5O41rrLmnjL3XrVM67zrv2ZkjabmdsZfW/zrnk2Rp\n",
       "3J3SO0Gnn9YwdmnUKW/7c+63a3h3u4Z3waqqdctiL4073mXNn7+k99FGP6Vf1qbOvG88n6+n3/WN\n",
       "b8YD6uV4/LfvjvT8PjUSVHtrz8s2qF7OK3t+p8y0mzpnnU5vpl0/NUqdw5dtnSEarZruj2ecH8/g\n",
       "n7gAAAAAAAAAA5HEBQAAAAAAABiIJC4AAAAAAADAQCRxAQAAAAAAAAYiiQsAAAAAAAAwEElcAAAA\n",
       "AAAAgIFI4gIAAAAAAAAMRBIXAAAAAAAAYCCSuAAAAAAAAAADkcQFAAAAAAAAGIgkLgAAAAAAAMBA\n",
       "JHEBAAAAAAAABiKJCwAAAAAAADAQSVwAAAAAAACAgUjiAgAAAAAAAAxkfd6OOPjSSPku05QFNsoM\n",
       "S6zKq1Tpa3b83h/9LH6DP/or3z7hDb56fnDLmvR7t1tc5q/VD+LYtS5R3GVf4jLncER/UR/iMv96\n",
       "7VHc916ucZlPtcaxSzihv7Fl7dlxP7K6V7WWiLif1sZictmz2Oucl3kPy4zX5qq6zPkC/e6exb3f\n",
       "8uenr3qd8x5904hNm3+ZHl/mPOVtn0bej0bbN2bJZc7WiKcln6Pv7tka8bRscZlTo59+3TWr05s1\n",
       "33OAx/jV5/wMcWms+ak3jbUsXXeft3zNfx/GPjf223eN2A/hsvucL8+VXkcf35sfpa3fuTcuYeza\n",
       "OOulkfd8iMZtX5W3/965i6dxjbY/43LdqdNrjufGcKoPjdj0O9Cl0VHpu06NMjv9lIauJ8z7zhhN\n",
       "q9+5j6Tv2YltrY9h63fueNclj12nbJHstWkWuzbqFJcZ1qeqaum06Zxt5J372Dpn7/q05t/V9iO/\n",
       "j13CAb2H71lVtYXfAF9u+fk17aXf/j//j74nf8X8jrc/F3X//cjn8t6ITb9/dr4r7uGIfn+EHxWr\n",
       "aj0638uydz1OOJm12il8/Nwos7NApLXvtNMavsHU+Fb5EuY9qvL2nxotlZ6LOmfSW5jP8E9cAAAA\n",
       "AAAAgIFI4gIAAAAAAAAMRBIXAAAAAAAAYCCSuAAAAAAAAAADkcQFAAAAAAAAGIgkLgAAAAAAAMBA\n",
       "JHEBAAAAAAAABiKJCwAAAAAAADAQSVwAAAAAAACAgUjiAgAAAAAAAAxEEhcAAAAAAABgIJK4AAAA\n",
       "AAAAAAORxAUAAAAAAAAYiCQuAAAAAAAAwEAkcQEAAAAAAAAGsv71+y0Ovs55znedpjAuL/MShqbP\n",
       "rqo64sj8+Uen0K+x3/mNn49b6v+6vYvivjt9P37+hykrs6pqrWsUtxxLXOalLlHcfOTjea01irtV\n",
       "Pu87sdcjq9O273GZU2X13+vxZVZVLeFvXdYjX8vuYey90fdT+J4ve17mLW/S+sEtK/fdlpeZvunT\n",
       "ktfpec5jP1myJWrq7DnhqnfG3rQ3Ct0asdc5C75u+RzZL1mbdubI1oh93rK1/BuXfH384//A74ka\n",
       "6mf+7H+Rvyh8hfyHP/Fz0Rx5buxNnTXiaW4UHFqmbH1cw3W0qupNeN552fMz6Rf3OLS+CJe9e+NC\n",
       "dMbVqXE0iM8bc2O/T3eHtTHs0nbqtGfn3pq+6v4lugynPdqpUXre6qw46QmqccytrTGe03PhS/74\n",
       "Sh/fOb92+imt/dr420Nn3Xm01v228Z5p/TtVX8LOfwrvYlVVl8Ydcw2/az419uYp3O87bR+fIaZ8\n",
       "NemcN65zdo542fPGv4Rnrc4Z5ta4Yz6tWblr40yY9n3HdMrJiNfyj7zNvgNUVd0qm08vRz7v9sZ4\n",
       "SmNfjvzycA2/U7+rD3GZa+VrRPyd/oQ9fGrcRVOdHMFrS9+1c4bp/Bs1Lbfz/Nfkn7gAAAAAAAAA\n",
       "A5HEBQAAAAAAABiIJC4AAAAAAADAQCRxAQAAAAAAAAYiiQsAAAAAAAAwEElcAAAAAAAAgIFI4gIA\n",
       "AAAAAAAMRBIXAAAAAAAAYCCSuAAAAAAAAAADkcQFAAAAAAAAGIgkLgAAAAAAAMBAJHEBAAAAAAAA\n",
       "BiKJCwAAAAAAADAQSVwAAAAAAACAgUjiAgAAAAAAAAxk/bxe4uDrvuQFh/nhdcrzyJ8c2fMvjdT0\n",
       "/chjj2OK4qYs7EvlJ9/+y3FLfagPUdz/efxq/Pzn+TmKewmfXVU1N37DcKvs+cd0yZ9/ZM+fKy/z\n",
       "UmsUN1U+SPfa49jnKWune21xmWk/dd5zPbJ2qqq6TNnQ3xrP38K+f97yftrC9XGvfB3/lXw61cue\n",
       "1z+1hIvptbHmPy15m76bw9jGmp+2fmNrqk/D4bw3Cv0in6K1ntBPqR/c8vF8D/fwqqrrnDXWD93z\n",
       "teS2f/V+N/eH/p5vRQ3VORfN4Zp71lHr3/ql73wFT3FfDtc520eWcIx8jM2fP4XlnjGT5zlfdC/h\n",
       "hOq85x6eIaqqnsK98fN73vjPW9b2nXtbZ89L16jjyAtNa39rrGbp8ztniEaV4nJbJ8Kw0KNVq4c/\n",
       "vqUz9lLpGG0sj6199IQjcVxmpz3PGHutM0wa2GmoE96z8/j0PrY0Np01fIGnxl248w3wEg6+D+F9\n",
       "oCMd91X5GaZzLro06vQmPJe9WfIzRHrWuzTORc+N5z/ds3Kflntc5hLWqeOr+E35q+gfevsvRhPq\n",
       "Vvl4utUtiut80+3EpjvESyOX9BJ+J+58U03bqapqSu9O4XfaqrxNe1M5LfOsvj/jVJzeW/O2T/ON\n",
       "VVVLGLs16h7fSTrNGXbTV++LIgAAAAAAAMCXmCQuAAAAAAAAwEAkcQEAAAAAAAAGIokLAAAAAAAA\n",
       "MBBJXAAAAAAAAICBSOICAAAAAAAADEQSFwAAAAAAAGAgkrgAAAAAAAAAA5HEBQAAAAAAABiIJC4A\n",
       "AAAAAADAQCRxAQAAAAAAAAYiiQsAAAAAAAAwEElcAAAAAAAAgIFI4gIAAAAAAAAMRBIXAAAAAAAA\n",
       "YCDTb3/7M0cavNYSF7zUFMXNYVxV1ZvpEsVdprzMpRH7Q2tW/zd5M9UWtv7n97ib6nu3WxT3g+ND\n",
       "XOZtusexL9NLFDc1+v4WlllHXuZ8wm8Y8qfn0Utn3h2NwRfaa49jt2mL4o7Kx3MuL3Nq9H06Tubj\n",
       "8WV25sjlWLO4KR8jnV5K33RttH0ae5nyMq9z4/lzOEcbE38N95y1UeZT2KV7o0Nvjdj0VS+NJTfd\n",
       "R8/6JVrY9bU2XmAOZ9TW2cfC0Hk6Y83Nx35nb4zr1Fih0jI7/vAvfeeEUr96/rO//1+JO2oKx2ln\n",
       "jvTG3uPnSVritueLyT2s/3OnzD1vqXdbVu67e17m+y2L/X52xamqquf0klX5/tgZT+kVs1Nmujcf\n",
       "jaG8n3Am7zw/vRN0zsQdaT+d0aatlj9jG280abqadPopbfut0fidZkqLbXwuimt/xmg+o+0/lptJ\n",
       "7zhV+R3r0njPa+MzSHrP6HzX66wRqXg8Nc4vnfvYdc7KfbPk34ue5iz2GsZVVV0bz0/LfVqy71pV\n",
       "VeuUPz8uM3zPf+bP/An3kQf7zZ/+dDyhzvimnH5T3Sv/Rr8e1zg2rVPnO3G6O5/zxSLfHzv5qfyb\n",
       "buM7ceOb8pdFfi7qfCfOvn1/jM3KvTfGczr2O3mPtJ2+eiMEAAAAAAAA4EtMEhcAAAAAAABgIJK4\n",
       "AAAAAAAAAAORxAUAAAAAAAAYiCQuAAAAAAAAwEAkcQEAAAAAAAAGIokLAAAAAAAAMBBJXAAAAAAA\n",
       "AICBSOICAAAAAAAADEQSFwAAAAAAAGAgkrgAAAAAAAAAA5HEBQAAAAAAABiIJC4AAAAAAADAQCRx\n",
       "AQAAAAAAAAYiiQsAAAAAAAAwkHU+GnncKQ89HhxXVfVybGGhS15oo/rbkb3thy1vqLTMNK6q6s2c\n",
       "1f96vI3LXKa8TumbLo3xdAvr/3zscZlLY0Cn1Y/HaFU91z2Kmxvvea01ims0fT1XXqeX4xbF3cK6\n",
       "V1Xdpyx2r7zvj8bKs4X136e8ndIe6PR9+p63ytfHqTNHwthOmUu4QC+NfeyydWKztlrnvE6XKXv+\n",
       "pVHmSzj0O/vt1ghO37Sz5r+7Z8Fro8xGk8Zt1VlL0z69NM4laf3nxh7eaaf0uDM1Rl86Tjp1apwK\n",
       "a5myd/0jf+8fiCuVBv7hX/pOZ0h9KdyPxth7cFxV1RT2Z1U+nztraYX175wg7nv4po0X7cz7t0u2\n",
       "6fzbv/SLcam/70c/y962UafG1Sk+53cmaHqG65xJ0zp17o2d2Px+35olD3567/x8xrzfwzbtjKcz\n",
       "vq10gju3rNQUro9pe34sNA+Niz1jODfEVersd539IXyDdGuqyu8Ze2PDP06Y9505up8wTtK9qbPm\n",
       "nTGcO2fyPfxW+9zo/KVxcX2as9XskyW/PaRn3Xf3vMx/9S/8x1+5O8GXxcv0IY6dw1vJ0dhFn+td\n",
       "WGbu7fTDcezluEZxnXVnqUsW18jldL7/5pteYx8J5/1ywvfXs759nyGtUzqXutJ7ztE4GKVt2lnE\n",
       "83YCAAAAAAAAYBiSuAAAAAAAAAADkcQFAAAAAAAAGIgkLgAAAAAAAMBAJHEBAAAAAAAABiKJCwAA\n",
       "AAAAADAQSVwAAAAAAACAgUjiAgAAAAAAAAxEEhcAAAAAAABgIJK4AAAAAAAAAAORxAUAAAAAAAAY\n",
       "iCQuAAAAAAAAwEAkcQEAAAAAAAAGIokLAAAAAAAAMBBJXAAAAAAAAICBrOuU53HnmuLYJcwPL40y\n",
       "pzD2MudlXufH1z9/etXTkkUvU6Pt1yzu3XbEZVYjNG2AS6Oh5rD+25G/aFpmVdUlHiaXuMz0VV/2\n",
       "vE5pZGc87Y02ve+fRHHv9y0u8/v7SxR3q7zMeyP2qD2Me3w/daQ92lmf0jW3qmo+sthO3bcpa/v9\n",
       "yOKqqu6NsZ+Oqcu+xGVuUxb7sufvmbZpp+870i23M57SyM463ql/Op87z38KG6pzhkn3pvCoUVVV\n",
       "ayc2fn7jDBOGLlNjzW39ZDEd0J3zRhb77/5934wLTY8G/+Zf+o9Omfq/8BO/P3qD256vz+l8mho7\n",
       "SX5+y9eIzj4WxzYK3U9YzRtHvfrX/+IvPvwF3ofHsnvjPRtLaWPs5dI52rmO3cOOemnMu87dKdUr\n",
       "MYtunSEa6/MUnl874+mMNk294qOrqqqx3dcZN6JW/V+5rR6td8fLpbfmvdGg6T52NO5DPY+/tz72\n",
       "yR+l607nnD/n20Nj3c0PW2u8PnfW/Di03offv983Nue0n26njWcSv+3tvxB16svx3Cg1XUvy8fRU\n",
       "b6O4tcIP/1X1yf4mjn0zZd+0PwnjOq6NxezDli9mL0e2k93Db79VVVsYm8ZV5d+e03xb3+PvQ1P4\n",
       "IabzvaiVnoq/VeZtekb7p/utf+ICAAAAAAAADEQSFwAAAAAAAGAgkrgAAAAAAAAAA5HEBQAAAAAA\n",
       "ABiIJC4AAAAAAADAQCRxAQAAAAAAAAYiiQsAAAAAAAAwEElcAAAAAAAAgIFI4gIAAAAAAAAMRBIX\n",
       "AAAAAAAAYCCSuAAAAAAAAAADkcQFAAAAAAAAGIgkLgAAAAAAAMBAJHEBAAAAAAAABiKJCwAAAAAA\n",
       "ADCQ9U2tcfDSyPku0xTFXeYsrqoqjZzDZ1dVrY3Y23FEcc/bHpf5NGdt+mbJ33PLXrOOsD5VVZ8s\n",
       "ed+vYeiaV6nyx+eFdn7BkDZ/YzjXHjb/duSFpj3aeM3W8+/hC7zd83Xn022J4j7s+bx7bsTejyw2\n",
       "n01Vexh9NEo9o+87pnAt7Tw/rdM+ddqp01OPL3NL193WWnJGnRqx4fMf/5bnjKePsVn03HiDpzlb\n",
       "y9JzQVXVNZx3a2NzSvfwqqpr2Kit/T6M7dSp0/tp8zeOZbH0/Fb1+r/CnMI2bRyzY3vjXPKyP/4F\n",
       "WmtZGHw/4azXcUY//eyPfRa/ajr20zXno8ffnTpzNN3vX9ILQeXn15fjHpd5r/xMnJ5fO6awnzpD\n",
       "dGrMp/T5c2uOnjFLvxw67ZSeoV67NXv9+fjxnOqN0dwU3rN63yxO6NV8KYuffjR6Ko3s9H36Daxz\n",
       "zu5Ii+2ciV/CcdKpUusbXBh7xvNPuLJ/7f30D38rbtX0u17nu+L3j+cobu3kUsLYzneIa/gdoqrq\n",
       "KRzQnW8WcYs25sjaWPj2I6t//K2u8jPxS2M8pWV2zuNnfFPuSI8GSyuX08hPhZfcTt9v4Yh+/Onx\n",
       "9b8BAQAAAAAAAPA3kMQFAAAAAAAAGIgkLgAAAAAAAMBAJHEBAAAAAAAABiKJCwAAAAAAADAQSVwA\n",
       "AAAAAACAgUjiAgAAAAAAAAxEEhcAAAAAAABgIJK4AAAAAAAAAAORxAUAAAAAAAAYiCQuAAAAAAAA\n",
       "wEAkcQEAAAAAAAAGIokLAAAAAAAAMBBJXAAAAAAAAICBSOICAAAAAAAADGT94eUSB09To+AweG6U\n",
       "+bwfUdw9jKuqmhpp7LROnyx5oU9hA1xOSLc/Nd6z8/i02EbX589vFNqpUzpOt3zo1T2NbZS5hpXq\n",
       "jKel0aZp/W97XuYaNv7TvsRl3ve8ARrNH0ubtDOe0tDG8lh7o/ZpnabGJD3C59+P/D23Rmwa2tkb\n",
       "lzA4javq9OkZozkfp522T2O3yheTdDxV5WP/3nj+fc9ib4217GnOYtc9H0/pmltV9RKGdspcw9DO\n",
       "PrY1NrIp7PvO3phWP+/5qnXO3vMXfuL3xwM/rXtV1TV8fmfVeQ735uct7/zeuSzrqD2Mq8rbND2/\n",
       "VVVd52wt6dyx/rW/8IudY3nk81se+8maxXX2207906X8Q2NA/bXbPYp7f2RxVVW32qK4vXPWmRqx\n",
       "4Xju7LfpubBzfpwac3ROz2Wt8+tXT9r+nfv1KX3feH5e5uPX/DPe9Ix5V5Xfh6qxlqT76HbCXbSq\n",
       "ag6f3/mumOq855a2U2PidaoUf19o1Co9P3f28KUxTtbwXe+t71XZ8zvnRzKfphfHqpqn7Kb1xT2f\n",
       "UOv2en2a5ieqqp7mvE6XcPI1mj4+v7fSHo36x9/1Tnj8S2Mtyb+nd/bbzjewzBmjvvGarXN22k+v\n",
       "vTqndfJPXAAAAAAAAICBSOICAAAAAAAADEQSFwAAAAAAAGAgkrgAAAAAAAAAA5HEBQAAAAAAABiI\n",
       "JC4AAAAAAADAQCRxAQAAAAAAAAYiiQsAAAAAAAAwEElcAAAAAAAAgIFI4gIAAAAAAAAMRBIXAAAA\n",
       "AAAAYCCSuAAAAAAAAAADkcQFAAAAAAAAGIgkLgAAAAAAAMBAJHEBAAAAAAAABrL+6Js8j3s0Cr6E\n",
       "xR6NQj9sU+MNMsvji6ypUWYaOp9QZken77cwuNP3azie1rzIVt932v/Rz782fmrxtGSN2ql7p5+W\n",
       "KQv+sOcvcA0b/2WPi6ztyJ+fRnbmyBoW2ikzlc7PqqqXxpqbrnutsRe2/q3R9/dGbBraWR7S+qd7\n",
       "aFXVPezTvdH3ndg09GgsJunzO+N5a8yoLXzXe6NOaZl7o8zbkY3Se2PNmzt7czjx58ZasoRlputo\n",
       "VdWlsfBsYcGdtWwP27+z5h9bIzh0aXR+ukR11pIvtqzU9/e8zNaeFy76nfNGukN01vw/9qvfefip\n",
       "9He8/bm4paawTt+75YP0XbhGXBoH8nR9qqr6ZMni0v32Y2y4j1TeTvm9sbHmNfacIzznH43VbA/r\n",
       "3ymzczCbwtUsHfevrfOerdhwH+uMvTl8fhrXjU3r3/vXQ1ZmZzTF7/kl+l6U6pwh7p032LONfD9h\n",
       "PHe+FS5hnfbGt5XGlSB+19YcOeE78dFo1HQfa02oE75/kumcn9Pvquk3qKqqqbID5Pstvzykd+HW\n",
       "mbgRm7bTm/DsXJX301nf6Ndw3nfW5y1cd1vfq8LYW2PNvzUW/XTP7fRTOp46bd/ROUekzsh5pfwT\n",
       "FwAAAAAAAGAgkrgAAAAAAAAAA5HEBQAAAAAAABiIJC4AAAAAAADAQCRxAQAAAAAAAAYiiQsAAAAA\n",
       "AAAwEElcAAAAAAAAgIFI4gIAAAAAAAAMRBIXAAAAAAAAYCCSuAAAAAAAAAADkcQFAAAAAAAAGIgk\n",
       "LgAAAAAAAMBAJHEBAAAAAAAABiKJCwAAAAAAADAQSVwAAAAAAACAgaw/9uaIg/PIqmXK4vZGoffO\n",
       "C4TC16yqXv0f/fzXfs9eP2Vve9/zMpfw5wadXyXMU16pOeyAM/qp1fZhm+6NF700GjVtp7dLXqk3\n",
       "Yey9U6mGdN15mvM6pW+6N0bUFj6+00rPnTZNq98pMizz1lhLOrFpm3bW3LT66Vyqqlobz091xkka\n",
       "ezRKTde9Ttsf4d5Ulfd9GleVv2unzC1sqE6Z93TiVdUWxr5UPvGOxhxN7Y0D5P/9IYv99ddLXOaP\n",
       "XLOx936Li6yXdL9v9Odlzjf8M9aydH1+bgzozni+hYPvZc8H6R7O/KmxPv7U2599+FF/nvLnz60d\n",
       "4rFujUPxh8Zish3Z2F8bVf+RS7ZGvNnyeZdWPx13VVVbI3YP1/J7o8yX4x7F3aYsrqrq6Ow54bum\n",
       "cd3YVLpG9GZnHp0uEZ27yxze3NO4j7H585cT/s+wnNBPS9j4nf32jG8Wje32lO9VnTLTtbTTpvG6\n",
       "22mn8O7S+a7VqdQUnks7fX8JY9Pvyd3YPZxPU6NNp8Ydk8f6kWse+xR+V3y75f35/XA+vdmWuMzU\n",
       "GfmZqny/T++iVfm7ds7ZT40mTb8pXxvfdNO8R0e6lp7xnbgbm0rHXqftlxNyOR238Dt5a4yk55K8\n",
       "RAAAAAAAAADOJokLAAAAAAAAMBBJXAAAAAAAAICBSOICAAAAAAAADEQSFwAAAAAAAGAgkrgAAAAA\n",
       "AAAAA5HEBQAAAAAAABiIJC4AAAAAAADAQCRxAQAAAAAAAAYiiQsAAAAAAAAwEElcAAAAAAAAgIFI\n",
       "4gIAAAAAAAAMRBIXAAAAAAAAYCCSuAAAAAAAAAADkcQFAAAAAAAAGMj6jXVvhB8Pf4Gjpld8etVx\n",
       "QqF5jbrBj3VG3auqtiOr1NZ4/hS2U6c5z4idprxSaeQRtmfn+Wf9eiPtpzNcGm3fWfXehHFzo+7p\n",
       "3PtDf+k7can/zm/8ZlTq0njPt3lo3fes4L0x7/dw5nXWkluj8/cT1rI0tLU+nbA+Lo35lI79V1we\n",
       "qqp3hkjHaTpGOmV2xtM9fP69Me7TMqvy+XTvzPsTDievfX78/J7Fddbnp3AjfwnX5qqq58bgu6UD\n",
       "ulGnOV7zG+955IO/sz+ltvDE8eEIB0lVPU1rFHepJS4zbfuqqmu46K+NQ+ESxnbmSGctS4d+bx/J\n",
       "ojvtlHZT537dcRzZmNobLbUd2Xi+d+Z9bXHsPZyjW2ctCes/ndBPp93FTpgj6bt21qdT2rRRZvqu\n",
       "y5Tfxi/x+tj5ZhCHxntu537dWSPOkD6/cyY/QzpKOt92GktZxdtoZ+zFd6y4yNoa4zk9R3T20XSc\n",
       "/Ad/5duvfR3+ynmzdM4bWdxlzsv8269ZXOs7TDihO2WujW87a1j/TjvFa1njPTvfq874XpZ67e8Q\n",
       "re9VYQuckUvq9H3n23tabqdO9zkb0a1v32Gsf+ICAAAAAAAADEQSFwAAAAAAAGAgkrgAAAAAAAAA\n",
       "A5HEBQAAAAAAABiIJC4AAAAAAADAQCRxAQAAAAAAAAYiiQsAAAAAAAAwEElcAAAAAAAAgIFI4gIA\n",
       "AAAAAAAMRBIXAAAAAAAAYCCSuAAAAAAAAAADkcQFAAAAAAAAGIgkLgAAAAAAAMBAJHEBAAAAAAAA\n",
       "BiKJCwAAAAAAADCQ6d/7TT9/vPZLpI7wTY+aHl7mx3K/vqa8SVttesbzv87OaPuOM/opLfLrPD+r\n",
       "8naaTmqptO87Y3QPa9Upczsa+0MYt3fq1Hh+Km37s/p+jp/fKfPx79p5/jnjObPt+Zvew/F0b7zn\n",
       "rfH8W1iprTVHsrjOCOn00xn72HJCmWmVOm3/suWx6XhuzZEwNn12VdXWeIG0rW57/ga3sFLPR974\n",
       "l2mJ4tbGYL6kC3lVXcJyO3MpfdfLST8/vodd2hl7Rzj2OmvZHLZT+uzu89PYM/bGXpmdeZ/Fts56\n",
       "X8VbyRl7cxh91n6f6qxlc3jaPGPNXRtldpbS9Kx37+y3ad+3+vPx617an72nP16j62tq1GkNQztj\n",
       "Lx3PnTp1ztlp7FN21Kqqqjdh7C/81W/7qvmKfv7v/Ozh0zQdJ7/ukp8g0+8gb+a8Opc5f/41jH2z\n",
       "dE7FmU6Jtz3fyU75BsbhwEAAABttSURBVBfGvfaJsHeGCu8Zf2uv8v97mVV535/xTfeMOvknLgAA\n",
       "AAAAAMBAJHEBAAAAAAAABiKJCwAAAAAAADAQSVwAAAAAAACAgUjiAgAAAAAAAAxEEhcAAAAAAABg\n",
       "IJK4AAAAAAAAAAORxAUAAAAAAAAYiCQuAAAAAAAAwEAkcQEAAAAAAAAGIokLAAAAAAAAMBBJXAAA\n",
       "AAAAAICBSOICAAAAAAAADEQSFwAAAAAAAGAgkrgAAAAAAAAAA1mftzyPezQKPjrBob2mLK7x7L3z\n",
       "AmG5U/aaLa1se/j8udGja6NO05SV22mmdDyd0PQfn39SuTzOWX2f+iqOkc5als7RdB3vmE9Yn1oa\n",
       "RR6vOFJaLX/ChHrtOTo12j4e+41K7UcWPM/5ey5h6BqXWHVtHDi2dN5/iRbIJT1DNfr+OmenzfTZ\n",
       "VVX3sE23PS/0QyP2FsZ2un4LD+UvjcP7Fs67j7FZ3G1f4jLTfvrQuI/N4QLVuTt0xt50wkUnvWd0\n",
       "7iOdO15a/1Y7nbDrpfU/Gs9uLc9h8Osv+Y9v+zO+g3TG6BnfVjrNdMYZLq3TrVH5znkjDT0az0/n\n",
       "fWcZTc8bZ/07I33+0hglceRJl5e0SztnvfhM3FhN4rWk9f0zX3nSM1Ra96qqPRyonf3+Q+P56T6e\n",
       "3tuq8vr/7I99Fr/pf/LL337tq/Or+YN/V95OHWnfP295mek4fd7y7nyKrxl5M10a3xdewkl6Rt7j\n",
       "/T2/Y3XueGntO1VK6780vj92vlelOvtY6owzcefu0tnz8n3s8c9vtVNYf//EBQAAAAAAABiIJC4A\n",
       "AAAAAADAQCRxAQAAAAAAAAYiiQsAAAAAAAAwEElcAAAAAAAAgIFI4gIAAAAAAAAMRBIXAAAAAAAA\n",
       "YCCSuAAAAAAAAAADkcQFAAAAAAAAGIgkLgAAAAAAAMBAJHEBAAAAAAAABiKJCwAAAAAAADAQSVwA\n",
       "AAAAAACAgUjiAgAAAAAAAAxEEhcAAAAAAABgINO/8Ru+daTBWxxZtR3Tw8u87VncvVHm3ojNalR1\n",
       "aaTGp7DQJX14I3ad8spfG3VawnLTulflbd8osqpR/9QRjvvXNjXq3qnRGbXvjJOvmlPasx4/7v/f\n",
       "khOdNT9c8o3RV3aEfdoZeWes+b095/H72BnStm+V2WjV9AzVec0zdqfOuhePvUbfzyeMpzP6/t44\n",
       "w9z3LLbzmnu6j6SbQ+X7SFXepp12eglf4MMWFxnfhzr7bWcpS9u080vh9O60nrXhh211xt2lc8eb\n",
       "w9izTnppn6bv2YntlJneRavOqVOq8x0i/b6RfoOpOmecnDFF0zWvqurWadMT1tI0tFXmKWe9XDpO\n",
       "98aLnnF+PENnzU/PJlujVlvYpq12OqFRO+vjFM78s+5YabFzYzVbw41kaVQqPRc9NQ5b/+mvfDt+\n",
       "gW/9+GfRSOmsZXE75UW2xkn6/bvzPf86p2XmDfU0Z4vJ05JvjtewzI69c28MYzvL023PO+rDlsXe\n",
       "wvttVdUtrFMn75KOk/TbQld6J+nMu/wM0SjzjO9VjfGcXts7cyR9T//EBQAAAAAAABiIJC4AAAAA\n",
       "AADAQCRxAQAAAAAAAAYiiQsAAAAAAAAwEElcAAAAAAAAgIFI4gIAAAAAAAAMRBIXAAAAAAAAYCCS\n",
       "uAAAAAAAAAADkcQFAAAAAAAAGIgkLgAAAAAAAMBAJHEBAAAAAAAABiKJCwAAAAAAADAQSVwAAAAA\n",
       "AACAgUjiAgAAAAAAAAxEEhcAAAAAAABgINO3fvyzIw3e4sg89mXPy3zesrj7kb/olD++limLvjRS\n",
       "43P4AmvjRdPnPzXe87rkbbqE79r5BUHY9DVVY5Ce4GiNqLzU1BlPT8do5/nT9Pg6nVH3VrlnvcAr\n",
       "Pr4zm9JldzvyN033kXR9qHr9Xy6lr3rGSnZGf3bK7YzRdN2ZG2vJl2XP6YznV152XnXH7YzRjk77\n",
       "P1qnTul7dsrcGyNqD8s941x0Vt/Hz2/EPm9Z/d+HcVVVt/Du1Lm3Na5jcft3zo/xmp8X2Rt5Jzw/\n",
       "vQ+tc95RR+MMleqcydN+SuveiT1rv0/LPeM+1JGuuZ11/Iyz3hlldu4O98bz73tWbmstje9Djy+z\n",
       "s46nZbaef8Kec8a5qCpfI5bGYpJ+q+x9U82Cz5h3Z0nX/DPmSFWn/p2Wyip1xrno3pj4nW/K17Cj\n",
       "3ix5mWlsp8xL42zwFH7TfprzRr2EZ7jOWS/tpkvjPTvnkh/c1iius+e8hPtt5/zWmaH38ByR3tuq\n",
       "qj6EsZ217JN0jDbmSOf5eX7q8Svp3jjrdfa8tP5nnKHScdcp87W/ZwMAAAAAAADwN5DEBQAAAAAA\n",
       "ABiIJC4AAAAAAADAQCRxAQAAAAAAAAYiiQsAAAAAAAAwEElcAAAAAAAAgIFI4gIAAAAAAAAMRBIX\n",
       "AAAAAAAAYCCSuAAAAAAAAAADkcQFAAAAAAAAGIgkLgAAAAAAAMBAJHEBAAAAAAAABiKJCwAAAAAA\n",
       "ADAQSVwAAAAAAACAgUjiAgAAAAAAAAxk/cEtD96PRmwYt3XKPLLgZZriMpc8tOYwtpMZT59/xnt2\n",
       "dPo+1SoyDj6h8g0nNFMdjTqlkZ1WakyneOx3xmj6/M6869U/69Uw7DTp4zuvuR95S6Xlbo0y4/2h\n",
       "UakzVohT5n2j0DP6viNedxqNv4Qve9beOIetNXXW5zD0jLVkOq33w+efMPE6ZbbW/DMKDZu/sTzm\n",
       "GmUe6eG9qm57VnBnzU/naGc899aIdN43ylyzuMuc1+ketum90Z+d/T4t9oyzZqfvz5hOrX3khDve\n",
       "FLf+Oc5YH8+4u5zhjHNZ61wUrk9LY47snRc4YR9L33RttP0lD609XHc7d/H0m0nnG1ga21rHT/iu\n",
       "1ykzvrt07nit+ZTFddb8p/BjxL31/TN7gTO+1VWdc35fwzJvje2u9U05jnzdb3Dxd+LGR7DLCXPk\n",
       "bWOB/nTNWv+T5YxeqrrMWbn3I2/U770sUdy7LS9zC6v/SaPt03tbVdWvPWdxnfPrGV4775Gu5Z0y\n",
       "n7esUm/C+2VVnfIRcG5sDunjzzhDVOXniN538iyus9+n+5h/4gIAAAAAAAAMRBIXAAAAAAAAYCCS\n",
       "uAAAAAAAAAADkcQFAAAAAAAAGIgkLgAAAAAAAMBAJHEBAAAAAAAABiKJCwAAAAAAADAQSVwAAAAA\n",
       "AACAgUjiAgAAAAAAAAxEEhcAAAAAAABgIJK4AAAAAAAAAAORxAUAAAAAAAAYiCQuAAAAAAAAwEAk\n",
       "cQEAAAAAAAAGIokLAAAAAAAAMJD1frzyC0x57DxnwWFYVVUtjdhUJzOevmunTqm9Ebsd+QukQ2qP\n",
       "I89x1OMb9WhUKQ195Snakrbo3Gj7ecpa4Kx5P09Z8NToqbDIU5wxRj/KKrV3nh/GnraWhc/vtFNa\n",
       "/1Y7hXGdYdcZo/G8b827LK41l/PQ6rVWWGJYZGc8nbGUdMqMzzAnrI+98Zw//zV/3dhbS7IW2Fpr\n",
       "Sd6qz1sWd2+sufl4ynXWiCUcfOm5pKoxnhvveQlHyrLkZbb2+y/TwTSUt//j15Iz9tveOfPxHdp5\n",
       "/BlnmI64TRtlxne8zvp8wuWhtTe/6k//8/c8GntOen84Gh2VRp5xH+l8W0nPEB9js7jOSnLGNnLG\n",
       "+bVT5jWcI6/d9h2nTPuw+lvjgh8eSauqt+4+WucunH4nv855hS6N2Kcli30z5x11XbLYly0feZ/f\n",
       "88Pu5/c1ivur7/KO+t4tG33P+0tc5nXO6v9p46Dfubukd8fO+riGZ5jjpNVsSt+2Uan0bJB+T67K\n",
       "1/xbo5nOWMfP2O/PWpvTdbdVpxO+U6dl+icuAAAAAAAAwP/Tvh2sWHKVcQA/Vffe7pmeiQlOoigB\n",
       "F+LGB9BVEHwHdeMiQnQhZIiC4Bu4cDcBE3cSyCv4FL6BURAiiJCEJBOdpLvvdTF7+X/YJ/W1+f3W\n",
       "H19VnTp16tT9dzcixAUAAAAAAABoRIgLAAAAAAAA0IgQFwAAAAAAAKARIS4AAAAAAABAI0JcAAAA\n",
       "AAAAgEaEuAAAAAAAAACNCHEBAAAAAAAAGhHiAgAAAAAAADQixAUAAAAAAABoRIgLAAAAAAAA0IgQ\n",
       "FwAAAAAAAKARIS4AAAAAAABAI0JcAAAAAAAAgEaEuAAAAAAAAACN7PdLXlwojYsrPdcJPbe+pmVC\n",
       "z9TxlNeeCrXpNVWuKj3+Me64/ZhehbWXhYu6CmuvC+eZPndj5GNa6bkPiytr2aHw5yu7sO8un/j5\n",
       "3KtM0vSezlrzQ4WpN+W5rzyj6XNyXXlG056V9Tmsq9zPdN6PkZ9ruj6NkT+jxwnvkTHm3Kf0TGfs\n",
       "ISp/sVdbn7O6Q2F93IU9K3N0yr5wwgJZmaOfXmd1l5VFtyA918p8Ot9ldfvCfKocP62d8TzN2GvN\n",
       "+MYZo/LtcvOTb9o1zTh+2nPJxyk9/qTHPrb18SvScy3tX9M7VdrrZcUz1pJK7Yw9TMWp8DytE74z\n",
       "0nu/Fs4zfd/O+MYaI7/+Ss8ZKvNpxnw+hHWnwkDNGNKtf/+M19zS+rjtrxbp0SvfLrtwjdinC1nx\n",
       "+Gdr9uTPWMtm+e3fX7/xifLSxU+jqzoUvh4uwx+sHp/Cj8Exxnn6gT3y3zUr+410D7NUftspPKNx\n",
       "bSn3uPl1J/2tsvK72m1Z82tjXziBtOeE4l3lPTbhdwgAAAAAAAAAJhPiAgAAAAAAADQixAUAAAAA\n",
       "AABoRIgLAAAAAAAA0IgQFwAAAAAAAKARIS4AAAAAAABAI0JcAAAAAAAAgEaEuAAAAAAAAACNCHEB\n",
       "AAAAAAAAGhHiAgAAAAAAADQixAUAAAAAAABoRIgLAAAAAAAA0IgQFwAAAAAAAKARIS4AAAAAAABA\n",
       "I0JcAAAAAAAAgEb2u2VO41NYVzn8KWx6LPQ8pic6yRIOQCVtT3veJul9mnY7w8aXhRP45CqbqR9e\n",
       "XcY93xsfR3X/WP4W93xy/DCufWb3lajuxeM34p4P1rvZsfe7uOd5YeHbp89o4blLa7d+lGesJZWW\n",
       "aW3lua+s+ddhbVpXkb7vxsivv/JuvCwUX8XjlF/U47DpZaHnk+v8oj4Yn0R1H6/ZmjvGGOOUzei7\n",
       "p2zNG2OMi3EnqjuMfH28u+zj2rNwMbuzy3cxac90bR6jtj6na0RlLXkSFl8Wmn4W1t5Z87Ev3KZx\n",
       "CAf1rNBzFz6i4aP0tOeE2mPh5biEt3RNC0f+bqy8w9fCfM73MIVxiksnvBwLpVP2ZZUJvbH0Pk3Z\n",
       "6014RmZZwhl1m77Zt3xG0vGsHv8U3oBSzwm/RqRLROXbIX45jTFO4Qhs/LPa5vKd9s2btZTkfQvP\n",
       "6Mbr3pQ9VHj9le+RdN3bVd6NG4/9wz///sbP4KWLV+IB+M7dl6PaY2FMPz1dRXWnJV8hLpbs4yn9\n",
       "Fivb9oUfWzfe7U25/PR9X+hZqg2/xWtr2c33rJix5t/4wUe+h/OfuAAAAAAAAACNCHEBAAAAAAAA\n",
       "GhHiAgAAAAAAADQixAUAAAAAAABoRIgLAAAAAAAA0IgQFwAAAAAAAKARIS4AAAAAAABAI0JcAAAA\n",
       "AAAAgEaEuAAAAAAAAACNCHEBAAAAAAAAGhHiAgAAAAAAADQixAUAAAAAAABoRIgLAAAAAAAA0IgQ\n",
       "FwAAAAAAAKARIS4AAAAAAABAI/tK8alSGxZfF3pepz2Pec/L9ETHGEtYdywM1Bo2TevGGGO3ZMVh\n",
       "2dPavHTTnhWV+Zze06vCzU9LD8su7vnM6SLrefpm3PNP/34rvlUfhnXvxkfPvfzgYTz4lbmXNq08\n",
       "92lp5TzT2spzX3pIJjhNWCTe/OejrZcegM/Nj557NV7J95UXRNh16wW38m6OPx8KPfPrzyvTw1f+\n",
       "UndfKE6/SXZLPlDpTnetjOiEyVf4xIzN+cbadgNXmXtrYZ6kZtz7rcX7/MK9n/FbQG3st52n6VjN\n",
       "mE+1Kw9PYNq83/iDMFQ6y9txSbF5a174jBQ6zllLKse/+Wua8Yjmv0Hd/N59jDFee+fNW/Em/Wj8\n",
       "K669XrP04bPls7jnEt7V+8d7cc/9KdtF7Qr3/qwy+ybc+SV8oCv7xyl7mMLxZ/ymGxdX3mGVcZpx\n",
       "78O6SuZVeufcipUsP0//iQsAAAAAAADQiBAXAAAAAAAAoBEhLgAAAAAAAEAjQlwAAAAAAACARoS4\n",
       "AAAAAAAAAI0IcQEAAAAAAAAaEeICAAAAAAAANCLEBQAAAAAAAGhEiAsAAAAAAADQiBAXAAAAAAAA\n",
       "oBEhLgAAAAAAAEAjQlwAAAAAAACARoS4AAAAAAAAAI0IcQEAAAAAAAAaEeICAAAAAAAANLK8/ODh\n",
       "KS0+xpVjHMO6q0LTz8Kmj6+v4p4fnT6Na5+MrHY/9nHP++M8q1sPcc/zNcvmd4UIv5L2r8sS1WVV\n",
       "T739waOo/MdfzudzRdr07fez8wQAoI9XXrj5PWS6Kax8Y6WuK99thdpwmz/2hR3xWfihsS98kKQ9\n",
       "xxjjsN78DUg7Vj4c0tr0Ho1R+8bbh+O0Lvl4psevXNOMMc3v6Bzp9c+59ry4dvxtx3SGW/NDwNYn\n",
       "OuHWbz2bpgzphKYzzrPyLMfH33qOFpymzOdsAH75zhu3aKRu3ov3v5/nGWFKcRx5nrAfZ1Hds6fn\n",
       "457Pnb4U1d1b8ozgTpgRjDHGYbn5PGEX1qVZwhiT9roT9pqV5WHGw1w5fnqfKj3X8KLSuqp0fa58\n",
       "C2+53/CfuAAAAAAAAACNCHEBAAAAAAAAGhHiAgAAAAAAADQixAUAAAAAAABoRIgLAAAAAAAA0IgQ\n",
       "FwAAAAAAAKARIS4AAAAAAABAI0JcAAAAAAAAgEaEuAAAAAAAAACNCHEBAAAAAAAAGhHiAgAAAAAA\n",
       "ADQixAUAAAAAAABoRIgLAAAAAAAA0IgQFwAAAAAAAKARIS4AAAAAAABAI8vLDx6e0uI/vPdomXky\n",
       "AAAA/G++fe8H8Tfefuzivmen86juzjjEPe8vZ1HdvV1+nnd2+Wfredj2UPjz5zU8/L7wdZ3W7grn\n",
       "eVjiaTIOa1ZbGPqxC4+fjucYYywjv6Zlw183Zhx62uWEjedcU34/b4sZ4/T/N0rE86S0Pt68rZ/R\n",
       "Gdf02jtv+u37Frh//q148p3CebouhT3xej+qe279Wtzz+eMLUd3dwj77zrKPa8/XbBN5KGzM4v1r\n",
       "YVNW2WtW9pCpGfvHUzibKytu5TSnLHpp08JFVa7/GBa/9f62eWeazfpPXAAAAAAAAIBGhLgAAAAA\n",
       "AAAAjQhxAQAAAAAAABoR4gIAAAAAAAA0IsQFAAAAAAAAaESICwAAAAAAANCIEBcAAAAAAACgESEu\n",
       "AAAAAAAAQCNCXAAAAAAAAIBGhLgAAAAAAAAAjQhxAQAAAAAAABoR4gIAAAAAAAA0IsQFAAAAAAAA\n",
       "aESICwAAAAAAANCIEBcAAAAAAACgkWXrEwAAAGAb37v42SmtPVt2Ud3dNasbY4xn9tnfFd/dxy3H\n",
       "vvCVm5YuE3quhZ67sDate1ob3/pxCP/8e1/omZ7rWuhZGdNl5H3jnhv+wjLr0OkoVY6f1lbu0Ixn\n",
       "tHIGflzbTmWe/Oovb7hVwOfmuxc/iZeo4ykrPS7X8fGPhRXybByiuotxFve8WLMNfGX/ti+88M/C\n",
       "xpX3SHibplxTbZ+be+v9R96NzflPXAAAAAAAAIBGhLgAAAAAAAAAjQhxAQAAAAAAABoR4gIAAAAA\n",
       "AAA0IsQFAAAAAAAAaESICwAAAAAAANCIEBcAAAAAAACgESEuAAAAAAAAQCNCXAAAAAAAAIBGhLgA\n",
       "AAAAAAAAjQhxAQAAAAAAABoR4gIAAAAAAAA0IsQFAAAAAAAAaESICwAAAAAAANCIEBcAAAAAAACg\n",
       "kWXrEwAAAID/5udffXhKaysfuUtYXOoZ1q2Fpmlpej1jjLFb4iEd+/DPv/eF46/h8St/eV65phn3\n",
       "Pj72yM9zhso8+fVff+d3IwBgjDHGD599Nd7EXIeVx8K+6FjYQp3CvpWe12HPGZunPz62J/ui8p+4\n",
       "AAAAAAAAAI0IcQEAAAAAAAAaEeICAAAAAAAANCLEBQAAAAAAAGhEiAsAAAAAAADQiBAXAAAAAAAA\n",
       "oBEhLgAAAAAAAEAjQlwAAAAAAACARoS4AAAAAAAAAI0IcQEAAAAAAAAaEeICAAAAAAAANCLEBQAA\n",
       "AAAAAGhEiAsAAAAAAADQiBAXAAAAAAAAoBEhLgAAAAAAAEAjy9YnAAAAAJ394usPT2lt+pFd+RiP\n",
       "ey7xadaOHxbPuKbfvPu63y0AAIAvJP+JCwAAAAAAANCIEBcAAAAAAACgESEuAAAAAAAAQCNCXAAA\n",
       "AAAAAIBGhLgAAAAAAAAAjQhxAQAAAAAAABoR4gIAAAAAAAA0IsQFAAAAAAAAaESICwAAAAAAANCI\n",
       "EBcAAAAAAACgESEuAAAAAAAAQCNCXAAAAAAAAIBGhLgAAAAAAAAAjQhxAQAAAAAAABoR4gIAAAAA\n",
       "AAAAAAAAAAAAAAAAAAAAAAAAAAAAAAAAAAAAAAAAAAAAAAAAAAAAAAAAAAAAAAAAAAAAAAAAAAAA\n",
       "AAAAAAAAAAAAAAAAAAAAAAAAAAAAAAAAAAAAAAAAAAAAAAAAAAAAAAAAAAAAAAAAAAAAAAAAAAAA\n",
       "AAAAAAAAAAAAAAAAAAAAAAAAAAAAAAAAAAAAAAAAAAAAAAAAAAAAAAAAAAAAAAAAAAAAAAAAAAAA\n",
       "AAAAAAAAAAAAAAAAAAAAAAAAAAAAAAAAAAAAAAAAAAAAAAAAAAAAAAAAAAAAAAAAAAAAAAAAAAAA\n",
       "AAAAAAAAAAAAAAAAAAAAAAAAAAAAAAAAAAAAAAAAAAAAAAAAAAAAAAAAAAAAAAAAAAAAAAAAAAAA\n",
       "AAAAAAAAAAAAAAAAAAAAAAAAAAAAAAAAAAAAAAAAAAAAAAAAAAAAAAAAAAAAAAAAAAAAAAAAAAAA\n",
       "AAAAAAAAAAAAAAAAAAAAAAAAAAAAAAAAAAAAAAAAAAAAAAAAAAAAAAAAAAAAAAAAAAAAAAAAAAAA\n",
       "AAAAAAAAAAAAAAAAAAAAAAAAAAAAAAAAAAAAAAAAAAAAAAAAAAAAAAAAAAAAAAAAAAAAAAAAAAAA\n",
       "AAAAAAAAAAAAAAAAAAAAAAAAAAAAAAAAAAAAAAAAAAAAAAAAAAAAAAAAAAAAAAAAAAAAAAAAAAAA\n",
       "AAAAAAAAAAAAAAAAAAAAAAAAAAAAAAAAAAAAAAAAAAAAAAAAAAAAAAAAAAAAAAAAAAAAAAAAAAAA\n",
       "AAAAAAAAAAAAAAAAAAAAAAAAAAAAAAAAAAAAAAAAAAAAAAAAAAAAAAAAAAAAAAAAAAAAAAAAAAAA\n",
       "AAAAAAAAAAAAAAAAAAAAAAAAAAAAAAAAAAAAAAAAAAAAAAAAAAAAAAAAAAAAAAAAAAAAAAAAAAAA\n",
       "AAAAAAAAAAAAAAAAAAAAAAAAAAAAAAAAAAAA3ID/ANVNgQQY5PzvAAAAAElFTkSuQmCC\n",
       "\" transform=\"translate(176, 47)\"/>\n",
       "</g>\n",
       "<defs>\n",
       "  <clipPath id=\"clip7803\">\n",
       "    <rect x=\"2129\" y=\"47\" width=\"73\" height=\"1457\"/>\n",
       "  </clipPath>\n",
       "</defs>\n",
       "<g clip-path=\"url(#clip7803)\">\n",
       "<image width=\"72\" height=\"1456\" xlink:href=\"data:image/png;base64,\n",
       "iVBORw0KGgoAAAANSUhEUgAAAEgAAAWwCAYAAAD+FAeUAAAMbklEQVR4nO3dwY3sRhAFQY5Q/lsh\n",
       "L6XfLQtUeSQPERYMEg9LNMmZ/f17/r4P/+uvtz/A1wkUBAoCBYHCnPvv25/h0ywoCBQECgIFgcJc\n",
       "V7GVBQWBgkBBoCBQmHtcxTYWFAQKAgWBgqNGsKAgUBAoCBQECq5iwYKCQEGgIFAQKLiKBQsKAgWB\n",
       "gkDBU41gQUGgIFAQKAgUHDWCBQWBgkBBoCBQcBULFhQECgIFgcI8bpitLCgIFAQKAgWBgqtYsKAg\n",
       "UBAoCBQECvO4YbayoCBQECgIFBw1ggUFgYJAQaAgUHAVCxYUBAoCBYGCQGGe88/bn+HTLCgIFAQK\n",
       "AgVPNYIFBYGCQEGgIFBwwyxYUBAoCBQECgIFV7FgQUGgIFAQKAgU5nf/vP0ZPs2CgkBBoCBQmOf4\n",
       "I72xoCBQECgIFAQK83MVW1lQECgIFAQKAgVnsWBBQaAgUBAozOOpxsqCgkBBoCBQECi4YRYsKAgU\n",
       "BAoCBYGCG2bBgoJAQaAgUHDUCBYUBAoCBYGCQMFRI1hQECgIFAQKAoX5nfP2Z/g0CwoCBYGCQMFR\n",
       "I1hQECgIFAQKAgVXsWBBQaAgUBAoCBS8vBAsKAgUBAoChXk81VhZUBAoCBQECgIFR41gQUGgIFAQ\n",
       "KAgUPPYJFhQECgIFgYJAwVUsWFAQKAgUBAq+zBIsKAgUBAoCBYGClxeCBQWBgkBBoCBQcMMsWFAQ\n",
       "KAgUBAqOGsGCgkBBoCBQECi4igULCgIFgYJAQaDg5YVgQUGgIFAQKHiqESwoCBQECgIFgYIbZsGC\n",
       "gkBBoCBQECi4igULCgIFgYJAwR/pYEFBoCBQECgIFOY59+3P8GkWFAQKAgWBgkBhnusstrGgIFAQ\n",
       "KAgU3DALFhQECgIFgYJAwQ2zYEFBoCBQECgIFJzFggUFgYJAQaAgUHAVCxYUBAoCBYGCG2bBgoJA\n",
       "QaAgUBAoOGoECwoCBYGCQEGgMI+L2MqCgkBBoCBQ8Ec6WFAQKAgUBAoChfGNzJ0FBYGCQEGgIFBw\n",
       "FgsWFAQKAgWBgj/SwYKCQEGgIFAQKLiKBQsKAgWBgkBBoDCPL/usLCgIFAQKAoW55/f2Z/g0CwoC\n",
       "BYGCQEGg4IZZsKAgUBAoCBQECvM4i60sKAgUBAoChbnXH+mNBQWBgkBBoCBQcNQIFhQECgIFgYJA\n",
       "wVUsWFAQKAgUBAoCBXcUgwUFgYJAQaDgqBEsKAgUBAoCBYHCPEejjTpBoCBQECgIFNwwCxYUBAoC\n",
       "BYGCG2bBgoJAQaAgUBAo+HmcYEFBoCBQECgIFOa5Gm3UCQIFgYJAwVEjWFAQKAgUBAoCBVexYEFB\n",
       "oCBQECgIFLwnHdQJAgWBgkDBa8DBgoJAQaAgUBAoeE86WFAQKAgUBAoChblumK3UCQIFgYJAwQ2z\n",
       "YEFBoCBQECgIFNwwCxYUBAoCBYGCQMENs6BOECgIFAQKAgV3FIMFBYGCQEGg4CuZwYKCQEGgIFAQ\n",
       "KMz1G2YrdYJAQaAgUBAoeHkhWFAQKAgUBApumAULCgIFgYJAQaDg2XywoCBQECgIFAQK3pMO6gSB\n",
       "gkBBoOCoESwoCBQECgIFgYLHPsGCgkBBoCBQECg4iwULCgIFgYJAwVONoE4QKAgUBAoCBUeNYEFB\n",
       "oCBQECgIFDz2CRYUBAoCBYGCo0awoCBQECgIFAQKHvsEdYJAQaAgUBAoOIsFCwoCBYGCQEGg4CoW\n",
       "LCgIFAQKAgV/pIMFBYGCQEGgIFDwhlmwoCBQECgIFAQKc/wDtpU6QaAgUBAouGEWLCgIFAQKAgWB\n",
       "ghtmwYKCQEGgIFAQKDiLBQsKAgWBgkDBH+lgQUGgIFAQKAgUXMWCBQWBgkBBoCBQcBULFhQECgIF\n",
       "gcIcf6RXFhQECgIFgYJAwVEjWFAQKAgUBAoCBVexYEFBoCBQECj4Ix0sKAgUBAoCBYGCq1iwoCBQ\n",
       "ECgIFAQKrmLBgoJAQaAgUBAoeAUvWFAQKAgUBAqOGsGCgkBBoCBQECi4igULCgIFgYJAQaDgX9cE\n",
       "dYJAQaAgUHDUCBYUBAoCBYGCQMGz+WBBQaAgUBAoCBScxYIFBYGCQEGg4KgRLCgIFAQKAgWBgqNG\n",
       "sKAgUBAoCBQECq5iwYKCQEGgIFBwwyxYUBAoCBQECgKFuY+r2MaCgkBBoCBQECg4iwULCgIFgYJA\n",
       "wVONYEFBoCBQECgIFObctz/Ct1lQECgIFAQKAgVnsWBBQaAgUBAoCBQ89gkWFAQKAgWBwhxvmK0s\n",
       "KAgUBAoCBYGCG2bBgoJAQaAgUBAouGEWLCgIFAQKAgVHjWBBQaAgUBAoCBTmvP0JPs6CgkBBoCBQ\n",
       "ECg4iwULCgIFgYJAwVONYEFBoCBQECgIFPwSZ7CgIFAQKAgUBArOYsGCgkBBoCBQ8BtmwYKCQEGg\n",
       "IFAQKLhhFiwoCBQECgIFgYI3zIIFBYGCQEGg4MsswYKCQEGgIFAQKDhqBAsKAgWBgkBBoOAsFiwo\n",
       "CBQECgIFgYKzWLCgIFAQKAgUfJklWFAQKAgUBAoChfFln50FBYGCQEGgIFBwFgsWFAQKAgWBgqNG\n",
       "sKAgUBAoCBQECo4awYKCQEGgIFAQKDiLBQsKAgWBgkDBUSNYUBAoCBQECgIFvycdLCgIFAQKAgWB\n",
       "gt+TDhYUBAoCBYGCo0awoCBQECgIFAQKcxw1VhYUBAoCBYGCQGGus9jKgoJAQaAgUPCGWbCgIFAQ\n",
       "KAgUBAq+zBIsKAgUBAoCBYGClxeCBQWBgkBBoCBQ8PJCsKAgUBAoCBQ8mw8WFAQKAgWBgkDB/3oO\n",
       "FhQECgIFgYJAwSt4wYKCQEGgIFBwwyxYUBAoCBQECgIFN8yCBQWBgkBBoCBQcBYLFhQECgIFgYLX\n",
       "gIMFBYGCQEGgIFDwlcxgQUGgIFAQKAgU/DxOsKAgUBAoCBQcNYIFBYGCQEGgIFBwFQsWFAQKAgWB\n",
       "gkDB/3oOFhQECgIFgYKjRrCgIFAQKAgUBAqezQcLCgIFgYJAQaDgLBYsKAgUBAoCBYGCq1iwoCBQ\n",
       "ECgIFNwwCxYUBAoCBYGCQMFRI1hQECgIFAQKAgW/Jx0sKAgUBAoCBT+XHCwoCBQECgIFgYIbZsGC\n",
       "gkBBoCBQECh4eSFYUBAoCBQECo4awYKCQEGgIFAQKMx9XMY2FhQECgIFgYJAwVksWFAQKAgUBAqe\n",
       "agQLCgIFgYJAQaDgqBEsKAgUBAoCBYGCs1iwoCBQECgIFBw1ggUFgYJAQaAgUPDDAsGCgkBBoCBQ\n",
       "ECjM8Z70yoKCQEGgIFAQKDiLBQsKAgWBgkDBUSNYUBAoCBQECgIFP/ofLCgIFAQKAgWBwlx3zFYW\n",
       "FAQKAgWBgqNGsKAgUBAoCBQECr7tEywoCBQECgIFgYLfkw4WFAQKAgWBgqNGsKAgUBAoCBQECt6T\n",
       "DhYUBAoCBYGCQMENs2BBQaAgUBAoOGoECwoCBYGCQEGg4CoWLCgIFAQKAgWBwhxfyVxZUBAoCBQE\n",
       "Cp5qBAsKAgWBgkBBoOCGWbCgIFAQKAgUBAquYsGCgkBBoCBQECi4igULCgIFgYJAYe7jtzg3FhQE\n",
       "CgIFgYJAwVEjWFAQKAgUBAoChTk/Z7GNBQWBgkBBoDDHDbOVBQWBgkBBoCBQcBULFhQECgIFgYJA\n",
       "wcsLwYKCQEGgIFCY8/NsfmNBQaAgUBAoCBTcMAsWFAQKAgWBgkDBVSxYUBAoCBQECp5qBAsKAgWB\n",
       "gkBBoDDn+fP2Z/g0CwoCBYGCQEGg4IZZsKAgUBAoCBTmOmqsLCgIFAQKAgWBgqNGsKAgUBAoCBQE\n",
       "Cq5iwYKCQEGgIFAQKLijGCwoCBQECgIFR41gQUGgIFAQKAgUHDWCBQWBgkBBoCBQ8J3VYEFBoCBQ\n",
       "ECjMuf5IbywoCBQECgIFgYKjRrCgIFAQKAgUBApzncVWFhQECgIFgYKjRrCgIFAQKAgUBAreMAsW\n",
       "FAQKAgWBgkDBywvBgoJAQaAgUHDDLFhQECgIFAQKAgXP5oMFBYGCQEGgIFDw2CdYUBAoCBQECo4a\n",
       "wYKCQEGgIFAQKHjsEywoCBQECgIFgYKzWLCgIFAQKAgUBAoe+wQLCgIFgYJAwVEjWFAQKAgUBAoC\n",
       "BY99ggUFgYJAQaAgUJh73TDbWFAQKAgUBAqOGsGCgkBBoCBQECjMc+/bn+HTLCgIFAQKAgWBwjzO\n",
       "YisLCgIFgYJAwRtmwYKCQEGgIFAQKDhqBAsKAgWBgkBBoODlhWBBQaAgUBAozOOG2cqCgkBBoCBQ\n",
       "ECg4agQLCgIFgYJAQaDgsU+woCBQECgIFP4DPcHwb7pfSUoAAAAASUVORK5CYII=\n",
       "\" transform=\"translate(2129, 47)\"/>\n",
       "</g>\n",
       "<g clip-path=\"url(#clip7800)\">\n",
       "<text style=\"fill:#000000; fill-opacity:1; font-family:Arial,Helvetica Neue,Helvetica,sans-serif; font-size:48px; text-anchor:start;\" transform=\"rotate(0, 2237.26, 1196.79)\" x=\"2237.26\" y=\"1196.79\">250</text>\n",
       "</g>\n",
       "<g clip-path=\"url(#clip7800)\">\n",
       "<text style=\"fill:#000000; fill-opacity:1; font-family:Arial,Helvetica Neue,Helvetica,sans-serif; font-size:48px; text-anchor:start;\" transform=\"rotate(0, 2237.26, 859.332)\" x=\"2237.26\" y=\"859.332\">500</text>\n",
       "</g>\n",
       "<g clip-path=\"url(#clip7800)\">\n",
       "<text style=\"fill:#000000; fill-opacity:1; font-family:Arial,Helvetica Neue,Helvetica,sans-serif; font-size:48px; text-anchor:start;\" transform=\"rotate(0, 2237.26, 521.874)\" x=\"2237.26\" y=\"521.874\">750</text>\n",
       "</g>\n",
       "<g clip-path=\"url(#clip7800)\">\n",
       "<text style=\"fill:#000000; fill-opacity:1; font-family:Arial,Helvetica Neue,Helvetica,sans-serif; font-size:48px; text-anchor:start;\" transform=\"rotate(0, 2237.26, 184.416)\" x=\"2237.26\" y=\"184.416\">1000</text>\n",
       "</g>\n",
       "<polyline clip-path=\"url(#clip7800)\" style=\"stroke:#000000; stroke-width:4; stroke-opacity:1; fill:none\" points=\"\n",
       "  2201.26,1503.47 2201.26,1183.14 2225.26,1183.14 2201.26,1183.14 2201.26,845.68 2225.26,845.68 2201.26,845.68 2201.26,508.223 2225.26,508.223 2201.26,508.223 \n",
       "  2201.26,170.765 2225.26,170.765 2201.26,170.765 2201.26,47.2441 \n",
       "  \"/>\n",
       "<g clip-path=\"url(#clip7800)\">\n",
       "<text style=\"fill:#000000; fill-opacity:1; font-family:Arial,Helvetica Neue,Helvetica,sans-serif; font-size:66px; text-anchor:middle;\" transform=\"rotate(-90, 2378.86, 775.359)\" x=\"2378.86\" y=\"775.359\"></text>\n",
       "</g>\n",
       "</svg>\n"
      ]
     },
     "execution_count": 37,
     "metadata": {},
     "output_type": "execute_result"
    }
   ],
   "source": [
    "heatmap(lon, lat, age_3D[:,:,iz] * ustrip(1.0u\"s\" |> u\"yr\"))"
   ]
  },
  {
   "cell_type": "markdown",
   "metadata": {},
   "source": [
    "That's it!\n",
    "Good job!\n",
    "\n",
    "At 1000m, the age ranges from a few years below deep water formation regions (Wedell Sea, North Atlantic), and reaches a dozen of centuries in the North Pacific! \n",
    "This is pretty good for so little work!\n",
    "\n",
    "I hope this went well!\n",
    "Thank you for being my guinea pigs, and let me know if you have any feedback!"
   ]
  },
  {
   "cell_type": "code",
   "execution_count": null,
   "metadata": {},
   "outputs": [],
   "source": []
  }
 ],
 "metadata": {
  "kernelspec": {
   "display_name": "Julia 1.1.0",
   "language": "julia",
   "name": "julia-1.1"
  },
  "language_info": {
   "file_extension": ".jl",
   "mimetype": "application/julia",
   "name": "julia",
   "version": "1.1.0"
  }
 },
 "nbformat": 4,
 "nbformat_minor": 2
}
