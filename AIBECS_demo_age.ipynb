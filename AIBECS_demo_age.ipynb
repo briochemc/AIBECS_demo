{
 "cells": [
  {
   "cell_type": "markdown",
   "metadata": {},
   "source": [
    "# AIBECS beta-test\n",
    "\n",
    "Welcome to the beta test of the AIBECS!\n",
    "Well, we are not sure about the name yet, but as of now, AIBECS stands for the **Algebraic Implicit Biogeochemistry Element-Cycling System**.\n",
    "AIBECS may be pronounced like the cool [ibex](https://en.wikipedia.org/wiki/Ibex) (if you have a french accent).\n",
    "AIBECS is a new software written in [Julia](https://julialang.org) to easily create some marine biogeochmistry models in just a few commands.\n",
    "\n",
    "*AIBECS is developed primarily by Benoît Pasquier (pasquieb@uci.edu) with the help of François Primeau (fprimeau@uci.edu) and J. Keith Moore (jkmoore@uci.edu).*"
   ]
  },
  {
   "cell_type": "markdown",
   "metadata": {},
   "source": [
    "**Wait, I'm confused... What is AIBECS exactly?**\n",
    "\n",
    "AIBECS is not just a single model.\n",
    "It's a **system** that allows you to create a global steady-state biogeochmistry model with just a few simple commands.\n",
    "Basically, you just need to tell AIBECS\n",
    "- (i) which ocean circulation to use (from simple toy models of just a few boxes to more complicated global models of the circulation),\n",
    "- (ii) what elements you want to model/track and how each tracer gets converted into other tracers, and\n",
    "- (iii) chose some model parameters to start with.\n",
    "Once the model is set up, you can run simulations."
   ]
  },
  {
   "cell_type": "markdown",
   "metadata": {},
   "source": [
    "**\"Algebraic\", \"implicit\", what do these mean? I thought I was doing some oceanography today...**\n",
    "\n",
    "Well, AIBECS relies on many tools from linear algebra to run simulations and perform optimizations really fast.\n",
    "AIBECS-generated models are described by a state function, denoted $\\boldsymbol{F}$, which defines how the concnetrations of elements in the ocean evolve with time.\n",
    "In mathematical terms, this translates to a system of nonlinear differential equations with the generic form \n",
    "\n",
    "$$\\frac{\\partial \\boldsymbol{x}}{\\partial t} = \\boldsymbol{F}(\\boldsymbol{x}, \\boldsymbol{p}),$$\n",
    "\n",
    "where $\\boldsymbol{x}$ is the state of the model (i.e., the concentrations of the tracers), and $\\boldsymbol{p}$ are model parameters.\n",
    "Here, we are interested in the equilibrium of the system (AKA the steady-state).\n",
    "That is when the time-derivative is $0$, so that\n",
    "\n",
    "$$\\boldsymbol{F}(\\boldsymbol{x}, \\boldsymbol{p}) = 0,$$\n",
    "\n",
    "and $\\boldsymbol{x}$ does not change with time.\n",
    "Instead of simulating the evolution of $\\boldsymbol{x}$ with time and waiting for the system to reach equilibrium — like most biogeochemistry models do — AIBECS uses linear algebra techniques, like Newton's method in multiple dimensions, or Krylov spaces, to implicitly solve for the steady-state solution, hence the \"algebraic\" and \"implicit\" names.\n",
    "This makes AIBECS much faster than the competition!"
   ]
  },
  {
   "cell_type": "markdown",
   "metadata": {},
   "source": [
    "## OK, enought words, show me some AIBECS action!\n",
    "\n",
    "First things first, we must tell Julia that we want to use the package:"
   ]
  },
  {
   "cell_type": "code",
   "execution_count": 1,
   "metadata": {},
   "outputs": [
    {
     "name": "stderr",
     "output_type": "stream",
     "text": [
      "┌ Info: Precompiling AIBECS [ace601d6-714c-11e9-04e5-89b7fad23838]\n",
      "└ @ Base loading.jl:1186\n",
      "┌ Warning: Error requiring Unitful from Flatten:\n",
      "│ ArgumentError: Package Flatten does not have Unitful in its dependencies:\n",
      "│ - If you have Flatten checked out for development and have\n",
      "│   added Unitful as a dependency but haven't updated your primary\n",
      "│   environment's manifest file, try `Pkg.resolve()`.\n",
      "│ - Otherwise you may need to report an issue with Flatten\n",
      "│ Stacktrace:\n",
      "│  [1] require(::Module, ::Symbol) at ./loading.jl:836\n",
      "│  [2] top-level scope at /Users/benoitpasquier/.julia/packages/Flatten/AXBiq/src/Flatten.jl:21\n",
      "│  [3] eval at ./boot.jl:328 [inlined]\n",
      "│  [4] eval at /Users/benoitpasquier/.julia/packages/Flatten/AXBiq/src/Flatten.jl:1 [inlined]\n",
      "│  [5] (::getfield(Flatten, Symbol(\"##3#6\")))() at /Users/benoitpasquier/.julia/packages/Requires/9Jse8/src/require.jl:67\n",
      "│  [6] err(::getfield(Flatten, Symbol(\"##3#6\")), ::Module, ::String) at /Users/benoitpasquier/.julia/packages/Requires/9Jse8/src/require.jl:38\n",
      "│  [7] #2 at /Users/benoitpasquier/.julia/packages/Requires/9Jse8/src/require.jl:66 [inlined]\n",
      "│  [8] withpath(::getfield(Flatten, Symbol(\"##2#5\")), ::String) at /Users/benoitpasquier/.julia/packages/Requires/9Jse8/src/require.jl:28\n",
      "│  [9] #1 at /Users/benoitpasquier/.julia/packages/Requires/9Jse8/src/require.jl:65 [inlined]\n",
      "│  [10] listenpkg(::getfield(Flatten, Symbol(\"##1#4\")), ::Base.PkgId) at /Users/benoitpasquier/.julia/packages/Requires/9Jse8/src/require.jl:13\n",
      "│  [11] macro expansion at /Users/benoitpasquier/.julia/packages/Requires/9Jse8/src/require.jl:64 [inlined]\n",
      "│  [12] __init__() at /Users/benoitpasquier/.julia/packages/Flatten/AXBiq/src/Flatten.jl:20\n",
      "│  [13] _include_from_serialized(::String, ::Array{Any,1}) at ./loading.jl:633\n",
      "│  [14] _require_search_from_serialized(::Base.PkgId, ::String) at ./loading.jl:713\n",
      "│  [15] _tryrequire_from_serialized(::Base.PkgId, ::UInt64, ::Nothing) at ./loading.jl:648\n",
      "│  [16] _require_from_serialized(::String) at ./loading.jl:679\n",
      "│  [17] _require(::Base.PkgId) at ./loading.jl:967\n",
      "│  [18] require(::Base.PkgId) at ./loading.jl:858\n",
      "│  [19] require(::Module, ::Symbol) at ./loading.jl:853\n",
      "│  [20] top-level scope at In[1]:1\n",
      "│  [21] eval at ./boot.jl:328 [inlined]\n",
      "│  [22] softscope_include_string(::Module, ::String, ::String) at /Users/benoitpasquier/.julia/packages/SoftGlobalScope/cSbw5/src/SoftGlobalScope.jl:218\n",
      "│  [23] execute_request(::ZMQ.Socket, ::IJulia.Msg) at /Users/benoitpasquier/.julia/packages/IJulia/gI2uA/src/execute_request.jl:67\n",
      "│  [24] #invokelatest#1 at ./essentials.jl:742 [inlined]\n",
      "│  [25] invokelatest at ./essentials.jl:741 [inlined]\n",
      "│  [26] eventloop(::ZMQ.Socket) at /Users/benoitpasquier/.julia/packages/IJulia/gI2uA/src/eventloop.jl:8\n",
      "│  [27] (::getfield(IJulia, Symbol(\"##15#18\")))() at ./task.jl:259\n",
      "└ @ Requires /Users/benoitpasquier/.julia/packages/Requires/9Jse8/src/require.jl:40\n"
     ]
    }
   ],
   "source": [
    "using AIBECS"
   ]
  },
  {
   "cell_type": "markdown",
   "metadata": {},
   "source": [
    "If it's the first time you are running this line, the package will need precompiling. \n",
    "This may take a minute or two.\n",
    "Just be patient :)\n",
    "You might also see some warnings, just disregard those...\n",
    "If you get an error though, this is the end of our adventure for now...\n",
    "Please send me a copy of the output/error message, and I will try to troubleshoot it.\n",
    "(Note the long `Warning: Error requiring Unitful from Flatten` is actually a warning, not an error, so you should be fine if that's the only thing you see.)\n",
    "\n",
    "### Set up a model\n",
    "\n",
    "Let's start with a very simple model.\n",
    "We will simulate the ideal mean age of water.\n",
    "That is, the average amount of time since a water parcel had last contact with the surface.\n",
    "Here the \"surface\" will be the top layer of the model grid.\n",
    "So, we have one tracer, the age, which we will denote by `age` in Julia.\n",
    "But before diving into the equations, let us chose the circulation. "
   ]
  },
  {
   "cell_type": "markdown",
   "metadata": {},
   "source": [
    "#### The circulation\n",
    "\n",
    "We will use the circulation output from the Ocean Circulation Inverse Model (OCIM) version 1.1.\n",
    "Basically, the OCIM provides scientists, like you and me, with a big sparse matrix that represents the global ocean circulation (advection and diffusion).\n",
    "(For more details, see Tim DeVries's [website](https://tdevries.eri.ucsb.edu/models-and-data-products/) and references therein.)\n",
    "With AIBECS, the OCIM circulation can be loaded really easily, by simply typing "
   ]
  },
  {
   "cell_type": "code",
   "execution_count": 2,
   "metadata": {},
   "outputs": [
    {
     "name": "stdout",
     "output_type": "stream",
     "text": [
      "loading OCIM1 with JLD2\n",
      "This program has requested access to the data dependency MatricesForJAMES.\n",
      "which is not currently installed. It can be installed automatically, and you will not see this message again.\n",
      "\n",
      "References:\n",
      "- DeVries, T. (2014), The oceanic anthropogenic CO2 sink: Storage, air‐sea fluxes, and transports over the industrial era, Global Biogeochem. Cycles, 28, 631–647, doi:10.1002/2013GB004739.\n",
      "- DeVries, T. and F. Primeau, 2011: Dynamically and Observationally Constrained Estimates of Water-Mass Distributions and Ages in the Global Ocean. J. Phys. Oceanogr., 41, 2381–2401, https://doi.org/10.1175/JPO-D-10-05011.1\n",
      "\n",
      "\n",
      "\n",
      "Do you want to download the dataset from http://files.figshare.com/14330492/OCIM1_CTL.jld2 to \"/Users/benoitpasquier/.julia/datadeps/MatricesForJAMES\"?\n",
      "[y/n]\n"
     ]
    },
    {
     "name": "stdin",
     "output_type": "stream",
     "text": [
      "stdin>  y\n"
     ]
    },
    {
     "name": "stderr",
     "output_type": "stream",
     "text": [
      "  % Total    % Received % Xferd  Average Speed   Time    Time     Time  Current\n",
      "                                 Dload  Upload   Total   Spent    Left  Speed\n",
      "100   178  100   178    0     0    203      0 --:--:-- --:--:-- --:--:--   203\n",
      "  0     0    0     0    0     0      0      0 --:--:--  0:00:02 --:--:--     0\n",
      "100  388M  100  388M    0     0   903k      0  0:07:20  0:07:20 --:--:--  816k\n",
      "┌ Warning: Checksum not provided, add to the Datadep Registration the following hash line\n",
      "│   hash = \"345dc8a49445d02091cfe06818bc4ee617bf33dee7f8d92f298c26ed74d84684\"\n",
      "└ @ DataDeps /Users/benoitpasquier/.julia/packages/DataDeps/LiEdA/src/verification.jl:44\n"
     ]
    }
   ],
   "source": [
    "const wet3d, grd, T_OCIM = AIBECS.OCIM1.load() ;"
   ]
  },
  {
   "cell_type": "markdown",
   "metadata": {},
   "source": [
    "(We use the `const` prefix to tell Julia these are constants — it makes Julia faster!)\n",
    "Julia may ask you to download the OCIM matrix for you, in which case you should say yes (i.e., type `y`).\n",
    "Once downloaded, AIBECS will remember where it downloaded the file and it will only load it from your laptop.\n",
    "Additionally to downloading the OCIM file, the last command loads 3 variables in the Julia workspace:\n",
    "- `grd` contains information about the 3D grid of the OCIM circulation, like the latitude, longitude, and depth of each grid boxes. `grd` is a dictionary (a `Dict` in Julia, equivalent to a `struct` in MATLAB).\n",
    "- `wet3d` is a 3D array of the model grid, filled with `1`'s at \"wet\" grid boxes and `0`'s and \"land\" grid boxes.\n",
    "- `T_OCIM` is the transport matrix representing advection and diffusion.\n",
    "\n",
    "Let's check that `T_OCIM` is what we think it is, by using the `typeof` command (which tells you, well, the \"type\" of things):"
   ]
  },
  {
   "cell_type": "code",
   "execution_count": 3,
   "metadata": {},
   "outputs": [
    {
     "data": {
      "text/plain": [
       "SparseMatrixCSC{Float64,Int64}"
      ]
     },
     "execution_count": 3,
     "metadata": {},
     "output_type": "execute_result"
    }
   ],
   "source": [
    "typeof(T_OCIM)"
   ]
  },
  {
   "cell_type": "markdown",
   "metadata": {},
   "source": [
    "Great, it's a sparse matrix! (CSC just means that it is stored in Compressed Sparse Column format.) \n",
    "\n",
    "We can get its size with the `size` command:"
   ]
  },
  {
   "cell_type": "code",
   "execution_count": 4,
   "metadata": {},
   "outputs": [
    {
     "data": {
      "text/plain": [
       "(200160, 200160)"
      ]
     },
     "execution_count": 4,
     "metadata": {},
     "output_type": "execute_result"
    }
   ],
   "source": [
    "size(T_OCIM)"
   ]
  },
  {
   "cell_type": "markdown",
   "metadata": {},
   "source": [
    "Yes, it's quite a big matrix!\n",
    "(But it is sparse, so it has very few non-zero entries.)\n",
    "\n",
    "Anyway, this looks good, so let's move on with setting up the model!\n",
    "\n",
    "The state of the model, $\\boldsymbol{x}$, is entirely defined by one tracer: the age (denoted by the `age` variable). \n",
    "The age is transported along with water parcels, so its transport matrix is the ocean circulation matrix that we just loaded: `T_OCIM`.\n",
    "We tell AIBECS that by first writing the transport matrix for the age as a function of the parameters (although there are no parameters in this simple model)."
   ]
  },
  {
   "cell_type": "code",
   "execution_count": 5,
   "metadata": {},
   "outputs": [
    {
     "data": {
      "text/plain": [
       "T_age (generic function with 1 method)"
      ]
     },
     "execution_count": 5,
     "metadata": {},
     "output_type": "execute_result"
    }
   ],
   "source": [
    "T_age(p) = T_OCIM"
   ]
  },
  {
   "cell_type": "markdown",
   "metadata": {},
   "source": [
    "(Functions in Julia can be created in one line, just as above.)"
   ]
  },
  {
   "cell_type": "markdown",
   "metadata": {},
   "source": [
    "#### The local sources and sinks\n",
    "\n",
    "Now what are the local sources and sinks of `age`?\n",
    "The age increases by $1$ second every second and everywhere.\n",
    "So its source is $1$ (seconds per seconds means it is unitless) everywhere.\n",
    "Let's create the local source function: "
   ]
  },
  {
   "cell_type": "code",
   "execution_count": 6,
   "metadata": {},
   "outputs": [
    {
     "data": {
      "text/plain": [
       "source_age (generic function with 1 method)"
      ]
     },
     "execution_count": 6,
     "metadata": {},
     "output_type": "execute_result"
    }
   ],
   "source": [
    "source_age(age, p) = 1"
   ]
  },
  {
   "cell_type": "markdown",
   "metadata": {},
   "source": [
    "\n",
    "The age is also $0$ at the surface.\n",
    "To enforce that, we restore the age very fast to $0$ at the surface. \n",
    "This will act as the sink for the age.\n",
    "But first, we need to figure out where \"the surface\" is.\n",
    "To do that, AIBECS can generate a number of useful constants for you, like the vector of depths, `z`. \n",
    "This is done via"
   ]
  },
  {
   "cell_type": "code",
   "execution_count": 7,
   "metadata": {},
   "outputs": [],
   "source": [
    "const nb, DIV, Iabove, v, z, ztop = constants(wet3d, grd) ;"
   ]
  },
  {
   "cell_type": "markdown",
   "metadata": {},
   "source": [
    "These are:\n",
    "\n",
    "- `nb` — the number of wet grid boxes. Here, this is also the length of the state vector `x`, because there is only one tracer, `age`.\n",
    "- `DIV` and `Iabove` — not useful for now, but for your information they are the discrete spatial divergence operator, and a matrix shifting indices to grid boxes above, respectively.\n",
    "- `v` — the vector of grid box volumnes.\n",
    "- `z` — the vector of grid box depths.\n",
    "- `ztop` — the vector of the depths of the top of the grid boxes."
   ]
  },
  {
   "cell_type": "markdown",
   "metadata": {},
   "source": [
    "So what is the top layer?\n",
    "Let's investigate what's the minimum depth:"
   ]
  },
  {
   "cell_type": "code",
   "execution_count": 8,
   "metadata": {},
   "outputs": [
    {
     "data": {
      "text/plain": [
       "18.0675569520817"
      ]
     },
     "execution_count": 8,
     "metadata": {},
     "output_type": "execute_result"
    }
   ],
   "source": [
    "minimum(z)"
   ]
  },
  {
   "cell_type": "markdown",
   "metadata": {},
   "source": [
    "So the surface layer in the OCIM grid, which is regular (or flat, if you prefer), has its center at about 18m.\n",
    "Hence, we can create a mask of the surface layer via `z .< 20`, for example.\n",
    "(This will transform into a vector of `0`s and `1`s, depending on whether the depth, `z`, is larger than `20`)\n",
    "Then the local sink can be implemented with a fast relaxation, via"
   ]
  },
  {
   "cell_type": "code",
   "execution_count": 9,
   "metadata": {},
   "outputs": [
    {
     "data": {
      "text/plain": [
       "sink_age (generic function with 1 method)"
      ]
     },
     "execution_count": 9,
     "metadata": {},
     "output_type": "execute_result"
    }
   ],
   "source": [
    "function sink_age(age, p)\n",
    "    τ = p.τ\n",
    "    return age .* (z .< 20) / τ\n",
    "end"
   ]
  },
  {
   "cell_type": "markdown",
   "metadata": {},
   "source": [
    "(Julia allows you to use unicode for your functions and variables, like for `τ`.)\n",
    "Here, we have defined a Julia function using the `function` keyword because the sink is a bit more complicated, so that we needed two lines to define it.\n",
    "The first line unpacks the model parameters, which is just `τ` in this case.\n",
    "We will chose the value for `τ` later.\n",
    "\n",
    "In the function `sink_age`, you might notice that we used a `.` in front of `.*` and `.<`.\n",
    "This is called \"broadcast\" in Julia, and it means it is an element-wise operation.\n",
    "Hence, `sink_age` will be large wherever `age` is large, but only at the surface, where `z .< 20`, which is exactly what we want.\n",
    "\n",
    "Now the sources minus the sinks is simply created by"
   ]
  },
  {
   "cell_type": "code",
   "execution_count": 10,
   "metadata": {},
   "outputs": [
    {
     "data": {
      "text/plain": [
       "sms_age (generic function with 1 method)"
      ]
     },
     "execution_count": 10,
     "metadata": {},
     "output_type": "execute_result"
    }
   ],
   "source": [
    "sms_age(age, p) = source_age(age, p) .- sink_age(age, p)"
   ]
  },
  {
   "cell_type": "markdown",
   "metadata": {},
   "source": [
    "Finally, the last step for the set up is to define $\\boldsymbol{F}$.\n",
    "Using AIBECS, this is done via"
   ]
  },
  {
   "cell_type": "code",
   "execution_count": 11,
   "metadata": {},
   "outputs": [
    {
     "data": {
      "text/plain": [
       "(getfield(AIBECS, Symbol(\"#F#21\")){getfield(AIBECS, Symbol(\"#T#17\")){Tuple{typeof(T_age)}},getfield(AIBECS, Symbol(\"#G#19\")){Tuple{typeof(sms_age)},getfield(AIBECS, Symbol(\"#tracers#15\")){Int64,Int64}}}(getfield(AIBECS, Symbol(\"#T#17\")){Tuple{typeof(T_age)}}((T_age,)), getfield(AIBECS, Symbol(\"#G#19\")){Tuple{typeof(sms_age)},getfield(AIBECS, Symbol(\"#tracers#15\")){Int64,Int64}}((sms_age,), getfield(AIBECS, Symbol(\"#tracers#15\")){Int64,Int64}(1, 200160))), getfield(AIBECS, Symbol(\"#∇ₓF#23\")){getfield(AIBECS, Symbol(\"#T#17\")){Tuple{typeof(T_age)}},getfield(AIBECS, Symbol(\"#∇ₓG#22\")){Tuple{typeof(sms_age)},Int64,Int64}}(getfield(AIBECS, Symbol(\"#T#17\")){Tuple{typeof(T_age)}}((T_age,)), getfield(AIBECS, Symbol(\"#∇ₓG#22\")){Tuple{typeof(sms_age)},Int64,Int64}((sms_age,), 1, 200160)))"
      ]
     },
     "execution_count": 11,
     "metadata": {},
     "output_type": "execute_result"
    }
   ],
   "source": [
    "nt = 1                           # number of tracers\n",
    "T_matrices = (T_age,)           # bundles all the transport matrices in a tuple\n",
    "sources_minus_sinks = (sms_age,) # bundles all the source-sink functions in a tuple\n",
    "F, ∇ₓF = state_function_and_Jacobian(T_matrices, sources_minus_sinks, nt, nb) # generates the state function (and its Jacobian!)"
   ]
  },
  {
   "cell_type": "markdown",
   "metadata": {},
   "source": [
    "Here we have just created a model of the mean age.\n",
    "The first 3 lines in the cell above are just telling AIBECS\n",
    "- how many tracers there are,\n",
    "- what transport matrices it should use for the transport of these tracers\n",
    "- and what local sources and sinks should be appplied to these tracers\n",
    "(Note that this interface was developed for multiple tracers, and might look like too much here, and I might come around to simplify this part in the case of a single tracer, but as of now, this is what we have to do!)\n",
    "\n",
    "The last line creates two functions, `F`, which is the numerical version of the state function, $\\boldsymbol{F}$, of our model of the mean age, and `∇ₓF`, which is the Jacobian matrix of the state function, i.e., $\\nabla_{\\boldsymbol{x}}\\boldsymbol{F}$.\n",
    "Yes, AIBECS just automatically created an exact derivative of your input, using autodifferentiation via dual numbers.\n",
    "(I'd be very excited to detail how this is implemented here, but it is an entirely different discussion.)\n",
    "\n",
    "The Jacobian, `∇ₓF` is essential to solving the steady-state equation $\\boldsymbol{F}(\\boldsymbol{x}, \\boldsymbol{p}) = 0$ fast.\n",
    "Specifically, solving $\\boldsymbol{F}(\\boldsymbol{x}, \\boldsymbol{p}) = 0$ is done via Newton's method.\n",
    "By starting from an initial guess, that you will have to provide, it will iterate over this recursion relation\n",
    "\n",
    "$$\\boldsymbol{x}_{k+1} = \\boldsymbol{x}_{k} - \\nabla_{\\boldsymbol{x}}\\boldsymbol{F}(\\boldsymbol{x}, \\boldsymbol{p})^{-1} \\boldsymbol{F}(\\boldsymbol{x}, \\boldsymbol{p}) $$\n",
    "\n",
    "until if finds a solution.\n",
    "Now I should note that here, our age model is linear in $x$, so that the solution will be found in a single iteration, or a sinle \"matrix inversion\".\n",
    "\n",
    "Anyway, I am nice, so I wrote up an algorithm and an API to solve for the steady-state, so you don't have to worry about al these details!\n",
    "Before we do so, we must first chose some parameters... And I made an API for that!\n",
    "\n"
   ]
  },
  {
   "cell_type": "code",
   "execution_count": 12,
   "metadata": {},
   "outputs": [],
   "source": [
    "t = empty_parameter_table()    # initialize table of parameters\n",
    "add_parameter!(t, :τ, 1u\"s\")   # add the parameter we want (τ = 1s)\n",
    "initialize_parameter_type(t)   # Generate the parameter type"
   ]
  },
  {
   "cell_type": "markdown",
   "metadata": {},
   "source": [
    "The lines above created a table that contains all the info for my parameters, and a corresponding parameter vector, `p₀`. \n",
    "Let us have a look at the table `t` and the parameter `p₀`"
   ]
  },
  {
   "cell_type": "code",
   "execution_count": 13,
   "metadata": {},
   "outputs": [
    {
     "data": {
      "text/html": [
       "<table class=\"data-frame\"><thead><tr><th></th><th>symbol</th><th>value</th><th>unit</th><th>printunit</th><th>mean_obs</th><th>variance_obs</th><th>optimizable</th><th>description</th></tr><tr><th></th><th>Symbol</th><th>Float64</th><th>Unitful…</th><th>Unitful…</th><th>Float64</th><th>Float64</th><th>Bool</th><th>String</th></tr></thead><tbody><p>1 rows × 9 columns (omitted printing of 1 columns)</p><tr><th>1</th><td>τ</td><td>1.0</td><td>s</td><td>s</td><td>NaN</td><td>NaN</td><td>false</td><td></td></tr></tbody></table>"
      ],
      "text/latex": [
       "\\begin{tabular}{r|ccccccccc}\n",
       "\t& symbol & value & unit & printunit & mean\\_obs & variance\\_obs & optimizable & description & \\\\\n",
       "\t\\hline\n",
       "\t& Symbol & Float64 & Unitful… & Unitful… & Float64 & Float64 & Bool & String & \\\\\n",
       "\t\\hline\n",
       "\t1 & τ & 1.0 & s & s & NaN & NaN & false &  & $\\dots$ \\\\\n",
       "\\end{tabular}\n"
      ],
      "text/plain": [
       "1×9 DataFrames.DataFrame. Omitted printing of 3 columns\n",
       "│ Row │ symbol │ value   │ unit     │ printunit │ mean_obs │ variance_obs │\n",
       "│     │ \u001b[90mSymbol\u001b[39m │ \u001b[90mFloat64\u001b[39m │ \u001b[90mUnitful…\u001b[39m │ \u001b[90mUnitful…\u001b[39m  │ \u001b[90mFloat64\u001b[39m  │ \u001b[90mFloat64\u001b[39m      │\n",
       "├─────┼────────┼─────────┼──────────┼───────────┼──────────┼──────────────┤\n",
       "│ 1   │ τ      │ 1.0     │ s        │ s         │ NaN      │ NaN          │"
      ]
     },
     "execution_count": 13,
     "metadata": {},
     "output_type": "execute_result"
    }
   ],
   "source": [
    "t"
   ]
  },
  {
   "cell_type": "code",
   "execution_count": 14,
   "metadata": {},
   "outputs": [
    {
     "data": {
      "text/plain": [
       "     τ = 1.00e+00 [s] (fixed)\n"
      ]
     },
     "execution_count": 14,
     "metadata": {},
     "output_type": "execute_result"
    },
    {
     "name": "stdout",
     "output_type": "stream",
     "text": [
      "AIBECS.Para{Float64}\n"
     ]
    }
   ],
   "source": [
    "p₀"
   ]
  },
  {
   "cell_type": "markdown",
   "metadata": {},
   "source": [
    "Here I did not really need to create `p₀` as a parameters vector.\n",
    "But we are here to learn, and this structure and functionality comes in very handy when one deals with many parameters.\n",
    "(As you can imagine, having all the parameters in a nice table ready for being used in a publication comes quite handy!)\n",
    "\n",
    "Anyway, now let's finish our model, and set an initial guess for the age.\n",
    "Let's assume the age is `1` (seconds) everywhere ():"
   ]
  },
  {
   "cell_type": "code",
   "execution_count": 15,
   "metadata": {},
   "outputs": [
    {
     "data": {
      "text/plain": [
       "200160-element Array{Float64,1}:\n",
       " 1.0\n",
       " 1.0\n",
       " 1.0\n",
       " 1.0\n",
       " 1.0\n",
       " 1.0\n",
       " 1.0\n",
       " 1.0\n",
       " 1.0\n",
       " 1.0\n",
       " 1.0\n",
       " 1.0\n",
       " 1.0\n",
       " ⋮  \n",
       " 1.0\n",
       " 1.0\n",
       " 1.0\n",
       " 1.0\n",
       " 1.0\n",
       " 1.0\n",
       " 1.0\n",
       " 1.0\n",
       " 1.0\n",
       " 1.0\n",
       " 1.0\n",
       " 1.0"
      ]
     },
     "execution_count": 15,
     "metadata": {},
     "output_type": "execute_result"
    }
   ],
   "source": [
    "x₀ = ones(nb)"
   ]
  },
  {
   "cell_type": "markdown",
   "metadata": {},
   "source": [
    "the `ones` function creates a vector of `1`s of the size you give it (the number of wet grid boxes, `nb`, here).\n",
    "\n",
    "### Run the simulation, i.e., solve for the steady state\n",
    "\n",
    "First, we create an instance of the steady-state problem, via"
   ]
  },
  {
   "cell_type": "code",
   "execution_count": 16,
   "metadata": {},
   "outputs": [
    {
     "data": {
      "text/plain": [
       "SteadyStateProblem with uType Array{Float64,1}\n",
       "u0: [1.0, 1.0, 1.0, 1.0, 1.0, 1.0, 1.0, 1.0, 1.0, 1.0  …  1.0, 1.0, 1.0, 1.0, 1.0, 1.0, 1.0, 1.0, 1.0, 1.0]"
      ]
     },
     "execution_count": 16,
     "metadata": {},
     "output_type": "execute_result"
    }
   ],
   "source": [
    "prob = SteadyStateProblem(F, ∇ₓF, x₀, p₀)"
   ]
  },
  {
   "cell_type": "markdown",
   "metadata": {},
   "source": [
    "where we have simply provided the state function, $\\boldsymbol{F}$, the Jacobian, $\\nabla_{\\boldsymbol{x}}\\boldsymbol{F}$, the initial guess and the parameters.\n",
    "The `SteadyStateProblem` function is a standard \"DiffEqBase\" constructor that I have overloaded in my package so that you can easily generate the model here.\n",
    "\n",
    "Finally, we can find the solution in litterally one line, via the `solve` function:"
   ]
  },
  {
   "cell_type": "code",
   "execution_count": 17,
   "metadata": {},
   "outputs": [
    {
     "data": {
      "text/plain": [
       "u: 200160-element Array{Float64,1}:\n",
       "  399.46814547100905     \n",
       " 2241.0172735292244      \n",
       "  569.8178412438035      \n",
       "  102.84590560936934     \n",
       "  557.0875596657695      \n",
       "  340.07798303643773     \n",
       "  448.4099283263086      \n",
       "  510.25015675812784     \n",
       "  295.67236653671455     \n",
       "  340.05521520305314     \n",
       " 1504.0864445392706      \n",
       " 2903.254043050122       \n",
       "  664.5441745745367      \n",
       "    ⋮                    \n",
       "    1.0626342672885206e10\n",
       "    1.0574893419940683e10\n",
       "    1.0670457253167559e10\n",
       "    1.0557301693930773e10\n",
       "    1.043684898888342e10 \n",
       "    1.0739651723277605e10\n",
       "    1.0633121294493988e10\n",
       "    1.048608868048222e10 \n",
       "    1.0248016153142282e10\n",
       "    1.0631798936593086e10\n",
       "    1.0533857006807995e10\n",
       "    1.0420308209358875e10"
      ]
     },
     "execution_count": 17,
     "metadata": {},
     "output_type": "execute_result"
    }
   ],
   "source": [
    "age = solve(prob, CTKAlg())"
   ]
  },
  {
   "cell_type": "markdown",
   "metadata": {},
   "source": [
    "Here, I have provided the `solve` function with two things:\n",
    "- the problem, `prob`, which we just defined, and\n",
    "- the quasi-Newton algorithm that I wrote in Julia, denoted by `CTKAlg()` after C.T. Kelley, who originally wrote it in MATLAB.\n",
    "\n",
    "The last line should take about 10 seconds to 1 minute, depending on your laptop.\n",
    "That's it! \n",
    "We solved for the steady state!\n",
    "Everyone here deserves a nice tap on the shoulder — Good job!\n",
    "Now let's see what this age looks like on a map\n",
    "\n",
    "### Make some figures\n",
    "\n",
    "We will plot a horizontal slice of the age at about 1000m depth.\n",
    "\n",
    "But first, to make figures, we must use a plotting package that you should have `add`ed if you went through the README.\n",
    "To use it we simply type"
   ]
  },
  {
   "cell_type": "code",
   "execution_count": 18,
   "metadata": {},
   "outputs": [
    {
     "name": "stderr",
     "output_type": "stream",
     "text": [
      "┌ Info: Recompiling stale cache file /Users/benoitpasquier/.julia/compiled/v1.1/Plots/ld3vC.ji for Plots [91a5bcdd-55d7-5caf-9e0b-520d859cae80]\n",
      "└ @ Base loading.jl:1184\n"
     ]
    }
   ],
   "source": [
    "using Plots"
   ]
  },
  {
   "cell_type": "markdown",
   "metadata": {},
   "source": [
    "Now we must take `age`, and rearrange it into the 3D grid.\n",
    "For that we create `iwet`, the indices of wet points in the 3D grid."
   ]
  },
  {
   "cell_type": "code",
   "execution_count": 19,
   "metadata": {},
   "outputs": [
    {
     "data": {
      "text/plain": [
       "200160-element Array{Int64,1}:\n",
       "     10\n",
       "     11\n",
       "     12\n",
       "     13\n",
       "     14\n",
       "     15\n",
       "     16\n",
       "     17\n",
       "     18\n",
       "     19\n",
       "     20\n",
       "     21\n",
       "     22\n",
       "      ⋮\n",
       " 390359\n",
       " 390448\n",
       " 390449\n",
       " 390450\n",
       " 390451\n",
       " 390539\n",
       " 390540\n",
       " 390541\n",
       " 390542\n",
       " 390630\n",
       " 390631\n",
       " 390632"
      ]
     },
     "execution_count": 19,
     "metadata": {},
     "output_type": "execute_result"
    }
   ],
   "source": [
    "iwet = (LinearIndices(wet3d))[findall(!iszero, wet3d)] "
   ]
  },
  {
   "cell_type": "markdown",
   "metadata": {},
   "source": [
    "These are the \"linear\" indices of the full 3D grid.\n",
    "(That is, imagine you numbered each box in the 3D grid, then `iwet` is the collection of those numbers for grid boxes that are ocean, AKA not land.)\n",
    "\n",
    "We can now rearrange `age` in these few lines of code:"
   ]
  },
  {
   "cell_type": "code",
   "execution_count": 20,
   "metadata": {},
   "outputs": [
    {
     "data": {
      "text/plain": [
       "(91, 180, 24)"
      ]
     },
     "execution_count": 20,
     "metadata": {},
     "output_type": "execute_result"
    }
   ],
   "source": [
    "age_3D = NaN * wet3d # creates a 3D array of NaNs\n",
    "age_3D[iwet] = age   # Fills the wet grid boxes with the age values\n",
    "size(age_3D)         # Just to check the size of age_3D"
   ]
  },
  {
   "cell_type": "markdown",
   "metadata": {},
   "source": [
    "Thus, `age_3D` is a 3D-array of which I just showed you the size, which corresponds to the OCIM grid.\n",
    "\n",
    "Now we must find the index of the depth that is closest to 1000m.\n",
    "To do that we must use the depth information contained in `grd`.\n",
    "Let us first create a small vector of the depths of the grid:"
   ]
  },
  {
   "cell_type": "code",
   "execution_count": 21,
   "metadata": {},
   "outputs": [
    {
     "data": {
      "text/plain": [
       "24-element Array{Float64,1}:\n",
       "   18.0675569520817 \n",
       "   54.76728201099765\n",
       "   93.72545168892381\n",
       "  137.2005106048704 \n",
       "  187.45090337784762\n",
       "  246.7350746268657 \n",
       "  317.3114689709348 \n",
       "  401.4385310290652 \n",
       "  501.3747054202671 \n",
       "  619.3784367635507 \n",
       "  757.7081696779262 \n",
       "  918.6223487824038 \n",
       " 1104.3794186959938 \n",
       " 1317.2378240377063 \n",
       " 1559.4560094265516 \n",
       " 1833.2924194815398 \n",
       " 2141.005498821681  \n",
       " 2484.853692065986  \n",
       " 2867.0954438334643 \n",
       " 3289.9891987431265 \n",
       " 3755.793401413983  \n",
       " 4266.766496465043  \n",
       " 4825.166928515318  \n",
       " 5433.2531421838175 "
      ]
     },
     "execution_count": 21,
     "metadata": {},
     "output_type": "execute_result"
    }
   ],
   "source": [
    "depth = vec(grd[\"zt\"])"
   ]
  },
  {
   "cell_type": "markdown",
   "metadata": {},
   "source": [
    "So we could count the index of the entry we want, or we could use the `findfirst` function, like below.\n",
    "(Feel free to change the value of `iz` if you want to see a slice at another depth.)"
   ]
  },
  {
   "cell_type": "code",
   "execution_count": 22,
   "metadata": {},
   "outputs": [
    {
     "data": {
      "text/plain": [
       "(13, 1104.3794186959938)"
      ]
     },
     "execution_count": 22,
     "metadata": {},
     "output_type": "execute_result"
    }
   ],
   "source": [
    "iz = findfirst(depth .> 1000)\n",
    "iz, depth[iz]"
   ]
  },
  {
   "cell_type": "markdown",
   "metadata": {},
   "source": [
    "So the 13-th layer lies at 1104m, which should do the trick for us.\n",
    "\n",
    "Finally, we need the latitude and longitudes of the grid, contained in `grd`.\n",
    "As for `depth`, we can use the OCIM's `grd` output:"
   ]
  },
  {
   "cell_type": "code",
   "execution_count": 23,
   "metadata": {},
   "outputs": [
    {
     "data": {
      "text/plain": [
       "([-89.011, -87.033, -85.0549, -83.0769, -81.0989, -79.1209, -77.1429, -75.1648, -73.1868, -71.2088  …  71.2088, 73.1868, 75.1648, 77.1429, 79.1209, 81.0989, 83.0769, 85.0549, 87.033, 89.011], [1.0, 3.0, 5.0, 7.0, 9.0, 11.0, 13.0, 15.0, 17.0, 19.0  …  341.0, 343.0, 345.0, 347.0, 349.0, 351.0, 353.0, 355.0, 357.0, 359.0])"
      ]
     },
     "execution_count": 23,
     "metadata": {},
     "output_type": "execute_result"
    }
   ],
   "source": [
    "lat, lon = vec(grd[\"yt\"]), vec(grd[\"xt\"])"
   ]
  },
  {
   "cell_type": "markdown",
   "metadata": {},
   "source": [
    "So these are the latitudes and longitudes of the map we are about to plot.\n",
    "\n",
    "Finally! Let's have a look at this ideal mean age!\n",
    "For that, we just use the `heatmap` function.\n",
    "(Note I also convert the age from seconds, `u\"s\"`, to years, `u\"yr\"`, in the process.)"
   ]
  },
  {
   "cell_type": "code",
   "execution_count": null,
   "metadata": {},
   "outputs": [],
   "source": [
    "heatmap(lon, lat, age_3D[:,:,iz] * ustrip(1.0u\"s\" |> u\"yr\"))"
   ]
  },
  {
   "cell_type": "markdown",
   "metadata": {},
   "source": [
    "That's it!\n",
    "Good job!\n",
    "\n",
    "At 1000m, the age ranges from a few years below deep water formation regions (Wedell Sea, North Atlantic), and reaches a dozen of centuries in the North Pacific! \n",
    "This is pretty good for so little work!\n",
    "\n",
    "I hope this went well!\n",
    "Thank you for being my guinea pigs, and let me know if you have any feedback!"
   ]
  },
  {
   "cell_type": "code",
   "execution_count": null,
   "metadata": {},
   "outputs": [],
   "source": []
  }
 ],
 "metadata": {
  "kernelspec": {
   "display_name": "Julia 1.1.0",
   "language": "julia",
   "name": "julia-1.1"
  },
  "language_info": {
   "file_extension": ".jl",
   "mimetype": "application/julia",
   "name": "julia",
   "version": "1.1.0"
  }
 },
 "nbformat": 4,
 "nbformat_minor": 2
}
