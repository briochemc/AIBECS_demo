{
 "cells": [
  {
   "cell_type": "markdown",
   "metadata": {},
   "source": [
    "# AIBECS beta-test\n",
    "\n",
    "Welcome to the beta test of the AIBECS! \n",
    "The Algebraic Implicit Biogeochemistry Elemental-Cycling System (AIBECS, pronounced with a french accent like the cool [ibex](https://en.wikipedia.org/wiki/Ibex)) is a new software written in [Julia](https://julialang.org) to easily create some really cool marine biogeochmistry models.\n",
    "(The name is still up in the air by the way, so if you have any ideas let us know.)\n",
    "This software is developed primarily by Benoît Pasquier (pasquieb@uci.edu) with the help of François Primeau (fprimeau@uci.edu) and J. Keith Moore (jkmoore@uci.edu)."
   ]
  },
  {
   "cell_type": "markdown",
   "metadata": {},
   "source": [
    "**Wait, I'm confused... What is AIBECS exactly?**\n",
    "\n",
    "AIBECS is not just a single model.\n",
    "It's a system that allows you to create a global steady-state biogeochmistry model with just a few simple commands.\n",
    "Basically, you just need to tell AIBECS\n",
    "- (i) which ocean circulation to use (from simple toy models of just a few boxes to more complicated global models of the circulation),\n",
    "- (ii) what elements you want to model/track and how each tracer gets converted into other tracers, and\n",
    "- (iii) chose some model parameters to start with.\n",
    "Once the model is set up, you can run simulations."
   ]
  },
  {
   "cell_type": "markdown",
   "metadata": {},
   "source": [
    "**\"Algebraic\", \"implicit\", what do these mean?**\n",
    "\n",
    "Well, AIBECS relies on many tools from linear algebra to run simulations and perform optimizations really fast.\n",
    "AIBECS-generated models are descrived by a state function, denoted $\\boldsymbol{F}$, which defines how the system evolves with time.\n",
    "This can be translated into a system of nonlinear differential equations with the generic form \n",
    "$$\\frac{\\partial \\boldsymbol{x}}{\\partial t} = \\boldsymbol{F}(\\boldsymbol{x}, \\boldsymbol{p}),$$\n",
    "where $\\boldsymbol{x}$ is the state of the model (i.e., the tracers), and $\\boldsymbol{p}$ are model parameters.\n",
    "Here, we are interested in the equilibrium of the system (AKA the steady-state).\n",
    "That is when the time-derivative is $0$, so that\n",
    "$$\\boldsymbol{F}(\\boldsymbol{x}, \\boldsymbol{p}) = 0,$$\n",
    "and $\\boldsymbol{x}$ does not change with time.\n",
    "Instead of simulating the evolution of $\\boldsymbol{x}$ with time and waiting for the system to reach equilibrium, AIBECS uses linear algebra techniques, like Newton's method in multiple dimensions, or Krylov spaces, to implicitly solve for the steady-state solution, hence the \"algebraic\" and \"implicit\" names.\n",
    "This makes AIBECS much faster than the competition!\n",
    "Note that we are not set on the name of the model yet, so if you have a good idea, don't hesitate to tell me (pasquieb@uci.edu)!"
   ]
  },
  {
   "cell_type": "markdown",
   "metadata": {},
   "source": [
    "## Now let's play with AIBECS!\n",
    "\n",
    "First things first, we must tell Julia that we want to use the package:"
   ]
  },
  {
   "cell_type": "code",
   "execution_count": null,
   "metadata": {},
   "outputs": [],
   "source": [
    "using TransportMatrixTools"
   ]
  },
  {
   "cell_type": "markdown",
   "metadata": {},
   "source": [
    "### Set up a model\n",
    "\n",
    "Let's start with a very simple model.\n",
    "We will simulate the mean age of water.\n",
    "In theory, the mean age is average amount of time spent by a water parcel since its last contact with the surface.\n",
    "Here the \"surface\" will be the top layer of the model grid.\n",
    "So, we have one tracer, the age, which we will denote by `age` in Julia.\n",
    "But before diving into the equations, let us chose the circulation. "
   ]
  },
  {
   "cell_type": "markdown",
   "metadata": {},
   "source": [
    "#### The circulation\n",
    "\n",
    "We will use the circulation output from the Ocean Circulation Inverse Model (OCIM) version 1.1.\n",
    "Basically, the OCIM provides scientists, like you and me, with a big sparse matrix that represents the global ocean circulation (advection and diffusion).\n",
    "(For more details, see Tim DeVries's [website](https://tdevries.eri.ucsb.edu/models-and-data-products/) and references therein.)\n",
    "With AIBECS, the OCIM circulation can be loaded really easily, by simply typing "
   ]
  },
  {
   "cell_type": "code",
   "execution_count": null,
   "metadata": {},
   "outputs": [],
   "source": [
    "const wet3d, grd, T_OCIM = TransportMatrixTools.OCIM1.load() ;"
   ]
  },
  {
   "cell_type": "markdown",
   "metadata": {},
   "source": [
    "(We use the `const` prefix to tell Julia these are constants — it makes Julia faster!)\n",
    "Julia may ask you to download the OCIM matrix for you, in which case you should say `yes`.\n",
    "Once downloaded, TransportMatrixTools will remember where it downloaded the file and it will only load it from your laptop.\n",
    "Additionally to downloading the OCIM file, the last command loads 3 variables in the Julia workspace:\n",
    "- `grd` is a dictionary (a `Dict` in Julia, equivalent to a `struct` in MATLAB) containing variables and extra information about the 3D grid of the circulation, like latitudes, longitudes, and depths of grid boxes.\n",
    "- `wet3d` is a 3D array of the model grid, filled with `1`'s at \"wet\" grid boxes and `0`'s and \"land\" grid boxes.\n",
    "- `T_OCIM` is the transport matrix representing advection and diffusion.\n",
    "\n",
    "Let's check that `T_OCIM` is what we think it is, by using the `typeof` command:"
   ]
  },
  {
   "cell_type": "code",
   "execution_count": null,
   "metadata": {},
   "outputs": [],
   "source": [
    "typeof(T_OCIM)"
   ]
  },
  {
   "cell_type": "markdown",
   "metadata": {},
   "source": [
    "Great, it's a sparse matrix! (CSC just means that it is stored in Compressed Sparse Column format.) \n",
    "\n",
    "We can get its size with the `size` command:"
   ]
  },
  {
   "cell_type": "code",
   "execution_count": null,
   "metadata": {},
   "outputs": [],
   "source": [
    "size(T_OCIM)"
   ]
  },
  {
   "cell_type": "markdown",
   "metadata": {},
   "source": [
    "Prefect! Let's move on with setting up the model!\n",
    "\n",
    "So the state of the model, $\\boldsymbol{x}$, is entirely defined by one tracer: the age. \n",
    "So we have only one tracer, `age`. The age is transported along with water parcels, so its transport matrix is the ocean circulation matrix that we just loaded: `T_OCIM`.\n",
    "We tell AIBECS that by first writing the transport matrix for the age as a function of the parameters (although there are no parameters in this simple model)."
   ]
  },
  {
   "cell_type": "code",
   "execution_count": null,
   "metadata": {},
   "outputs": [],
   "source": [
    "T_age(p) = T_OCIM"
   ]
  },
  {
   "cell_type": "markdown",
   "metadata": {},
   "source": [
    "(Functions in Julia can be created in one line, just as above.)"
   ]
  },
  {
   "cell_type": "markdown",
   "metadata": {},
   "source": [
    "#### The local sources and sinks\n",
    "\n",
    "Now what are the local sources and sinks of `age`?\n",
    "The age increases by $1$ second every, well, second, everywhere.\n",
    "So its source is $1$ everywhere.\n",
    "The age is also $0$ at the surface.\n",
    "To implement that we use a fast-relaxation technique, which acts as a sink for the age.\n",
    "That is, we enforce a strong restoration of the age to `0` in the top layer of the model.\n",
    "AIBECS can generate a number of useful constants for you, like the vector of depths, `z`. This is done via"
   ]
  },
  {
   "cell_type": "code",
   "execution_count": null,
   "metadata": {},
   "outputs": [],
   "source": [
    "const nb, DIV, Iabove, v, z, ztop = constants(wet3d, grd) ;"
   ]
  },
  {
   "cell_type": "markdown",
   "metadata": {},
   "source": [
    "These are:\n",
    "\n",
    "- `nb` — the number of wet grid boxes. Here, this is also the length of the state vector `x`, because there is only one tracer, `age`.\n",
    "- `DIV` and `Iabove` — not useful for now, but for your information they are the discrete spatial divergence operator, and a matrix shifting indices to grid boxes above, respectively.\n",
    "- `v` — the vector of grid box volumnes.\n",
    "- `z` — the vector of grid box depths.\n",
    "- `ztop` — the vector of the depths of the top of the grid boxes.\n",
    "\n",
    "We can now create the source for the age (which is `1` everywhere), via"
   ]
  },
  {
   "cell_type": "code",
   "execution_count": null,
   "metadata": {},
   "outputs": [],
   "source": [
    "source_age(age, p) = 1"
   ]
  },
  {
   "cell_type": "markdown",
   "metadata": {},
   "source": [
    "For the sink, we must first define what the top layer is.\n",
    "Let's investigate what's the minimum depth:"
   ]
  },
  {
   "cell_type": "code",
   "execution_count": null,
   "metadata": {},
   "outputs": [],
   "source": [
    "minimum(z)"
   ]
  },
  {
   "cell_type": "markdown",
   "metadata": {},
   "source": [
    "So the surface layer in the OCIM grid, which is regular (or flat, if you prefer), has its center at about 18m.\n",
    "Hence, we can create a mask of the surface layer via `z < 20`, for example.\n",
    "Then the local sink can be implemented with a fast relaxation, via"
   ]
  },
  {
   "cell_type": "code",
   "execution_count": null,
   "metadata": {},
   "outputs": [],
   "source": [
    "function sink_age(age, p)\n",
    "    τ = p.τ\n",
    "    return age .* (z < 20) / τ\n",
    "end"
   ]
  },
  {
   "cell_type": "markdown",
   "metadata": {},
   "source": [
    "(Julia allows you to use unicode for your functions and variables, like for `τ`.)\n",
    "Here, we have defined a Julia function using the `function` keyword because the sink is a bit more complicated, so that we needed two lines to define it.\n",
    "The first line unpacks the model parameters.\n",
    "Here these are just `τ`, the relaxation timescale, which we will set to a low value later, to ensure that the retoring to `0` in the surface layer is fast. \n",
    "\n",
    "Now the sources minus the sinks is simply defined by"
   ]
  },
  {
   "cell_type": "code",
   "execution_count": null,
   "metadata": {},
   "outputs": [],
   "source": [
    "sms_age(age, p) = source_age(age, p) .- sink_age(age, p)"
   ]
  },
  {
   "cell_type": "markdown",
   "metadata": {},
   "source": [
    "Finally, the last step for the set up is to define $\\boldsymbol{F}$.\n",
    "Using AIBECS, this is done via"
   ]
  },
  {
   "cell_type": "code",
   "execution_count": 5,
   "metadata": {},
   "outputs": [
    {
     "ename": "UndefVarError",
     "evalue": "UndefVarError: state_function_and_Jacobian not defined",
     "output_type": "error",
     "traceback": [
      "UndefVarError: state_function_and_Jacobian not defined",
      "",
      "Stacktrace:",
      " [1] top-level scope at In[5]:1"
     ]
    }
   ],
   "source": [
    "nt = 1                           # number of tracers\n",
    "T_matrices = (T_OCIM,)           # bundles all the transport matrices in a tuple\n",
    "sources_minus_sinks = (sms_age,) # bundles all the source-sink functions in a tuple\n",
    "F, ∇ₓF = state_function_and_Jacobian(Ts, Gs, nt, nb) # generates the state function (and its Jacobian!)"
   ]
  },
  {
   "cell_type": "markdown",
   "metadata": {},
   "source": [
    "Here we have just created a model of the mean age.\n",
    "The first 3 lines in the cell above are just telling AIBECS\n",
    "- how many tracers there are,\n",
    "- what transport matrices it should use for the transport of these tracers\n",
    "- and what local sources and sinks should be appplied to these tracers\n",
    "(Note that this interface was developed for multiple tracers, and might look like too much here, and I might come around to simplify this part in the case of a single tracer, but as of now, this is what we have to do!)\n",
    "\n",
    "The last line creates two functions, `F`, which is the numerical version of $\\boldsymbol{F}$ of our model of the mean age, and `∇ₓF`, which is the Jacobian matrix of the state function, i.e., $\\nabla_{\\boldsymbol{x}}\\boldsymbol{F}$.\n",
    "Yes, AIBECS just automatically created an exact derivative of your input, using autodifferentiation via dual numbers.\n",
    "(But this is an entirely different discussion.)\n",
    "\n",
    "The Jacobian, `∇ₓF` is essential to solving the steady-state equation $\\boldsymbol{F}(\\boldsymbol{x}, \\boldsymbol{p}) = 0$ fast.\n",
    "This is done via Newton's method, by starting from an initial guess, that you will have to provide, it will iterate via the recursion\n",
    "$$\\boldsymbol{x}_{k+1} = \\boldsymbol{x}_{k} - \\nabla_{\\boldsymbol{x}}\\boldsymbol{F}(\\boldsymbol{x}, \\boldsymbol{p})^{-1} \\boldsymbol{F}(\\boldsymbol{x}, \\boldsymbol{p}) $$\n",
    "\n",
    "Now I am nice, so I wrote up an algorithm and an API to solve for the steady-state.\n",
    "Before we do so, we must first chose some parameters... And I made an API for that!\n",
    "\n"
   ]
  },
  {
   "cell_type": "code",
   "execution_count": null,
   "metadata": {},
   "outputs": [],
   "source": [
    "t = empty_parameter_table()    # initialize table of parameters\n",
    "add_parameter!(t, :τ, 1u\"s\")   # add the parameter we want (τ = 1s)\n",
    "initialize_parameter_type(t)   # Generate the parameter type"
   ]
  },
  {
   "cell_type": "markdown",
   "metadata": {},
   "source": [
    "The lines above created a parameter vector, `p₀`. \n",
    "Let us have a look at it"
   ]
  },
  {
   "cell_type": "code",
   "execution_count": null,
   "metadata": {},
   "outputs": [],
   "source": [
    "p₀"
   ]
  },
  {
   "cell_type": "markdown",
   "metadata": {},
   "source": [
    "Here I did not really need to create `p₀` as a parameters vector.\n",
    "But we are here to learn, and this structure and functionality comes in very handy when one deals with many parameters.\n",
    "Anyway, now lets finish our model, and set an initial guess for the age.\n",
    "Let's assume the age is `1` (seconds) evrywhere:"
   ]
  },
  {
   "cell_type": "code",
   "execution_count": null,
   "metadata": {},
   "outputs": [],
   "source": [
    "x₀ = ones(nb)"
   ]
  },
  {
   "cell_type": "markdown",
   "metadata": {},
   "source": [
    "### Run the simulation, i.e., solve for the steady state\n",
    "\n",
    "First, we create an instance of the steady-state problem, via"
   ]
  },
  {
   "cell_type": "code",
   "execution_count": null,
   "metadata": {},
   "outputs": [],
   "source": [
    "prob = SteadyStateProblem(F, ∇ₓF, x₀, p₀)"
   ]
  },
  {
   "cell_type": "markdown",
   "metadata": {},
   "source": [
    "Finally, we can find the solution via the `solve` function:"
   ]
  },
  {
   "cell_type": "code",
   "execution_count": null,
   "metadata": {},
   "outputs": [],
   "source": [
    "age = solve(prob, CTKAlg(); preprint=\" \", maxItNewton=50)"
   ]
  },
  {
   "cell_type": "markdown",
   "metadata": {},
   "source": [
    "That's it! \n",
    "We solved for the steady state in just one line!\n",
    "Everyone here deserves a nice tap on the shoulder — Good job!\n",
    "Now let's see what this age looks like on a map\n",
    "\n",
    "### Make some figures\n",
    "\n"
   ]
  },
  {
   "cell_type": "code",
   "execution_count": null,
   "metadata": {},
   "outputs": [],
   "source": []
  }
 ],
 "metadata": {
  "kernelspec": {
   "display_name": "Julia 1.1.0",
   "language": "julia",
   "name": "julia-1.1"
  },
  "language_info": {
   "file_extension": ".jl",
   "mimetype": "application/julia",
   "name": "julia",
   "version": "1.1.0"
  }
 },
 "nbformat": 4,
 "nbformat_minor": 2
}
